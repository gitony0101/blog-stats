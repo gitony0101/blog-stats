{
    "cells": [
        {
            "cell_type": "code",
            "execution_count": 3,
            "metadata": {},
            "outputs": [],
            "source": [
                "import matplotlib.pyplot as plt"
            ]
        },
        {
            "cell_type": "code",
            "execution_count": 5,
            "metadata": {},
            "outputs": [],
            "source": [
                "from skfake.rnd_matrix import *\n",
                "from skfake.record_rnd import *"
            ]
        },
        {
            "cell_type": "markdown",
            "metadata": {},
            "source": [
                "## Generate Random 2D-Matrix"
            ]
        },
        {
            "cell_type": "code",
            "execution_count": 3,
            "metadata": {},
            "outputs": [
                {
                    "data": {
                        "text/plain": [
                            "array([[1.        , 1.        , 1.        ],\n",
                            "       [0.03893811, 0.00634385, 0.08590986],\n",
                            "       [0.0605054 , 0.26070284, 0.36618032],\n",
                            "       [0.31534469, 0.29982061, 0.38234325],\n",
                            "       [0.42671007, 0.33385462, 0.55183039],\n",
                            "       [0.58420912, 0.36283182, 0.62634721],\n",
                            "       [0.78149404, 0.49810944, 0.77458727],\n",
                            "       [0.82688829, 0.61890697, 0.8310605 ],\n",
                            "       [0.90342948, 0.90236071, 0.85624346],\n",
                            "       [0.9152226 , 0.94479603, 0.9075415 ]])"
                        ]
                    },
                    "execution_count": 3,
                    "metadata": {},
                    "output_type": "execute_result"
                }
            ],
            "source": [
                "rnd_2d_from(10, 3, 1)"
            ]
        },
        {
            "cell_type": "code",
            "execution_count": 72,
            "metadata": {},
            "outputs": [
                {
                    "data": {
                        "text/plain": [
                            "array([[1.        , 0.26856653, 0.26997865, 0.34803927, 0.3910673 ,\n",
                            "        0.39262993, 0.41970606, 0.42632363, 0.78726356, 0.99075762],\n",
                            "       [1.        , 0.03511433, 0.1555347 , 0.25568205, 0.35919626,\n",
                            "        0.41171987, 0.43167146, 0.60761789, 0.61186702, 0.8198749 ],\n",
                            "       [1.        , 0.17367154, 0.18014609, 0.36358092, 0.36580432,\n",
                            "        0.44736115, 0.7584564 , 0.77532666, 0.81848618, 0.86744715]])"
                        ]
                    },
                    "execution_count": 72,
                    "metadata": {},
                    "output_type": "execute_result"
                }
            ],
            "source": [
                "def rnd_2d_with_constant(n_groups, n_samples, constant=0, col_ind=0, sort=-1, seed=None, record=None):\n",
                "    if seed:\n",
                "        np.random.seed(seed)\n",
                "    rnd_matrix = np.random.rand(n_groups, n_samples)\n",
                "    \n",
                "    if sort:\n",
                "        rnd_matrix.sort(axis=sort)\n",
                "        \n",
                "    the_col = np.ones(n_groups) * constant\n",
                "    rnd_matrix[:, col_ind] = the_col\n",
                "    return rnd_matrix\n",
                "\n",
                "rnd_2d_with_constant(3, 10, 1, 0)"
            ]
        },
        {
            "cell_type": "code",
            "execution_count": 73,
            "metadata": {},
            "outputs": [
                {
                    "data": {
                        "text/plain": [
                            "array([[0.        , 0.29221687, 0.2965876 , 0.345464  , 0.45778527,\n",
                            "        0.63638042, 0.734354  , 0.83271949, 0.83869048, 0.99664111],\n",
                            "       [0.        , 0.34789497, 0.38822173, 0.54141002, 0.58415786,\n",
                            "        0.59715596, 0.60046602, 0.6791978 , 0.83876977, 0.86459595],\n",
                            "       [0.        , 0.59881943, 0.63246304, 0.71907681, 0.7742332 ,\n",
                            "        0.88572362, 0.89655721, 0.95985047, 0.96547388, 0.97689122]])"
                        ]
                    },
                    "execution_count": 73,
                    "metadata": {},
                    "output_type": "execute_result"
                }
            ],
            "source": [
                "rnd_matrix = rnd_2d_with_constant(3, 10, 0, 0)\n",
                "rnd_matrix"
            ]
        },
        {
            "cell_type": "code",
            "execution_count": 74,
            "metadata": {},
            "outputs": [
                {
                    "data": {
                        "image/png": "[encoded data removed]",
                        "text/plain": [
                            "<Figure size 432x288 with 1 Axes>"
                        ]
                    },
                    "metadata": {
                        "needs_background": "light"
                    },
                    "output_type": "display_data"
                }
            ],
            "source": [
                "\n",
                "_, ax = plt.subplots(figsize=(6, 4))\n",
                "\n",
                "for i in range(rnd_matrix.shape[0]):\n",
                "    ax.plot(range(rnd_matrix.shape[1]), rnd_matrix[i,:])\n"
            ]
        },
        {
            "cell_type": "code",
            "execution_count": 6,
            "metadata": {},
            "outputs": [
                {
                    "data": {
                        "text/html": [
                            "<div>\n",
                            "<style scoped>\n",
                            "    .dataframe tbody tr th:only-of-type {\n",
                            "        vertical-align: middle;\n",
                            "    }\n",
                            "\n",
                            "    .dataframe tbody tr th {\n",
                            "        vertical-align: top;\n",
                            "    }\n",
                            "\n",
                            "    .dataframe thead th {\n",
                            "        text-align: right;\n",
                            "    }\n",
                            "</style>\n",
                            "<table border=\"1\" class=\"dataframe\">\n",
                            "  <thead>\n",
                            "    <tr style=\"text-align: right;\">\n",
                            "      <th></th>\n",
                            "      <th>1</th>\n",
                            "    </tr>\n",
                            "  </thead>\n",
                            "  <tbody>\n",
                            "    <tr>\n",
                            "      <th>0</th>\n",
                            "      <td>0</td>\n",
                            "    </tr>\n",
                            "    <tr>\n",
                            "      <th>1</th>\n",
                            "      <td>1</td>\n",
                            "    </tr>\n",
                            "  </tbody>\n",
                            "</table>\n",
                            "</div>"
                        ],
                        "text/plain": [
                            "   1\n",
                            "0  0\n",
                            "1  1"
                        ]
                    },
                    "execution_count": 6,
                    "metadata": {},
                    "output_type": "execute_result"
                }
            ],
            "source": [
                "import itertools\n",
                "\n",
                "def assign_matrix(*cols):\n",
                "    '''\n",
                "    Assigns a 0-1 matrix for each cols\n",
                "    '''\n",
                "    list_0_1 = list(itertools.product([0, 1], repeat=len(cols)))\n",
                "    assign_df = pd.DataFrame(list_0_1, columns=cols)\n",
                "    return assign_df\n",
                "\n",
                "assign_matrix(1)"
            ]
        },
        {
            "cell_type": "markdown",
            "metadata": {},
            "source": []
        }
    ],
    "metadata": {
        "interpreter": {
            "hash": "e800442a8199dbcc6635d00dd2fa01c9421dc610d63b67de945b4487d2fb3f05"
        },
        "kernelspec": {
            "display_name": "Python 3.9.10 ('kaggle')",
            "language": "python",
            "name": "python3"
        },
        "language_info": {
            "codemirror_mode": {
                "name": "ipython",
                "version": 3
            },
            "file_extension": ".py",
            "mimetype": "text/x-python",
            "name": "python",
            "nbconvert_exporter": "python",
            "pygments_lexer": "ipython3",
            "version": "3.10.2"
        },
        "orig_nbformat": 4
    },
    "nbformat": 4,
    "nbformat_minor": 2
}