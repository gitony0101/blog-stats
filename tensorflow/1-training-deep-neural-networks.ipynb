{
    "cells": [
        {
            "cell_type": "markdown",
            "metadata": {},
            "source": [
                "**Training Deep Neural Networks**\n"
            ]
        },
        {
            "cell_type": "code",
            "execution_count": 1,
            "metadata": {},
            "outputs": [],
            "source": [
                "import matplotlib.pyplot as plt\n",
                "import numpy as np\n",
                "import pandas as pd\n",
                "import tensorflow as tf\n",
                "from tensorflow import keras"
            ]
        },
        {
            "cell_type": "markdown",
            "metadata": {},
            "source": [
                "# Vanishing/Exploding Gradients Problem\n"
            ]
        },
        {
            "cell_type": "code",
            "execution_count": 2,
            "metadata": {},
            "outputs": [],
            "source": [
                "def logit(z):\n",
                "    return 1 / (1 + np.exp(-z))"
            ]
        },
        {
            "cell_type": "code",
            "execution_count": 3,
            "metadata": {},
            "outputs": [
                {
                    "data": {
                        "image/png": "[encoded data removed]",
                        "text/plain": [
                            "<Figure size 432x288 with 1 Axes>"
                        ]
                    },
                    "metadata": {
                        "needs_background": "light"
                    },
                    "output_type": "display_data"
                }
            ],
            "source": [
                "z = np.linspace(-5, 5, 200)\n",
                "\n",
                "plt.plot([-5, 5], [0, 0], 'k-')\n",
                "plt.plot([-5, 5], [1, 1], 'k--')\n",
                "plt.plot([0, 0], [-0.2, 1.2], 'k-')\n",
                "plt.plot([-5, 5], [-3 / 4, 7 / 4], 'g--')\n",
                "plt.plot(z, logit(z), \"b-\", linewidth=2)\n",
                "props = dict(facecolor='black', shrink=0.1)\n",
                "plt.annotate('Saturating',\n",
                "             xytext=(3.5, 0.7),\n",
                "             xy=(5, 1),\n",
                "             arrowprops=props,\n",
                "             fontsize=14,\n",
                "             ha=\"center\")\n",
                "plt.annotate('Saturating',\n",
                "             xytext=(-3.5, 0.3),\n",
                "             xy=(-5, 0),\n",
                "             arrowprops=props,\n",
                "             fontsize=14,\n",
                "             ha=\"center\")\n",
                "plt.annotate('Linear',\n",
                "             xytext=(2, 0.2),\n",
                "             xy=(0, 0.5),\n",
                "             arrowprops=props,\n",
                "             fontsize=14,\n",
                "             ha=\"center\")\n",
                "plt.grid(True)\n",
                "plt.title(\"Sigmoid activation function\", fontsize=14)\n",
                "plt.axis([-5, 5, -0.2, 1.2])\n",
                "\n",
                "plt.show()"
            ]
        },
        {
            "cell_type": "markdown",
            "metadata": {},
            "source": [
                "## Xavier and He Initialization\n"
            ]
        },
        {
            "cell_type": "code",
            "execution_count": 4,
            "metadata": {},
            "outputs": [
                {
                    "data": {
                        "text/plain": [
                            "['Constant',\n",
                            " 'GlorotNormal',\n",
                            " 'GlorotUniform',\n",
                            " 'HeNormal',\n",
                            " 'HeUniform',\n",
                            " 'Identity',\n",
                            " 'Initializer',\n",
                            " 'LecunNormal',\n",
                            " 'LecunUniform',\n",
                            " 'Ones',\n",
                            " 'Orthogonal',\n",
                            " 'RandomNormal',\n",
                            " 'RandomUniform',\n",
                            " 'TruncatedNormal',\n",
                            " 'VarianceScaling',\n",
                            " 'Zeros',\n",
                            " 'constant',\n",
                            " 'deserialize',\n",
                            " 'get',\n",
                            " 'glorot_normal',\n",
                            " 'glorot_uniform',\n",
                            " 'he_normal',\n",
                            " 'he_uniform',\n",
                            " 'identity',\n",
                            " 'lecun_normal',\n",
                            " 'lecun_uniform',\n",
                            " 'ones',\n",
                            " 'orthogonal',\n",
                            " 'random_normal',\n",
                            " 'random_uniform',\n",
                            " 'serialize',\n",
                            " 'truncated_normal',\n",
                            " 'variance_scaling',\n",
                            " 'zeros']"
                        ]
                    },
                    "execution_count": 4,
                    "metadata": {},
                    "output_type": "execute_result"
                }
            ],
            "source": [
                "[name for name in dir(keras.initializers) if not name.startswith(\"_\")]"
            ]
        },
        {
            "cell_type": "code",
            "execution_count": 5,
            "metadata": {},
            "outputs": [
                {
                    "data": {
                        "text/plain": [
                            "<keras.layers.core.dense.Dense at 0x1699e2530>"
                        ]
                    },
                    "execution_count": 5,
                    "metadata": {},
                    "output_type": "execute_result"
                }
            ],
            "source": [
                "keras.layers.Dense(10, activation=\"relu\", kernel_initializer=\"he_normal\")"
            ]
        },
        {
            "cell_type": "code",
            "execution_count": 6,
            "metadata": {},
            "outputs": [
                {
                    "data": {
                        "text/plain": [
                            "<keras.layers.core.dense.Dense at 0x169ce40a0>"
                        ]
                    },
                    "execution_count": 6,
                    "metadata": {},
                    "output_type": "execute_result"
                }
            ],
            "source": [
                "init = keras.initializers.VarianceScaling(scale=2.,\n",
                "                                          mode='fan_avg',\n",
                "                                          distribution='uniform')\n",
                "keras.layers.Dense(10, activation=\"relu\", kernel_initializer=init)"
            ]
        },
        {
            "cell_type": "markdown",
            "metadata": {},
            "source": [
                "## Nonsaturating Activation Functions\n"
            ]
        },
        {
            "cell_type": "markdown",
            "metadata": {},
            "source": [
                "### Leaky ReLU\n"
            ]
        },
        {
            "cell_type": "code",
            "execution_count": 7,
            "metadata": {},
            "outputs": [],
            "source": [
                "def leaky_relu(z, alpha=0.01):\n",
                "    return np.maximum(alpha * z, z)"
            ]
        },
        {
            "cell_type": "code",
            "execution_count": 8,
            "metadata": {},
            "outputs": [
                {
                    "data": {
                        "image/png": "[encoded data removed]",
                        "text/plain": [
                            "<Figure size 432x288 with 1 Axes>"
                        ]
                    },
                    "metadata": {
                        "needs_background": "light"
                    },
                    "output_type": "display_data"
                }
            ],
            "source": [
                "plt.plot(z, leaky_relu(z, 0.05), \"b-\", linewidth=2)\n",
                "plt.plot([-5, 5], [0, 0], 'k-')\n",
                "plt.plot([0, 0], [-0.5, 4.2], 'k-')\n",
                "plt.grid(True)\n",
                "props = dict(facecolor='black', shrink=0.1)\n",
                "plt.annotate('Leak',\n",
                "             xytext=(-3.5, 0.5),\n",
                "             xy=(-5, -0.2),\n",
                "             arrowprops=props,\n",
                "             fontsize=14,\n",
                "             ha=\"center\")\n",
                "plt.title(\"Leaky ReLU activation function\", fontsize=14)\n",
                "plt.axis([-5, 5, -0.5, 4.2])\n",
                "\n",
                "plt.show()"
            ]
        },
        {
            "cell_type": "code",
            "execution_count": 9,
            "metadata": {},
            "outputs": [
                {
                    "data": {
                        "text/plain": [
                            "['deserialize',\n",
                            " 'elu',\n",
                            " 'exponential',\n",
                            " 'gelu',\n",
                            " 'get',\n",
                            " 'hard_sigmoid',\n",
                            " 'linear',\n",
                            " 'relu',\n",
                            " 'selu',\n",
                            " 'serialize',\n",
                            " 'sigmoid',\n",
                            " 'softmax',\n",
                            " 'softplus',\n",
                            " 'softsign',\n",
                            " 'swish',\n",
                            " 'tanh']"
                        ]
                    },
                    "execution_count": 9,
                    "metadata": {},
                    "output_type": "execute_result"
                }
            ],
            "source": [
                "[m for m in dir(keras.activations) if not m.startswith(\"_\")]"
            ]
        },
        {
            "cell_type": "code",
            "execution_count": 10,
            "metadata": {},
            "outputs": [
                {
                    "data": {
                        "text/plain": [
                            "['LeakyReLU', 'PReLU', 'ReLU', 'ThresholdedReLU']"
                        ]
                    },
                    "execution_count": 10,
                    "metadata": {},
                    "output_type": "execute_result"
                }
            ],
            "source": [
                "[m for m in dir(keras.layers) if \"relu\" in m.lower()]"
            ]
        },
        {
            "cell_type": "markdown",
            "metadata": {},
            "source": [
                "Let's train a neural network on Fashion MNIST using the Leaky ReLU:"
            ]
        },
        {
            "cell_type": "code",
            "execution_count": 11,
            "metadata": {},
            "outputs": [],
            "source": [
                "# (X_train_full,\n",
                "#  y_train_full), (X_test, y_test) = keras.datasets.fashion_mnist.load_data()\n",
                "# np.savez(file=\"../../data-handson/fashion_mnist_X.npz\",train=X_train_full, test=X_test)\n",
                "# np.savez(file=\"../../data-handson/fashion_mnist_y.npz\",train=y_train_full, test=y_test)"
            ]
        },
        {
            "cell_type": "code",
            "execution_count": 12,
            "metadata": {},
            "outputs": [],
            "source": [
                "X = np.load(file=\"../../data-handson/fashion_mnist_X.npz\")\n",
                "y = np.load(file=\"../../data-handson/fashion_mnist_y.npz\")\n",
                "X_train_full, X_test = X[\"train\"], X[\"test\"]\n",
                "y_train_full, y_test = y[\"train\"], y[\"test\"]\n",
                "X_train_full = X_train_full / 255.0\n",
                "X_test = X_test / 255.0\n",
                "X_valid, X_train = X_train_full[:5000], X_train_full[5000:]\n",
                "y_valid, y_train = y_train_full[:5000], y_train_full[5000:]"
            ]
        },
        {
            "cell_type": "code",
            "execution_count": 13,
            "metadata": {},
            "outputs": [],
            "source": [
                "tf.random.set_seed(42)\n",
                "np.random.seed(42)\n",
                "\n",
                "model = keras.models.Sequential([\n",
                "    keras.layers.Flatten(input_shape=[28, 28]),\n",
                "    keras.layers.Dense(300, kernel_initializer=\"he_normal\"),\n",
                "    keras.layers.LeakyReLU(),\n",
                "    keras.layers.Dense(100, kernel_initializer=\"he_normal\"),\n",
                "    keras.layers.LeakyReLU(),\n",
                "    keras.layers.Dense(10, activation=\"softmax\")\n",
                "])"
            ]
        },
        {
            "cell_type": "code",
            "execution_count": 14,
            "metadata": {},
            "outputs": [],
            "source": [
                "model.compile(loss=\"sparse_categorical_crossentropy\",\n",
                "              optimizer=keras.optimizers.SGD(learning_rate=1e-3),\n",
                "              metrics=[\"accuracy\"])"
            ]
        },
        {
            "cell_type": "code",
            "execution_count": 15,
            "metadata": {
                "scrolled": true
            },
            "outputs": [
                {
                    "name": "stderr",
                    "output_type": "stream",
                    "text": [
                        "2022-03-11 16:13:44.896866: W tensorflow/core/platform/profile_utils/cpu_utils.cc:128] Failed to get CPU frequency: 0 Hz\n"
                    ]
                },
                {
                    "name": "stdout",
                    "output_type": "stream",
                    "text": [
                        "Epoch 1/10\n",
                        "1719/1719 [==============================] - 7s 4ms/step - loss: 1.2819 - accuracy: 0.6229 - val_loss: 0.8886 - val_accuracy: 0.7160\n",
                        "Epoch 2/10\n",
                        "1719/1719 [==============================] - 6s 4ms/step - loss: 0.7955 - accuracy: 0.7362 - val_loss: 0.7130 - val_accuracy: 0.7656\n",
                        "Epoch 3/10\n",
                        "1719/1719 [==============================] - 6s 3ms/step - loss: 0.6816 - accuracy: 0.7721 - val_loss: 0.6427 - val_accuracy: 0.7898\n",
                        "Epoch 4/10\n",
                        "1719/1719 [==============================] - 6s 4ms/step - loss: 0.6217 - accuracy: 0.7944 - val_loss: 0.5900 - val_accuracy: 0.8066\n",
                        "Epoch 5/10\n",
                        "1719/1719 [==============================] - 7s 4ms/step - loss: 0.5832 - accuracy: 0.8075 - val_loss: 0.5582 - val_accuracy: 0.8198\n",
                        "Epoch 6/10\n",
                        "1719/1719 [==============================] - 7s 4ms/step - loss: 0.5553 - accuracy: 0.8156 - val_loss: 0.5350 - val_accuracy: 0.8238\n",
                        "Epoch 7/10\n",
                        "1719/1719 [==============================] - 5s 3ms/step - loss: 0.5338 - accuracy: 0.8224 - val_loss: 0.5156 - val_accuracy: 0.8304\n",
                        "Epoch 8/10\n",
                        "1719/1719 [==============================] - 4s 2ms/step - loss: 0.5173 - accuracy: 0.8272 - val_loss: 0.5079 - val_accuracy: 0.8284\n",
                        "Epoch 9/10\n",
                        "1719/1719 [==============================] - 4s 2ms/step - loss: 0.5040 - accuracy: 0.8289 - val_loss: 0.4895 - val_accuracy: 0.8386\n",
                        "Epoch 10/10\n",
                        "1719/1719 [==============================] - 4s 3ms/step - loss: 0.4924 - accuracy: 0.8320 - val_loss: 0.4817 - val_accuracy: 0.8396\n"
                    ]
                }
            ],
            "source": [
                "history = model.fit(X_train,\n",
                "                    y_train,\n",
                "                    epochs=10,\n",
                "                    validation_data=(X_valid, y_valid))"
            ]
        },
        {
            "cell_type": "markdown",
            "metadata": {},
            "source": [
                "Now let's try PReLU:\n"
            ]
        },
        {
            "cell_type": "code",
            "execution_count": 16,
            "metadata": {},
            "outputs": [],
            "source": [
                "tf.random.set_seed(42)\n",
                "np.random.seed(42)\n",
                "\n",
                "model = keras.models.Sequential([\n",
                "    keras.layers.Flatten(input_shape=[28, 28]),\n",
                "    keras.layers.Dense(300, kernel_initializer=\"he_normal\"),\n",
                "    keras.layers.PReLU(),\n",
                "    keras.layers.Dense(100, kernel_initializer=\"he_normal\"),\n",
                "    keras.layers.PReLU(),\n",
                "    keras.layers.Dense(10, activation=\"softmax\")\n",
                "])"
            ]
        },
        {
            "cell_type": "code",
            "execution_count": 17,
            "metadata": {},
            "outputs": [],
            "source": [
                "model.compile(loss=\"sparse_categorical_crossentropy\",\n",
                "              optimizer=keras.optimizers.SGD(learning_rate=1e-3),\n",
                "              metrics=[\"accuracy\"])"
            ]
        },
        {
            "cell_type": "code",
            "execution_count": 18,
            "metadata": {},
            "outputs": [
                {
                    "name": "stdout",
                    "output_type": "stream",
                    "text": [
                        "Epoch 1/10\n",
                        "1719/1719 [==============================] - 4s 2ms/step - loss: 1.3461 - accuracy: 0.6209 - val_loss: 0.9255 - val_accuracy: 0.7186\n",
                        "Epoch 2/10\n",
                        "1719/1719 [==============================] - 4s 2ms/step - loss: 0.8197 - accuracy: 0.7356 - val_loss: 0.7305 - val_accuracy: 0.7628\n",
                        "Epoch 3/10\n",
                        "1719/1719 [==============================] - 4s 3ms/step - loss: 0.6966 - accuracy: 0.7693 - val_loss: 0.6565 - val_accuracy: 0.7878\n",
                        "Epoch 4/10\n",
                        "1719/1719 [==============================] - 4s 2ms/step - loss: 0.6331 - accuracy: 0.7909 - val_loss: 0.6004 - val_accuracy: 0.8046\n",
                        "Epoch 5/10\n",
                        "1719/1719 [==============================] - 4s 2ms/step - loss: 0.5917 - accuracy: 0.8057 - val_loss: 0.5656 - val_accuracy: 0.8180\n",
                        "Epoch 6/10\n",
                        "1719/1719 [==============================] - 4s 2ms/step - loss: 0.5618 - accuracy: 0.8135 - val_loss: 0.5406 - val_accuracy: 0.8238\n",
                        "Epoch 7/10\n",
                        "1719/1719 [==============================] - 3s 2ms/step - loss: 0.5390 - accuracy: 0.8205 - val_loss: 0.5196 - val_accuracy: 0.8312\n",
                        "Epoch 8/10\n",
                        "1719/1719 [==============================] - 4s 2ms/step - loss: 0.5213 - accuracy: 0.8257 - val_loss: 0.5113 - val_accuracy: 0.8318\n",
                        "Epoch 9/10\n",
                        "1719/1719 [==============================] - 5s 3ms/step - loss: 0.5070 - accuracy: 0.8288 - val_loss: 0.4916 - val_accuracy: 0.8378\n",
                        "Epoch 10/10\n",
                        "1719/1719 [==============================] - 6s 4ms/step - loss: 0.4945 - accuracy: 0.8316 - val_loss: 0.4826 - val_accuracy: 0.8398\n"
                    ]
                }
            ],
            "source": [
                "history = model.fit(X_train,\n",
                "                    y_train,\n",
                "                    epochs=10,\n",
                "                    validation_data=(X_valid, y_valid))"
            ]
        },
        {
            "cell_type": "markdown",
            "metadata": {},
            "source": [
                "### ELU\n"
            ]
        },
        {
            "cell_type": "code",
            "execution_count": 19,
            "metadata": {},
            "outputs": [],
            "source": [
                "def elu(z, alpha=1):\n",
                "    return np.where(z < 0, alpha * (np.exp(z) - 1), z)"
            ]
        },
        {
            "cell_type": "code",
            "execution_count": 20,
            "metadata": {},
            "outputs": [
                {
                    "data": {
                        "image/png": "[encoded data removed]",
                        "text/plain": [
                            "<Figure size 432x288 with 1 Axes>"
                        ]
                    },
                    "metadata": {
                        "needs_background": "light"
                    },
                    "output_type": "display_data"
                }
            ],
            "source": [
                "plt.plot(z, elu(z), \"b-\", linewidth=2)\n",
                "plt.plot([-5, 5], [0, 0], 'k-')\n",
                "plt.plot([-5, 5], [-1, -1], 'k--')\n",
                "plt.plot([0, 0], [-2.2, 3.2], 'k-')\n",
                "plt.grid(True)\n",
                "plt.title(r\"ELU activation function ($\\alpha=1$)\", fontsize=14)\n",
                "plt.axis([-5, 5, -2.2, 3.2])\n",
                "\n",
                "plt.show()"
            ]
        },
        {
            "cell_type": "markdown",
            "metadata": {},
            "source": [
                "Implementing ELU in TensorFlow is trivial, just specify the activation function when building each layer:\n"
            ]
        },
        {
            "cell_type": "code",
            "execution_count": 21,
            "metadata": {},
            "outputs": [
                {
                    "data": {
                        "text/plain": [
                            "<keras.layers.core.dense.Dense at 0x17b4568c0>"
                        ]
                    },
                    "execution_count": 21,
                    "metadata": {},
                    "output_type": "execute_result"
                }
            ],
            "source": [
                "keras.layers.Dense(10, activation=\"elu\")"
            ]
        },
        {
            "cell_type": "markdown",
            "metadata": {},
            "source": [
                "### SELU\n"
            ]
        },
        {
            "cell_type": "markdown",
            "metadata": {},
            "source": [
                "This activation function was proposed in this [great paper](https://arxiv.org/pdf/1706.02515.pdf) by Günter Klambauer, Thomas Unterthiner and Andreas Mayr, published in June 2017. During training, a neural network composed exclusively of a stack of dense layers using the SELU activation function and LeCun initialization will self-normalize: the output of each layer will tend to preserve the same mean and variance during training, which solves the vanishing/exploding gradients problem. As a result, this activation function outperforms the other activation functions very significantly for such neural nets, so you should really try it out. Unfortunately, the self-normalizing property of the SELU activation function is easily broken: you cannot use ℓ<sub>1</sub> or ℓ<sub>2</sub> regularization, regular dropout, max-norm, skip connections or other non-sequential topologies (so recurrent neural networks won't self-normalize). However, in practice it works quite well with sequential CNNs. If you break self-normalization, SELU will not necessarily outperform other activation functions.\n"
            ]
        },
        {
            "cell_type": "code",
            "execution_count": 22,
            "metadata": {},
            "outputs": [],
            "source": [
                "from scipy.special import erfc\n",
                "\n",
                "# alpha and scale to self normalize with mean 0 and standard deviation 1\n",
                "# (see equation 14 in the paper):\n",
                "alpha_0_1 = -np.sqrt(2 / np.pi) / (erfc(1 / np.sqrt(2)) * np.exp(1 / 2) - 1)\n",
                "scale_0_1 = (1 - erfc(1 / np.sqrt(2)) * np.sqrt(np.e)) * np.sqrt(2 * np.pi) * (\n",
                "    2 * erfc(np.sqrt(2)) * np.e**2 + np.pi * erfc(1 / np.sqrt(2))**2 * np.e -\n",
                "    2 *\n",
                "    (2 + np.pi) * erfc(1 / np.sqrt(2)) * np.sqrt(np.e) + np.pi + 2)**(-1 / 2)\n"
            ]
        },
        {
            "cell_type": "code",
            "execution_count": 23,
            "metadata": {},
            "outputs": [],
            "source": [
                "def selu(z, scale=scale_0_1, alpha=alpha_0_1):\n",
                "    return scale * elu(z, alpha)"
            ]
        },
        {
            "cell_type": "code",
            "execution_count": 25,
            "metadata": {},
            "outputs": [
                {
                    "data": {
                        "image/png": "[encoded data removed]",
                        "text/plain": [
                            "<Figure size 432x288 with 1 Axes>"
                        ]
                    },
                    "metadata": {
                        "needs_background": "light"
                    },
                    "output_type": "display_data"
                }
            ],
            "source": [
                "plt.plot(z, selu(z), \"b-\", linewidth=2)\n",
                "plt.plot([-5, 5], [0, 0], 'k-')\n",
                "plt.plot([-5, 5], [-1.758, -1.758], 'k--')\n",
                "plt.plot([0, 0], [-2.2, 3.2], 'k-')\n",
                "plt.grid(True)\n",
                "plt.title(\"SELU activation function\", fontsize=14)\n",
                "plt.axis([-5, 5, -2.2, 3.2])\n",
                "plt.show()"
            ]
        },
        {
            "cell_type": "markdown",
            "metadata": {},
            "source": [
                "By default, the SELU hyperparameters (`scale` and `alpha`) are tuned in such a way that the mean output of each neuron remains close to 0, and the standard deviation remains close to 1 (assuming the inputs are standardized with mean 0 and standard deviation 1 too). Using this activation function, even a 1,000 layer deep neural network preserves roughly mean 0 and standard deviation 1 across all layers, avoiding the exploding/vanishing gradients problem:\n"
            ]
        },
        {
            "cell_type": "code",
            "execution_count": 26,
            "metadata": {},
            "outputs": [
                {
                    "name": "stdout",
                    "output_type": "stream",
                    "text": [
                        "Layer 0: mean -0.00, std deviation 1.00\n",
                        "Layer 100: mean 0.02, std deviation 0.96\n",
                        "Layer 200: mean 0.01, std deviation 0.90\n",
                        "Layer 300: mean -0.02, std deviation 0.92\n",
                        "Layer 400: mean 0.05, std deviation 0.89\n",
                        "Layer 500: mean 0.01, std deviation 0.93\n",
                        "Layer 600: mean 0.02, std deviation 0.92\n",
                        "Layer 700: mean -0.02, std deviation 0.90\n",
                        "Layer 800: mean 0.05, std deviation 0.83\n",
                        "Layer 900: mean 0.02, std deviation 1.00\n"
                    ]
                }
            ],
            "source": [
                "np.random.seed(42)\n",
                "Z = np.random.normal(size=(500, 100))  # standardized inputs\n",
                "for layer in range(1000):\n",
                "    W = np.random.normal(size=(100, 100),\n",
                "                         scale=np.sqrt(1 / 100))  # LeCun initialization\n",
                "    Z = selu(np.dot(Z, W))\n",
                "    means = np.mean(Z, axis=0).mean()\n",
                "    stds = np.std(Z, axis=0).mean()\n",
                "    if layer % 100 == 0:\n",
                "        print(\"Layer {}: mean {:.2f}, std deviation {:.2f}\".format(\n",
                "            layer, means, stds))\n"
            ]
        },
        {
            "cell_type": "markdown",
            "metadata": {},
            "source": [
                "Using SELU is easy:\n"
            ]
        },
        {
            "cell_type": "code",
            "execution_count": 27,
            "metadata": {},
            "outputs": [
                {
                    "data": {
                        "text/plain": [
                            "<keras.layers.core.dense.Dense at 0x17ccdc2b0>"
                        ]
                    },
                    "execution_count": 27,
                    "metadata": {},
                    "output_type": "execute_result"
                }
            ],
            "source": [
                "keras.layers.Dense(10, activation=\"selu\", kernel_initializer=\"lecun_normal\")\n"
            ]
        },
        {
            "cell_type": "markdown",
            "metadata": {},
            "source": [
                "Let's create a neural net for Fashion MNIST with 100 hidden layers, using the SELU activation function:\n"
            ]
        },
        {
            "cell_type": "code",
            "execution_count": 28,
            "metadata": {},
            "outputs": [],
            "source": [
                "np.random.seed(42)\n",
                "tf.random.set_seed(42)"
            ]
        },
        {
            "cell_type": "code",
            "execution_count": 29,
            "metadata": {},
            "outputs": [],
            "source": [
                "model = keras.models.Sequential()\n",
                "model.add(keras.layers.Flatten(input_shape=[28, 28]))\n",
                "model.add(\n",
                "    keras.layers.Dense(300,\n",
                "                       activation=\"selu\",\n",
                "                       kernel_initializer=\"lecun_normal\"))\n",
                "for layer in range(99):\n",
                "    model.add(\n",
                "        keras.layers.Dense(100,\n",
                "                           activation=\"selu\",\n",
                "                           kernel_initializer=\"lecun_normal\"))\n",
                "model.add(keras.layers.Dense(10, activation=\"softmax\"))"
            ]
        },
        {
            "cell_type": "code",
            "execution_count": 30,
            "metadata": {},
            "outputs": [],
            "source": [
                "model.compile(loss=\"sparse_categorical_crossentropy\",\n",
                "              optimizer=keras.optimizers.SGD(learning_rate=1e-3),\n",
                "              metrics=[\"accuracy\"])"
            ]
        },
        {
            "cell_type": "markdown",
            "metadata": {},
            "source": [
                "Now let's train it. Do not forget to scale the inputs to mean 0 and standard deviation 1:\n"
            ]
        },
        {
            "cell_type": "code",
            "execution_count": 31,
            "metadata": {},
            "outputs": [],
            "source": [
                "pixel_means = X_train.mean(axis=0, keepdims=True)\n",
                "pixel_stds = X_train.std(axis=0, keepdims=True)\n",
                "X_train_scaled = (X_train - pixel_means) / pixel_stds\n",
                "X_valid_scaled = (X_valid - pixel_means) / pixel_stds\n",
                "X_test_scaled = (X_test - pixel_means) / pixel_stds"
            ]
        },
        {
            "cell_type": "code",
            "execution_count": 32,
            "metadata": {},
            "outputs": [
                {
                    "name": "stdout",
                    "output_type": "stream",
                    "text": [
                        "Epoch 1/5\n",
                        "1719/1719 [==============================] - 28s 15ms/step - loss: 1.1658 - accuracy: 0.5572 - val_loss: 0.7362 - val_accuracy: 0.7492\n",
                        "Epoch 2/5\n",
                        "1719/1719 [==============================] - 28s 16ms/step - loss: 0.7124 - accuracy: 0.7435 - val_loss: 0.6097 - val_accuracy: 0.7848\n",
                        "Epoch 3/5\n",
                        "1719/1719 [==============================] - 27s 16ms/step - loss: 0.6053 - accuracy: 0.7821 - val_loss: 0.5891 - val_accuracy: 0.7806\n",
                        "Epoch 4/5\n",
                        "1719/1719 [==============================] - 27s 16ms/step - loss: 0.5503 - accuracy: 0.8063 - val_loss: 0.5160 - val_accuracy: 0.8200\n",
                        "Epoch 5/5\n",
                        "1719/1719 [==============================] - 28s 16ms/step - loss: 0.5016 - accuracy: 0.8231 - val_loss: 0.4691 - val_accuracy: 0.8380\n"
                    ]
                }
            ],
            "source": [
                "history = model.fit(X_train_scaled,\n",
                "                    y_train,\n",
                "                    epochs=5,\n",
                "                    validation_data=(X_valid_scaled, y_valid))"
            ]
        },
        {
            "cell_type": "markdown",
            "metadata": {},
            "source": [
                "Now look at what happens if we try to use the ReLU activation function instead:\n"
            ]
        },
        {
            "cell_type": "code",
            "execution_count": 33,
            "metadata": {},
            "outputs": [],
            "source": [
                "np.random.seed(42)\n",
                "tf.random.set_seed(42)"
            ]
        },
        {
            "cell_type": "code",
            "execution_count": 34,
            "metadata": {},
            "outputs": [],
            "source": [
                "model = keras.models.Sequential()\n",
                "model.add(keras.layers.Flatten(input_shape=[28, 28]))\n",
                "model.add(\n",
                "    keras.layers.Dense(300, activation=\"relu\", kernel_initializer=\"he_normal\"))\n",
                "for layer in range(99):\n",
                "    model.add(\n",
                "        keras.layers.Dense(100,\n",
                "                           activation=\"relu\",\n",
                "                           kernel_initializer=\"he_normal\"))\n",
                "model.add(keras.layers.Dense(10, activation=\"softmax\"))"
            ]
        },
        {
            "cell_type": "code",
            "execution_count": 35,
            "metadata": {},
            "outputs": [],
            "source": [
                "model.compile(loss=\"sparse_categorical_crossentropy\",\n",
                "              optimizer=keras.optimizers.SGD(learning_rate=1e-3),\n",
                "              metrics=[\"accuracy\"])"
            ]
        },
        {
            "cell_type": "code",
            "execution_count": 36,
            "metadata": {},
            "outputs": [
                {
                    "name": "stdout",
                    "output_type": "stream",
                    "text": [
                        "Epoch 1/5\n",
                        "1719/1719 [==============================] - 17s 9ms/step - loss: 1.8219 - accuracy: 0.2501 - val_loss: 1.4374 - val_accuracy: 0.3758\n",
                        "Epoch 2/5\n",
                        "1719/1719 [==============================] - 20s 12ms/step - loss: 1.1882 - accuracy: 0.5012 - val_loss: 0.9614 - val_accuracy: 0.6194\n",
                        "Epoch 3/5\n",
                        "1719/1719 [==============================] - 20s 11ms/step - loss: 0.9784 - accuracy: 0.6036 - val_loss: 1.0107 - val_accuracy: 0.5256\n",
                        "Epoch 4/5\n",
                        "1719/1719 [==============================] - 19s 11ms/step - loss: 0.8797 - accuracy: 0.6521 - val_loss: 0.8039 - val_accuracy: 0.6452\n",
                        "Epoch 5/5\n",
                        "1719/1719 [==============================] - 19s 11ms/step - loss: 0.8647 - accuracy: 0.6606 - val_loss: 0.7879 - val_accuracy: 0.6912\n"
                    ]
                }
            ],
            "source": [
                "history = model.fit(X_train_scaled,\n",
                "                    y_train,\n",
                "                    epochs=5,\n",
                "                    validation_data=(X_valid_scaled, y_valid))"
            ]
        },
        {
            "cell_type": "markdown",
            "metadata": {},
            "source": [
                "Not great at all, we suffered from the vanishing/exploding gradients problem.\n"
            ]
        },
        {
            "cell_type": "markdown",
            "metadata": {},
            "source": [
                "# Batch Normalization\n"
            ]
        },
        {
            "cell_type": "code",
            "execution_count": 37,
            "metadata": {},
            "outputs": [],
            "source": [
                "model = keras.models.Sequential([\n",
                "    keras.layers.Flatten(input_shape=[28, 28]),\n",
                "    keras.layers.BatchNormalization(),\n",
                "    keras.layers.Dense(300, activation=\"relu\"),\n",
                "    keras.layers.BatchNormalization(),\n",
                "    keras.layers.Dense(100, activation=\"relu\"),\n",
                "    keras.layers.BatchNormalization(),\n",
                "    keras.layers.Dense(10, activation=\"softmax\")\n",
                "])"
            ]
        },
        {
            "cell_type": "code",
            "execution_count": 38,
            "metadata": {},
            "outputs": [
                {
                    "name": "stdout",
                    "output_type": "stream",
                    "text": [
                        "Model: \"sequential_4\"\n",
                        "_________________________________________________________________\n",
                        " Layer (type)                Output Shape              Param #   \n",
                        "=================================================================\n",
                        " flatten_4 (Flatten)         (None, 784)               0         \n",
                        "                                                                 \n",
                        " batch_normalization (BatchN  (None, 784)              3136      \n",
                        " ormalization)                                                   \n",
                        "                                                                 \n",
                        " dense_212 (Dense)           (None, 300)               235500    \n",
                        "                                                                 \n",
                        " batch_normalization_1 (Batc  (None, 300)              1200      \n",
                        " hNormalization)                                                 \n",
                        "                                                                 \n",
                        " dense_213 (Dense)           (None, 100)               30100     \n",
                        "                                                                 \n",
                        " batch_normalization_2 (Batc  (None, 100)              400       \n",
                        " hNormalization)                                                 \n",
                        "                                                                 \n",
                        " dense_214 (Dense)           (None, 10)                1010      \n",
                        "                                                                 \n",
                        "=================================================================\n",
                        "Total params: 271,346\n",
                        "Trainable params: 268,978\n",
                        "Non-trainable params: 2,368\n",
                        "_________________________________________________________________\n"
                    ]
                }
            ],
            "source": [
                "model.summary()"
            ]
        },
        {
            "cell_type": "code",
            "execution_count": 39,
            "metadata": {},
            "outputs": [
                {
                    "data": {
                        "text/plain": [
                            "[('batch_normalization/gamma:0', True),\n",
                            " ('batch_normalization/beta:0', True),\n",
                            " ('batch_normalization/moving_mean:0', False),\n",
                            " ('batch_normalization/moving_variance:0', False)]"
                        ]
                    },
                    "execution_count": 39,
                    "metadata": {},
                    "output_type": "execute_result"
                }
            ],
            "source": [
                "bn1 = model.layers[1]\n",
                "[(var.name, var.trainable) for var in bn1.variables]"
            ]
        },
        {
            "cell_type": "code",
            "execution_count": 40,
            "metadata": {},
            "outputs": [],
            "source": [
                "#bn1.updates #deprecated"
            ]
        },
        {
            "cell_type": "code",
            "execution_count": 41,
            "metadata": {},
            "outputs": [],
            "source": [
                "model.compile(loss=\"sparse_categorical_crossentropy\",\n",
                "              optimizer=keras.optimizers.SGD(learning_rate=1e-3),\n",
                "              metrics=[\"accuracy\"])"
            ]
        },
        {
            "cell_type": "code",
            "execution_count": 42,
            "metadata": {},
            "outputs": [
                {
                    "name": "stdout",
                    "output_type": "stream",
                    "text": [
                        "Epoch 1/10\n",
                        "1719/1719 [==============================] - 6s 3ms/step - loss: 0.8750 - accuracy: 0.7123 - val_loss: 0.5526 - val_accuracy: 0.8230\n",
                        "Epoch 2/10\n",
                        "1719/1719 [==============================] - 4s 2ms/step - loss: 0.5753 - accuracy: 0.8032 - val_loss: 0.4725 - val_accuracy: 0.8472\n",
                        "Epoch 3/10\n",
                        "1719/1719 [==============================] - 4s 2ms/step - loss: 0.5190 - accuracy: 0.8204 - val_loss: 0.4376 - val_accuracy: 0.8554\n",
                        "Epoch 4/10\n",
                        "1719/1719 [==============================] - 6s 4ms/step - loss: 0.4827 - accuracy: 0.8323 - val_loss: 0.4152 - val_accuracy: 0.8596\n",
                        "Epoch 5/10\n",
                        "1719/1719 [==============================] - 7s 4ms/step - loss: 0.4565 - accuracy: 0.8406 - val_loss: 0.3998 - val_accuracy: 0.8636\n",
                        "Epoch 6/10\n",
                        "1719/1719 [==============================] - 7s 4ms/step - loss: 0.4398 - accuracy: 0.8473 - val_loss: 0.3867 - val_accuracy: 0.8698\n",
                        "Epoch 7/10\n",
                        "1719/1719 [==============================] - 7s 4ms/step - loss: 0.4242 - accuracy: 0.8513 - val_loss: 0.3764 - val_accuracy: 0.8698\n",
                        "Epoch 8/10\n",
                        "1719/1719 [==============================] - 8s 5ms/step - loss: 0.4144 - accuracy: 0.8541 - val_loss: 0.3713 - val_accuracy: 0.8736\n",
                        "Epoch 9/10\n",
                        "1719/1719 [==============================] - 7s 4ms/step - loss: 0.4024 - accuracy: 0.8581 - val_loss: 0.3633 - val_accuracy: 0.8756\n",
                        "Epoch 10/10\n",
                        "1719/1719 [==============================] - 7s 4ms/step - loss: 0.3914 - accuracy: 0.8623 - val_loss: 0.3574 - val_accuracy: 0.8760\n"
                    ]
                }
            ],
            "source": [
                "history = model.fit(X_train,\n",
                "                    y_train,\n",
                "                    epochs=10,\n",
                "                    validation_data=(X_valid, y_valid))"
            ]
        },
        {
            "cell_type": "markdown",
            "metadata": {},
            "source": [
                "Sometimes applying BN before the activation function works better (there's a debate on this topic). Moreover, the layer before a `BatchNormalization` layer does not need to have bias terms, since the `BatchNormalization` layer has some as well, it would be a waste of parameters, so you can set `use_bias=False` when creating those layers:\n"
            ]
        },
        {
            "cell_type": "code",
            "execution_count": 43,
            "metadata": {},
            "outputs": [],
            "source": [
                "model = keras.models.Sequential([\n",
                "    keras.layers.Flatten(input_shape=[28, 28]),\n",
                "    keras.layers.BatchNormalization(),\n",
                "    keras.layers.Dense(300, use_bias=False),\n",
                "    keras.layers.BatchNormalization(),\n",
                "    keras.layers.Activation(\"relu\"),\n",
                "    keras.layers.Dense(100, use_bias=False),\n",
                "    keras.layers.BatchNormalization(),\n",
                "    keras.layers.Activation(\"relu\"),\n",
                "    keras.layers.Dense(10, activation=\"softmax\")\n",
                "])"
            ]
        },
        {
            "cell_type": "code",
            "execution_count": 44,
            "metadata": {},
            "outputs": [],
            "source": [
                "model.compile(loss=\"sparse_categorical_crossentropy\",\n",
                "              optimizer=keras.optimizers.SGD(learning_rate=1e-3),\n",
                "              metrics=[\"accuracy\"])"
            ]
        },
        {
            "cell_type": "code",
            "execution_count": 45,
            "metadata": {},
            "outputs": [
                {
                    "name": "stdout",
                    "output_type": "stream",
                    "text": [
                        "Epoch 1/10\n",
                        "1719/1719 [==============================] - 7s 4ms/step - loss: 1.0317 - accuracy: 0.6757 - val_loss: 0.6767 - val_accuracy: 0.7810\n",
                        "Epoch 2/10\n",
                        "1719/1719 [==============================] - 7s 4ms/step - loss: 0.6790 - accuracy: 0.7793 - val_loss: 0.5566 - val_accuracy: 0.8180\n",
                        "Epoch 3/10\n",
                        "1719/1719 [==============================] - 8s 5ms/step - loss: 0.5960 - accuracy: 0.8037 - val_loss: 0.5007 - val_accuracy: 0.8362\n",
                        "Epoch 4/10\n",
                        "1719/1719 [==============================] - 7s 4ms/step - loss: 0.5447 - accuracy: 0.8192 - val_loss: 0.4666 - val_accuracy: 0.8448\n",
                        "Epoch 5/10\n",
                        "1719/1719 [==============================] - 7s 4ms/step - loss: 0.5109 - accuracy: 0.8278 - val_loss: 0.4433 - val_accuracy: 0.8536\n",
                        "Epoch 6/10\n",
                        "1719/1719 [==============================] - 7s 4ms/step - loss: 0.4898 - accuracy: 0.8339 - val_loss: 0.4263 - val_accuracy: 0.8548\n",
                        "Epoch 7/10\n",
                        "1719/1719 [==============================] - 6s 4ms/step - loss: 0.4712 - accuracy: 0.8397 - val_loss: 0.4130 - val_accuracy: 0.8568\n",
                        "Epoch 8/10\n",
                        "1719/1719 [==============================] - 6s 4ms/step - loss: 0.4560 - accuracy: 0.8441 - val_loss: 0.4034 - val_accuracy: 0.8608\n",
                        "Epoch 9/10\n",
                        "1719/1719 [==============================] - 7s 4ms/step - loss: 0.4441 - accuracy: 0.8474 - val_loss: 0.3943 - val_accuracy: 0.8638\n",
                        "Epoch 10/10\n",
                        "1719/1719 [==============================] - 7s 4ms/step - loss: 0.4333 - accuracy: 0.8504 - val_loss: 0.3874 - val_accuracy: 0.8658\n"
                    ]
                }
            ],
            "source": [
                "history = model.fit(X_train,\n",
                "                    y_train,\n",
                "                    epochs=10,\n",
                "                    validation_data=(X_valid, y_valid))"
            ]
        },
        {
            "cell_type": "markdown",
            "metadata": {},
            "source": [
                "## Gradient Clipping\n"
            ]
        },
        {
            "cell_type": "markdown",
            "metadata": {},
            "source": [
                "All Keras optimizers accept `clipnorm` or `clipvalue` arguments:\n"
            ]
        },
        {
            "cell_type": "code",
            "execution_count": 46,
            "metadata": {},
            "outputs": [],
            "source": [
                "optimizer = keras.optimizers.SGD(clipvalue=1.0)"
            ]
        },
        {
            "cell_type": "code",
            "execution_count": 47,
            "metadata": {},
            "outputs": [],
            "source": [
                "optimizer = keras.optimizers.SGD(clipnorm=1.0)"
            ]
        },
        {
            "cell_type": "markdown",
            "metadata": {},
            "source": [
                "## Reusing Pretrained Layers\n"
            ]
        },
        {
            "cell_type": "markdown",
            "metadata": {},
            "source": [
                "### Reusing a Keras model\n"
            ]
        },
        {
            "cell_type": "markdown",
            "metadata": {},
            "source": [
                "Let's split the fashion MNIST training set in two:\n",
                "\n",
                "- `X_train_A`: all images of all items except for sandals and shirts (classes 5 and 6).\n",
                "- `X_train_B`: a much smaller training set of just the first 200 images of sandals or shirts.\n",
                "\n",
                "The validation set and the test set are also split this way, but without restricting the number of images.\n",
                "\n",
                "We will train a model on set A (classification task with 8 classes), and try to reuse it to tackle set B (binary classification). We hope to transfer a little bit of knowledge from task A to task B, since classes in set A (sneakers, ankle boots, coats, t-shirts, etc.) are somewhat similar to classes in set B (sandals and shirts). However, since we are using `Dense` layers, only patterns that occur at the same location can be reused (in contrast, convolutional layers will transfer much better, since learned patterns can be detected anywhere on the image, as we will see in the CNN chapter).\n"
            ]
        },
        {
            "cell_type": "code",
            "execution_count": 48,
            "metadata": {},
            "outputs": [],
            "source": [
                "def split_dataset(X, y):\n",
                "    y_5_or_6 = (y == 5) | (y == 6)  # sandals or shirts\n",
                "    y_A = y[~y_5_or_6]\n",
                "    y_A[y_A > 6] -= 2  # class indices 7, 8, 9 should be moved to 5, 6, 7\n",
                "    y_B = (y[y_5_or_6] == 6).astype(\n",
                "        np.float32)  # binary classification task: is it a shirt (class 6)?\n",
                "    return ((X[~y_5_or_6], y_A), (X[y_5_or_6], y_B))\n",
                "\n",
                "\n",
                "(X_train_A, y_train_A), (X_train_B,\n",
                "                         y_train_B) = split_dataset(X_train, y_train)\n",
                "(X_valid_A, y_valid_A), (X_valid_B,\n",
                "                         y_valid_B) = split_dataset(X_valid, y_valid)\n",
                "(X_test_A, y_test_A), (X_test_B, y_test_B) = split_dataset(X_test, y_test)\n",
                "X_train_B = X_train_B[:200]\n",
                "y_train_B = y_train_B[:200]"
            ]
        },
        {
            "cell_type": "code",
            "execution_count": 49,
            "metadata": {},
            "outputs": [
                {
                    "data": {
                        "text/plain": [
                            "(43986, 28, 28)"
                        ]
                    },
                    "execution_count": 49,
                    "metadata": {},
                    "output_type": "execute_result"
                }
            ],
            "source": [
                "X_train_A.shape"
            ]
        },
        {
            "cell_type": "code",
            "execution_count": 50,
            "metadata": {},
            "outputs": [
                {
                    "data": {
                        "text/plain": [
                            "(200, 28, 28)"
                        ]
                    },
                    "execution_count": 50,
                    "metadata": {},
                    "output_type": "execute_result"
                }
            ],
            "source": [
                "X_train_B.shape"
            ]
        },
        {
            "cell_type": "code",
            "execution_count": 51,
            "metadata": {},
            "outputs": [
                {
                    "data": {
                        "text/plain": [
                            "array([4, 0, 5, 7, 7, 7, 4, 4, 3, 4, 0, 1, 6, 3, 4, 3, 2, 6, 5, 3, 4, 5,\n",
                            "       1, 3, 4, 2, 0, 6, 7, 1], dtype=uint8)"
                        ]
                    },
                    "execution_count": 51,
                    "metadata": {},
                    "output_type": "execute_result"
                }
            ],
            "source": [
                "y_train_A[:30]"
            ]
        },
        {
            "cell_type": "code",
            "execution_count": 52,
            "metadata": {},
            "outputs": [
                {
                    "data": {
                        "text/plain": [
                            "array([1., 1., 0., 0., 0., 0., 1., 1., 1., 0., 0., 1., 1., 0., 0., 0., 0.,\n",
                            "       0., 0., 1., 1., 0., 0., 1., 1., 0., 1., 1., 1., 1.], dtype=float32)"
                        ]
                    },
                    "execution_count": 52,
                    "metadata": {},
                    "output_type": "execute_result"
                }
            ],
            "source": [
                "y_train_B[:30]"
            ]
        },
        {
            "cell_type": "code",
            "execution_count": 53,
            "metadata": {},
            "outputs": [],
            "source": [
                "tf.random.set_seed(42)\n",
                "np.random.seed(42)"
            ]
        },
        {
            "cell_type": "code",
            "execution_count": 54,
            "metadata": {},
            "outputs": [],
            "source": [
                "model_A = keras.models.Sequential()\n",
                "model_A.add(keras.layers.Flatten(input_shape=[28, 28]))\n",
                "for n_hidden in (300, 100, 50, 50, 50):\n",
                "    model_A.add(keras.layers.Dense(n_hidden, activation=\"selu\"))\n",
                "model_A.add(keras.layers.Dense(8, activation=\"softmax\"))"
            ]
        },
        {
            "cell_type": "code",
            "execution_count": 55,
            "metadata": {},
            "outputs": [],
            "source": [
                "model_A.compile(loss=\"sparse_categorical_crossentropy\",\n",
                "                optimizer=keras.optimizers.SGD(learning_rate=1e-3),\n",
                "                metrics=[\"accuracy\"])"
            ]
        },
        {
            "cell_type": "code",
            "execution_count": 56,
            "metadata": {},
            "outputs": [
                {
                    "name": "stdout",
                    "output_type": "stream",
                    "text": [
                        "Epoch 1/20\n",
                        "1375/1375 [==============================] - 3s 2ms/step - loss: 0.5926 - accuracy: 0.8104 - val_loss: 0.3896 - val_accuracy: 0.8662\n",
                        "Epoch 2/20\n",
                        "1375/1375 [==============================] - 2s 2ms/step - loss: 0.3523 - accuracy: 0.8785 - val_loss: 0.3288 - val_accuracy: 0.8824\n",
                        "Epoch 3/20\n",
                        "1375/1375 [==============================] - 2s 2ms/step - loss: 0.3171 - accuracy: 0.8896 - val_loss: 0.3014 - val_accuracy: 0.8979\n",
                        "Epoch 4/20\n",
                        "1375/1375 [==============================] - 4s 3ms/step - loss: 0.2973 - accuracy: 0.8974 - val_loss: 0.2894 - val_accuracy: 0.9023\n",
                        "Epoch 5/20\n",
                        "1375/1375 [==============================] - 4s 3ms/step - loss: 0.2835 - accuracy: 0.9021 - val_loss: 0.2776 - val_accuracy: 0.9071\n",
                        "Epoch 6/20\n",
                        "1375/1375 [==============================] - 2s 1ms/step - loss: 0.2730 - accuracy: 0.9060 - val_loss: 0.2733 - val_accuracy: 0.9071\n",
                        "Epoch 7/20\n",
                        "1375/1375 [==============================] - 2s 2ms/step - loss: 0.2642 - accuracy: 0.9090 - val_loss: 0.2718 - val_accuracy: 0.9086\n",
                        "Epoch 8/20\n",
                        "1375/1375 [==============================] - 2s 1ms/step - loss: 0.2573 - accuracy: 0.9126 - val_loss: 0.2589 - val_accuracy: 0.9133\n",
                        "Epoch 9/20\n",
                        "1375/1375 [==============================] - 2s 1ms/step - loss: 0.2519 - accuracy: 0.9134 - val_loss: 0.2562 - val_accuracy: 0.9141\n",
                        "Epoch 10/20\n",
                        "1375/1375 [==============================] - 2s 1ms/step - loss: 0.2469 - accuracy: 0.9153 - val_loss: 0.2542 - val_accuracy: 0.9163\n",
                        "Epoch 11/20\n",
                        "1375/1375 [==============================] - 2s 1ms/step - loss: 0.2423 - accuracy: 0.9176 - val_loss: 0.2496 - val_accuracy: 0.9153\n",
                        "Epoch 12/20\n",
                        "1375/1375 [==============================] - 2s 1ms/step - loss: 0.2383 - accuracy: 0.9186 - val_loss: 0.2509 - val_accuracy: 0.9131\n",
                        "Epoch 13/20\n",
                        "1375/1375 [==============================] - 2s 1ms/step - loss: 0.2351 - accuracy: 0.9200 - val_loss: 0.2446 - val_accuracy: 0.9155\n",
                        "Epoch 14/20\n",
                        "1375/1375 [==============================] - 2s 1ms/step - loss: 0.2316 - accuracy: 0.9211 - val_loss: 0.2416 - val_accuracy: 0.9173\n",
                        "Epoch 15/20\n",
                        "1375/1375 [==============================] - 2s 1ms/step - loss: 0.2288 - accuracy: 0.9213 - val_loss: 0.2448 - val_accuracy: 0.9190\n",
                        "Epoch 16/20\n",
                        "1375/1375 [==============================] - 2s 1ms/step - loss: 0.2255 - accuracy: 0.9223 - val_loss: 0.2384 - val_accuracy: 0.9195\n",
                        "Epoch 17/20\n",
                        "1375/1375 [==============================] - 2s 1ms/step - loss: 0.2231 - accuracy: 0.9233 - val_loss: 0.2410 - val_accuracy: 0.9170\n",
                        "Epoch 18/20\n",
                        "1375/1375 [==============================] - 2s 1ms/step - loss: 0.2201 - accuracy: 0.9244 - val_loss: 0.2428 - val_accuracy: 0.9153\n",
                        "Epoch 19/20\n",
                        "1375/1375 [==============================] - 2s 1ms/step - loss: 0.2178 - accuracy: 0.9253 - val_loss: 0.2330 - val_accuracy: 0.9200\n",
                        "Epoch 20/20\n",
                        "1375/1375 [==============================] - 2s 1ms/step - loss: 0.2156 - accuracy: 0.9260 - val_loss: 0.2334 - val_accuracy: 0.9203\n"
                    ]
                }
            ],
            "source": [
                "history = model_A.fit(X_train_A,\n",
                "                      y_train_A,\n",
                "                      epochs=20,\n",
                "                      validation_data=(X_valid_A, y_valid_A))\n"
            ]
        },
        {
            "cell_type": "code",
            "execution_count": 57,
            "metadata": {},
            "outputs": [],
            "source": [
                "model_A.save(\"../../data-handson/my_model_A.h5\")"
            ]
        },
        {
            "cell_type": "code",
            "execution_count": 58,
            "metadata": {},
            "outputs": [],
            "source": [
                "model_B = keras.models.Sequential()\n",
                "model_B.add(keras.layers.Flatten(input_shape=[28, 28]))\n",
                "for n_hidden in (300, 100, 50, 50, 50):\n",
                "    model_B.add(keras.layers.Dense(n_hidden, activation=\"selu\"))\n",
                "model_B.add(keras.layers.Dense(1, activation=\"sigmoid\"))"
            ]
        },
        {
            "cell_type": "code",
            "execution_count": 59,
            "metadata": {},
            "outputs": [],
            "source": [
                "model_B.compile(loss=\"binary_crossentropy\",\n",
                "                optimizer=keras.optimizers.SGD(learning_rate=1e-3),\n",
                "                metrics=[\"accuracy\"])"
            ]
        },
        {
            "cell_type": "code",
            "execution_count": 60,
            "metadata": {},
            "outputs": [
                {
                    "name": "stdout",
                    "output_type": "stream",
                    "text": [
                        "Epoch 1/20\n",
                        "7/7 [==============================] - 0s 13ms/step - loss: 0.9573 - accuracy: 0.4650 - val_loss: 0.6314 - val_accuracy: 0.6004\n",
                        "Epoch 2/20\n",
                        "7/7 [==============================] - 0s 7ms/step - loss: 0.5692 - accuracy: 0.7450 - val_loss: 0.4784 - val_accuracy: 0.8529\n",
                        "Epoch 3/20\n",
                        "7/7 [==============================] - 0s 6ms/step - loss: 0.4503 - accuracy: 0.8650 - val_loss: 0.4102 - val_accuracy: 0.8945\n",
                        "Epoch 4/20\n",
                        "7/7 [==============================] - 0s 7ms/step - loss: 0.3879 - accuracy: 0.8950 - val_loss: 0.3647 - val_accuracy: 0.9178\n",
                        "Epoch 5/20\n",
                        "7/7 [==============================] - 0s 6ms/step - loss: 0.3435 - accuracy: 0.9250 - val_loss: 0.3300 - val_accuracy: 0.9320\n",
                        "Epoch 6/20\n",
                        "7/7 [==============================] - 0s 7ms/step - loss: 0.3081 - accuracy: 0.9300 - val_loss: 0.3019 - val_accuracy: 0.9402\n",
                        "Epoch 7/20\n",
                        "7/7 [==============================] - 0s 10ms/step - loss: 0.2800 - accuracy: 0.9350 - val_loss: 0.2804 - val_accuracy: 0.9422\n",
                        "Epoch 8/20\n",
                        "7/7 [==============================] - 0s 8ms/step - loss: 0.2564 - accuracy: 0.9450 - val_loss: 0.2606 - val_accuracy: 0.9473\n",
                        "Epoch 9/20\n",
                        "7/7 [==============================] - 0s 6ms/step - loss: 0.2362 - accuracy: 0.9550 - val_loss: 0.2428 - val_accuracy: 0.9523\n",
                        "Epoch 10/20\n",
                        "7/7 [==============================] - 0s 7ms/step - loss: 0.2188 - accuracy: 0.9600 - val_loss: 0.2281 - val_accuracy: 0.9544\n",
                        "Epoch 11/20\n",
                        "7/7 [==============================] - 0s 6ms/step - loss: 0.2036 - accuracy: 0.9700 - val_loss: 0.2150 - val_accuracy: 0.9584\n",
                        "Epoch 12/20\n",
                        "7/7 [==============================] - 0s 6ms/step - loss: 0.1898 - accuracy: 0.9700 - val_loss: 0.2036 - val_accuracy: 0.9584\n",
                        "Epoch 13/20\n",
                        "7/7 [==============================] - 0s 6ms/step - loss: 0.1773 - accuracy: 0.9750 - val_loss: 0.1931 - val_accuracy: 0.9615\n",
                        "Epoch 14/20\n",
                        "7/7 [==============================] - 0s 8ms/step - loss: 0.1668 - accuracy: 0.9800 - val_loss: 0.1838 - val_accuracy: 0.9635\n",
                        "Epoch 15/20\n",
                        "7/7 [==============================] - 0s 6ms/step - loss: 0.1570 - accuracy: 0.9900 - val_loss: 0.1746 - val_accuracy: 0.9686\n",
                        "Epoch 16/20\n",
                        "7/7 [==============================] - 0s 6ms/step - loss: 0.1481 - accuracy: 0.9900 - val_loss: 0.1674 - val_accuracy: 0.9686\n",
                        "Epoch 17/20\n",
                        "7/7 [==============================] - 0s 7ms/step - loss: 0.1406 - accuracy: 0.9900 - val_loss: 0.1604 - val_accuracy: 0.9706\n",
                        "Epoch 18/20\n",
                        "7/7 [==============================] - 0s 6ms/step - loss: 0.1334 - accuracy: 0.9900 - val_loss: 0.1539 - val_accuracy: 0.9706\n",
                        "Epoch 19/20\n",
                        "7/7 [==============================] - 0s 6ms/step - loss: 0.1268 - accuracy: 0.9900 - val_loss: 0.1482 - val_accuracy: 0.9716\n",
                        "Epoch 20/20\n",
                        "7/7 [==============================] - 0s 6ms/step - loss: 0.1208 - accuracy: 0.9900 - val_loss: 0.1431 - val_accuracy: 0.9716\n"
                    ]
                }
            ],
            "source": [
                "history = model_B.fit(X_train_B,\n",
                "                      y_train_B,\n",
                "                      epochs=20,\n",
                "                      validation_data=(X_valid_B, y_valid_B))"
            ]
        },
        {
            "cell_type": "code",
            "execution_count": 61,
            "metadata": {},
            "outputs": [
                {
                    "name": "stdout",
                    "output_type": "stream",
                    "text": [
                        "Model: \"sequential_7\"\n",
                        "_________________________________________________________________\n",
                        " Layer (type)                Output Shape              Param #   \n",
                        "=================================================================\n",
                        " flatten_7 (Flatten)         (None, 784)               0         \n",
                        "                                                                 \n",
                        " dense_224 (Dense)           (None, 300)               235500    \n",
                        "                                                                 \n",
                        " dense_225 (Dense)           (None, 100)               30100     \n",
                        "                                                                 \n",
                        " dense_226 (Dense)           (None, 50)                5050      \n",
                        "                                                                 \n",
                        " dense_227 (Dense)           (None, 50)                2550      \n",
                        "                                                                 \n",
                        " dense_228 (Dense)           (None, 50)                2550      \n",
                        "                                                                 \n",
                        " dense_229 (Dense)           (None, 1)                 51        \n",
                        "                                                                 \n",
                        "=================================================================\n",
                        "Total params: 275,801\n",
                        "Trainable params: 275,801\n",
                        "Non-trainable params: 0\n",
                        "_________________________________________________________________\n"
                    ]
                }
            ],
            "source": [
                "model_B.summary()"
            ]
        },
        {
            "cell_type": "code",
            "execution_count": 87,
            "metadata": {},
            "outputs": [],
            "source": [
                "model_A = keras.models.load_model(\"../../data-handson/my_model_A.h5\")\n",
                "model_B_on_A = keras.models.Sequential(model_A.layers[:-1])\n",
                "model_B_on_A.add(keras.layers.Dense(1, activation=\"sigmoid\"))"
            ]
        },
        {
            "cell_type": "markdown",
            "metadata": {},
            "source": [
                "Note that `model_B_on_A` and `model_A` actually share layers now, so when we train one, it will update both models. If we want to avoid that, we need to build `model_B_on_A` on top of a _clone_ of `model_A`:\n"
            ]
        },
        {
            "cell_type": "code",
            "execution_count": 63,
            "metadata": {},
            "outputs": [],
            "source": [
                "model_A_clone = keras.models.clone_model(model_A)\n",
                "model_A_clone.set_weights(model_A.get_weights())\n",
                "model_B_on_A = keras.models.Sequential(model_A_clone.layers[:-1])\n",
                "model_B_on_A.add(keras.layers.Dense(1, activation=\"sigmoid\"))"
            ]
        },
        {
            "cell_type": "code",
            "execution_count": 64,
            "metadata": {},
            "outputs": [],
            "source": [
                "for layer in model_B_on_A.layers[:-1]:\n",
                "    layer.trainable = False\n",
                "\n",
                "model_B_on_A.compile(loss=\"binary_crossentropy\",\n",
                "                     optimizer=keras.optimizers.SGD(learning_rate=1e-3),\n",
                "                     metrics=[\"accuracy\"])"
            ]
        },
        {
            "cell_type": "code",
            "execution_count": 65,
            "metadata": {},
            "outputs": [
                {
                    "name": "stdout",
                    "output_type": "stream",
                    "text": [
                        "Epoch 1/4\n",
                        "7/7 [==============================] - 0s 14ms/step - loss: 0.2644 - accuracy: 0.9400 - val_loss: 0.2788 - val_accuracy: 0.9270\n",
                        "Epoch 2/4\n",
                        "7/7 [==============================] - 0s 6ms/step - loss: 0.2548 - accuracy: 0.9400 - val_loss: 0.2693 - val_accuracy: 0.9290\n",
                        "Epoch 3/4\n",
                        "7/7 [==============================] - 0s 6ms/step - loss: 0.2455 - accuracy: 0.9400 - val_loss: 0.2606 - val_accuracy: 0.9341\n",
                        "Epoch 4/4\n",
                        "7/7 [==============================] - 0s 5ms/step - loss: 0.2370 - accuracy: 0.9400 - val_loss: 0.2525 - val_accuracy: 0.9381\n",
                        "Epoch 1/16\n",
                        "7/7 [==============================] - 0s 14ms/step - loss: 0.2120 - accuracy: 0.9450 - val_loss: 0.2042 - val_accuracy: 0.9635\n",
                        "Epoch 2/16\n",
                        "7/7 [==============================] - 0s 6ms/step - loss: 0.1695 - accuracy: 0.9550 - val_loss: 0.1718 - val_accuracy: 0.9716\n",
                        "Epoch 3/16\n",
                        "7/7 [==============================] - 0s 6ms/step - loss: 0.1405 - accuracy: 0.9700 - val_loss: 0.1492 - val_accuracy: 0.9807\n",
                        "Epoch 4/16\n",
                        "7/7 [==============================] - 0s 6ms/step - loss: 0.1196 - accuracy: 0.9800 - val_loss: 0.1326 - val_accuracy: 0.9828\n",
                        "Epoch 5/16\n",
                        "7/7 [==============================] - 0s 6ms/step - loss: 0.1045 - accuracy: 0.9900 - val_loss: 0.1201 - val_accuracy: 0.9848\n",
                        "Epoch 6/16\n",
                        "7/7 [==============================] - 0s 6ms/step - loss: 0.0928 - accuracy: 0.9950 - val_loss: 0.1103 - val_accuracy: 0.9858\n",
                        "Epoch 7/16\n",
                        "7/7 [==============================] - 0s 6ms/step - loss: 0.0836 - accuracy: 0.9950 - val_loss: 0.1021 - val_accuracy: 0.9858\n",
                        "Epoch 8/16\n",
                        "7/7 [==============================] - 0s 6ms/step - loss: 0.0762 - accuracy: 0.9950 - val_loss: 0.0954 - val_accuracy: 0.9878\n",
                        "Epoch 9/16\n",
                        "7/7 [==============================] - 0s 6ms/step - loss: 0.0698 - accuracy: 0.9950 - val_loss: 0.0893 - val_accuracy: 0.9868\n",
                        "Epoch 10/16\n",
                        "7/7 [==============================] - 0s 6ms/step - loss: 0.0641 - accuracy: 0.9950 - val_loss: 0.0845 - val_accuracy: 0.9888\n",
                        "Epoch 11/16\n",
                        "7/7 [==============================] - 0s 6ms/step - loss: 0.0596 - accuracy: 1.0000 - val_loss: 0.0801 - val_accuracy: 0.9888\n",
                        "Epoch 12/16\n",
                        "7/7 [==============================] - 0s 7ms/step - loss: 0.0554 - accuracy: 1.0000 - val_loss: 0.0763 - val_accuracy: 0.9888\n",
                        "Epoch 13/16\n",
                        "7/7 [==============================] - 0s 6ms/step - loss: 0.0517 - accuracy: 1.0000 - val_loss: 0.0729 - val_accuracy: 0.9888\n",
                        "Epoch 14/16\n",
                        "7/7 [==============================] - 0s 6ms/step - loss: 0.0485 - accuracy: 1.0000 - val_loss: 0.0701 - val_accuracy: 0.9878\n",
                        "Epoch 15/16\n",
                        "7/7 [==============================] - 0s 6ms/step - loss: 0.0459 - accuracy: 1.0000 - val_loss: 0.0676 - val_accuracy: 0.9878\n",
                        "Epoch 16/16\n",
                        "7/7 [==============================] - 0s 6ms/step - loss: 0.0435 - accuracy: 1.0000 - val_loss: 0.0653 - val_accuracy: 0.9878\n"
                    ]
                }
            ],
            "source": [
                "history = model_B_on_A.fit(X_train_B,\n",
                "                           y_train_B,\n",
                "                           epochs=4,\n",
                "                           validation_data=(X_valid_B, y_valid_B))\n",
                "\n",
                "for layer in model_B_on_A.layers[:-1]:\n",
                "    layer.trainable = True\n",
                "\n",
                "model_B_on_A.compile(loss=\"binary_crossentropy\",\n",
                "                     optimizer=keras.optimizers.SGD(learning_rate=1e-3),\n",
                "                     metrics=[\"accuracy\"])\n",
                "history = model_B_on_A.fit(X_train_B,\n",
                "                           y_train_B,\n",
                "                           epochs=16,\n",
                "                           validation_data=(X_valid_B, y_valid_B))"
            ]
        },
        {
            "cell_type": "markdown",
            "metadata": {},
            "source": [
                "So, what's the final verdict?\n"
            ]
        },
        {
            "cell_type": "code",
            "execution_count": 66,
            "metadata": {},
            "outputs": [
                {
                    "name": "stdout",
                    "output_type": "stream",
                    "text": [
                        "63/63 [==============================] - 0s 728us/step - loss: 0.1408 - accuracy: 0.9705\n"
                    ]
                },
                {
                    "data": {
                        "text/plain": [
                            "[0.1408407986164093, 0.9704999923706055]"
                        ]
                    },
                    "execution_count": 66,
                    "metadata": {},
                    "output_type": "execute_result"
                }
            ],
            "source": [
                "model_B.evaluate(X_test_B, y_test_B)"
            ]
        },
        {
            "cell_type": "code",
            "execution_count": 67,
            "metadata": {},
            "outputs": [
                {
                    "name": "stdout",
                    "output_type": "stream",
                    "text": [
                        "63/63 [==============================] - 0s 721us/step - loss: 0.0563 - accuracy: 0.9940\n"
                    ]
                },
                {
                    "data": {
                        "text/plain": [
                            "[0.0563034787774086, 0.9940000176429749]"
                        ]
                    },
                    "execution_count": 67,
                    "metadata": {},
                    "output_type": "execute_result"
                }
            ],
            "source": [
                "model_B_on_A.evaluate(X_test_B, y_test_B)"
            ]
        },
        {
            "cell_type": "markdown",
            "metadata": {},
            "source": [
                "Great! We got quite a bit of transfer: the error rate dropped by a factor of 4.9!\n"
            ]
        },
        {
            "cell_type": "code",
            "execution_count": 68,
            "metadata": {},
            "outputs": [
                {
                    "data": {
                        "text/plain": [
                            "4.916666666666718"
                        ]
                    },
                    "execution_count": 68,
                    "metadata": {},
                    "output_type": "execute_result"
                }
            ],
            "source": [
                "(100 - 97.05) / (100 - 99.40)"
            ]
        },
        {
            "cell_type": "markdown",
            "metadata": {},
            "source": [
                "# Faster Optimizers\n"
            ]
        },
        {
            "cell_type": "markdown",
            "metadata": {},
            "source": [
                "## Momentum optimization\n"
            ]
        },
        {
            "cell_type": "code",
            "execution_count": 69,
            "metadata": {},
            "outputs": [],
            "source": [
                "optimizer = keras.optimizers.SGD(learning_rate=0.001, momentum=0.9)"
            ]
        },
        {
            "cell_type": "markdown",
            "metadata": {},
            "source": [
                "## Nesterov Accelerated Gradient\n"
            ]
        },
        {
            "cell_type": "code",
            "execution_count": 70,
            "metadata": {},
            "outputs": [],
            "source": [
                "optimizer = keras.optimizers.SGD(learning_rate=0.001,\n",
                "                                 momentum=0.9,\n",
                "                                 nesterov=True)\n"
            ]
        },
        {
            "cell_type": "markdown",
            "metadata": {},
            "source": [
                "## AdaGrad\n"
            ]
        },
        {
            "cell_type": "code",
            "execution_count": 71,
            "metadata": {},
            "outputs": [],
            "source": [
                "optimizer = keras.optimizers.Adagrad(learning_rate=0.001)"
            ]
        },
        {
            "cell_type": "markdown",
            "metadata": {},
            "source": [
                "## RMSProp\n"
            ]
        },
        {
            "cell_type": "code",
            "execution_count": 72,
            "metadata": {},
            "outputs": [],
            "source": [
                "optimizer = keras.optimizers.RMSprop(learning_rate=0.001, rho=0.9)"
            ]
        },
        {
            "cell_type": "markdown",
            "metadata": {},
            "source": [
                "## Adam Optimization\n"
            ]
        },
        {
            "cell_type": "code",
            "execution_count": 73,
            "metadata": {},
            "outputs": [],
            "source": [
                "optimizer = keras.optimizers.Adam(learning_rate=0.001,\n",
                "                                  beta_1=0.9,\n",
                "                                  beta_2=0.999)\n"
            ]
        },
        {
            "cell_type": "markdown",
            "metadata": {},
            "source": [
                "## Adamax Optimization\n"
            ]
        },
        {
            "cell_type": "code",
            "execution_count": 74,
            "metadata": {},
            "outputs": [],
            "source": [
                "optimizer = keras.optimizers.Adamax(learning_rate=0.001,\n",
                "                                    beta_1=0.9,\n",
                "                                    beta_2=0.999)\n"
            ]
        },
        {
            "cell_type": "markdown",
            "metadata": {},
            "source": [
                "## Nadam Optimization\n"
            ]
        },
        {
            "cell_type": "code",
            "execution_count": 75,
            "metadata": {},
            "outputs": [],
            "source": [
                "optimizer = keras.optimizers.Nadam(learning_rate=0.001,\n",
                "                                   beta_1=0.9,\n",
                "                                   beta_2=0.999)"
            ]
        },
        {
            "cell_type": "markdown",
            "metadata": {},
            "source": [
                "## Learning Rate Scheduling\n"
            ]
        },
        {
            "cell_type": "markdown",
            "metadata": {},
            "source": [
                "### Power Scheduling\n"
            ]
        },
        {
            "cell_type": "markdown",
            "metadata": {},
            "source": [
                "`lr = lr0 / (1 + steps / s)**c`\n",
                "\n",
                "- Keras uses `c=1` and `s = 1 / decay`\n"
            ]
        },
        {
            "cell_type": "code",
            "execution_count": 76,
            "metadata": {},
            "outputs": [],
            "source": [
                "optimizer = keras.optimizers.SGD(learning_rate=0.01, decay=1e-4)"
            ]
        },
        {
            "cell_type": "code",
            "execution_count": 77,
            "metadata": {},
            "outputs": [],
            "source": [
                "model = keras.models.Sequential([\n",
                "    keras.layers.Flatten(input_shape=[28, 28]),\n",
                "    keras.layers.Dense(300,\n",
                "                       activation=\"selu\",\n",
                "                       kernel_initializer=\"lecun_normal\"),\n",
                "    keras.layers.Dense(100,\n",
                "                       activation=\"selu\",\n",
                "                       kernel_initializer=\"lecun_normal\"),\n",
                "    keras.layers.Dense(10, activation=\"softmax\")\n",
                "])\n",
                "model.compile(loss=\"sparse_categorical_crossentropy\",\n",
                "              optimizer=optimizer,\n",
                "              metrics=[\"accuracy\"])\n"
            ]
        },
        {
            "cell_type": "code",
            "execution_count": 78,
            "metadata": {},
            "outputs": [
                {
                    "name": "stdout",
                    "output_type": "stream",
                    "text": [
                        "Epoch 1/25\n",
                        "1719/1719 [==============================] - 2s 1ms/step - loss: 0.4898 - accuracy: 0.8266 - val_loss: 0.4066 - val_accuracy: 0.8598\n",
                        "Epoch 2/25\n",
                        "1719/1719 [==============================] - 2s 1ms/step - loss: 0.3793 - accuracy: 0.8654 - val_loss: 0.3730 - val_accuracy: 0.8706\n",
                        "Epoch 3/25\n",
                        "1719/1719 [==============================] - 2s 1ms/step - loss: 0.3468 - accuracy: 0.8777 - val_loss: 0.3744 - val_accuracy: 0.8716\n",
                        "Epoch 4/25\n",
                        "1719/1719 [==============================] - 2s 1ms/step - loss: 0.3259 - accuracy: 0.8847 - val_loss: 0.3508 - val_accuracy: 0.8790\n",
                        "Epoch 5/25\n",
                        "1719/1719 [==============================] - 2s 1ms/step - loss: 0.3108 - accuracy: 0.8895 - val_loss: 0.3449 - val_accuracy: 0.8782\n",
                        "Epoch 6/25\n",
                        "1719/1719 [==============================] - 2s 1ms/step - loss: 0.2973 - accuracy: 0.8939 - val_loss: 0.3417 - val_accuracy: 0.8850\n",
                        "Epoch 7/25\n",
                        "1719/1719 [==============================] - 2s 1ms/step - loss: 0.2871 - accuracy: 0.8982 - val_loss: 0.3379 - val_accuracy: 0.8828\n",
                        "Epoch 8/25\n",
                        "1719/1719 [==============================] - 2s 1ms/step - loss: 0.2780 - accuracy: 0.9013 - val_loss: 0.3421 - val_accuracy: 0.8790\n",
                        "Epoch 9/25\n",
                        "1719/1719 [==============================] - 2s 1ms/step - loss: 0.2698 - accuracy: 0.9030 - val_loss: 0.3290 - val_accuracy: 0.8862\n",
                        "Epoch 10/25\n",
                        "1719/1719 [==============================] - 2s 1ms/step - loss: 0.2624 - accuracy: 0.9061 - val_loss: 0.3282 - val_accuracy: 0.8860\n",
                        "Epoch 11/25\n",
                        "1719/1719 [==============================] - 2s 1ms/step - loss: 0.2565 - accuracy: 0.9091 - val_loss: 0.3264 - val_accuracy: 0.8880\n",
                        "Epoch 12/25\n",
                        "1719/1719 [==============================] - 2s 1ms/step - loss: 0.2504 - accuracy: 0.9112 - val_loss: 0.3336 - val_accuracy: 0.8804\n",
                        "Epoch 13/25\n",
                        "1719/1719 [==============================] - 2s 1ms/step - loss: 0.2448 - accuracy: 0.9136 - val_loss: 0.3246 - val_accuracy: 0.8898\n",
                        "Epoch 14/25\n",
                        "1719/1719 [==============================] - 2s 1ms/step - loss: 0.2407 - accuracy: 0.9147 - val_loss: 0.3284 - val_accuracy: 0.8846\n",
                        "Epoch 15/25\n",
                        "1719/1719 [==============================] - 2s 1ms/step - loss: 0.2354 - accuracy: 0.9167 - val_loss: 0.3224 - val_accuracy: 0.8884\n",
                        "Epoch 16/25\n",
                        "1719/1719 [==============================] - 2s 1ms/step - loss: 0.2315 - accuracy: 0.9186 - val_loss: 0.3204 - val_accuracy: 0.8886\n",
                        "Epoch 17/25\n",
                        "1719/1719 [==============================] - 2s 1ms/step - loss: 0.2276 - accuracy: 0.9189 - val_loss: 0.3241 - val_accuracy: 0.8886\n",
                        "Epoch 18/25\n",
                        "1719/1719 [==============================] - 2s 1ms/step - loss: 0.2235 - accuracy: 0.9213 - val_loss: 0.3187 - val_accuracy: 0.8920\n",
                        "Epoch 19/25\n",
                        "1719/1719 [==============================] - 2s 1ms/step - loss: 0.2202 - accuracy: 0.9227 - val_loss: 0.3226 - val_accuracy: 0.8892\n",
                        "Epoch 20/25\n",
                        "1719/1719 [==============================] - 2s 1ms/step - loss: 0.2169 - accuracy: 0.9238 - val_loss: 0.3201 - val_accuracy: 0.8904\n",
                        "Epoch 21/25\n",
                        "1719/1719 [==============================] - 2s 1ms/step - loss: 0.2132 - accuracy: 0.9256 - val_loss: 0.3201 - val_accuracy: 0.8890\n",
                        "Epoch 22/25\n",
                        "1719/1719 [==============================] - 2s 1ms/step - loss: 0.2107 - accuracy: 0.9267 - val_loss: 0.3179 - val_accuracy: 0.8900\n",
                        "Epoch 23/25\n",
                        "1719/1719 [==============================] - 2s 1ms/step - loss: 0.2078 - accuracy: 0.9272 - val_loss: 0.3202 - val_accuracy: 0.8906\n",
                        "Epoch 24/25\n",
                        "1719/1719 [==============================] - 2s 1ms/step - loss: 0.2050 - accuracy: 0.9291 - val_loss: 0.3201 - val_accuracy: 0.8902\n",
                        "Epoch 25/25\n",
                        "1719/1719 [==============================] - 2s 1ms/step - loss: 0.2027 - accuracy: 0.9293 - val_loss: 0.3197 - val_accuracy: 0.8902\n"
                    ]
                }
            ],
            "source": [
                "n_epochs = 25\n",
                "history = model.fit(X_train_scaled,\n",
                "                    y_train,\n",
                "                    epochs=n_epochs,\n",
                "                    validation_data=(X_valid_scaled, y_valid))"
            ]
        },
        {
            "cell_type": "code",
            "execution_count": 79,
            "metadata": {},
            "outputs": [
                {
                    "data": {
                        "image/png": "[encoded data removed]",
                        "text/plain": [
                            "<Figure size 432x288 with 1 Axes>"
                        ]
                    },
                    "metadata": {
                        "needs_background": "light"
                    },
                    "output_type": "display_data"
                }
            ],
            "source": [
                "import math\n",
                "\n",
                "learning_rate = 0.01\n",
                "decay = 1e-4\n",
                "batch_size = 32\n",
                "n_steps_per_epoch = math.ceil(len(X_train) / batch_size)\n",
                "epochs = np.arange(n_epochs)\n",
                "lrs = learning_rate / (1 + decay * epochs * n_steps_per_epoch)\n",
                "\n",
                "plt.plot(epochs, lrs, \"o-\")\n",
                "plt.axis([0, n_epochs - 1, 0, 0.01])\n",
                "plt.xlabel(\"Epoch\")\n",
                "plt.ylabel(\"Learning Rate\")\n",
                "plt.title(\"Power Scheduling\", fontsize=14)\n",
                "plt.grid(True)\n",
                "plt.show()"
            ]
        },
        {
            "cell_type": "markdown",
            "metadata": {},
            "source": [
                "### Exponential Scheduling\n"
            ]
        },
        {
            "cell_type": "markdown",
            "metadata": {},
            "source": [
                "`lr = lr0 * 0.1**(epoch / s)`\n"
            ]
        },
        {
            "cell_type": "code",
            "execution_count": 80,
            "metadata": {},
            "outputs": [],
            "source": [
                "def exponential_decay_fn(epoch):\n",
                "    return 0.01 * 0.1**(epoch / 20)"
            ]
        },
        {
            "cell_type": "code",
            "execution_count": 81,
            "metadata": {},
            "outputs": [],
            "source": [
                "def exponential_decay(lr0, s):\n",
                "\n",
                "    def exponential_decay_fn(epoch):\n",
                "        return lr0 * 0.1**(epoch / s)\n",
                "\n",
                "    return exponential_decay_fn\n",
                "\n",
                "\n",
                "exponential_decay_fn = exponential_decay(lr0=0.01, s=20)"
            ]
        },
        {
            "cell_type": "code",
            "execution_count": 82,
            "metadata": {},
            "outputs": [],
            "source": [
                "model = keras.models.Sequential([\n",
                "    keras.layers.Flatten(input_shape=[28, 28]),\n",
                "    keras.layers.Dense(300,\n",
                "                       activation=\"selu\",\n",
                "                       kernel_initializer=\"lecun_normal\"),\n",
                "    keras.layers.Dense(100,\n",
                "                       activation=\"selu\",\n",
                "                       kernel_initializer=\"lecun_normal\"),\n",
                "    keras.layers.Dense(10, activation=\"softmax\")\n",
                "])\n",
                "model.compile(loss=\"sparse_categorical_crossentropy\",\n",
                "              optimizer=\"nadam\",\n",
                "              metrics=[\"accuracy\"])\n",
                "n_epochs = 25"
            ]
        },
        {
            "cell_type": "code",
            "execution_count": 83,
            "metadata": {},
            "outputs": [
                {
                    "name": "stdout",
                    "output_type": "stream",
                    "text": [
                        "Epoch 1/25\n",
                        "1719/1719 [==============================] - 4s 2ms/step - loss: 0.8694 - accuracy: 0.7500 - val_loss: 0.7946 - val_accuracy: 0.7696 - lr: 0.0100\n",
                        "Epoch 2/25\n",
                        "1719/1719 [==============================] - 4s 2ms/step - loss: 0.7062 - accuracy: 0.7870 - val_loss: 0.5598 - val_accuracy: 0.8376 - lr: 0.0089\n",
                        "Epoch 3/25\n",
                        "1719/1719 [==============================] - 4s 2ms/step - loss: 0.6169 - accuracy: 0.8105 - val_loss: 0.7057 - val_accuracy: 0.7634 - lr: 0.0079\n",
                        "Epoch 4/25\n",
                        "1719/1719 [==============================] - 4s 2ms/step - loss: 0.5765 - accuracy: 0.8278 - val_loss: 0.5878 - val_accuracy: 0.8268 - lr: 0.0071\n",
                        "Epoch 5/25\n",
                        "1719/1719 [==============================] - 4s 2ms/step - loss: 0.4933 - accuracy: 0.8456 - val_loss: 0.4915 - val_accuracy: 0.8568 - lr: 0.0063\n",
                        "Epoch 6/25\n",
                        "1719/1719 [==============================] - 4s 2ms/step - loss: 0.4343 - accuracy: 0.8608 - val_loss: 0.4700 - val_accuracy: 0.8598 - lr: 0.0056\n",
                        "Epoch 7/25\n",
                        "1719/1719 [==============================] - 4s 2ms/step - loss: 0.4058 - accuracy: 0.8699 - val_loss: 0.5097 - val_accuracy: 0.8508 - lr: 0.0050\n",
                        "Epoch 8/25\n",
                        "1719/1719 [==============================] - 4s 2ms/step - loss: 0.3785 - accuracy: 0.8788 - val_loss: 0.5295 - val_accuracy: 0.8338 - lr: 0.0045\n",
                        "Epoch 9/25\n",
                        "1719/1719 [==============================] - 4s 2ms/step - loss: 0.3484 - accuracy: 0.8853 - val_loss: 0.5490 - val_accuracy: 0.8716 - lr: 0.0040\n",
                        "Epoch 10/25\n",
                        "1719/1719 [==============================] - 4s 2ms/step - loss: 0.3258 - accuracy: 0.8916 - val_loss: 0.4592 - val_accuracy: 0.8700 - lr: 0.0035\n",
                        "Epoch 11/25\n",
                        "1719/1719 [==============================] - 4s 2ms/step - loss: 0.3015 - accuracy: 0.8977 - val_loss: 0.5062 - val_accuracy: 0.8654 - lr: 0.0032\n",
                        "Epoch 12/25\n",
                        "1719/1719 [==============================] - 4s 2ms/step - loss: 0.2781 - accuracy: 0.9063 - val_loss: 0.4950 - val_accuracy: 0.8750 - lr: 0.0028\n",
                        "Epoch 13/25\n",
                        "1719/1719 [==============================] - 4s 2ms/step - loss: 0.2626 - accuracy: 0.9107 - val_loss: 0.5087 - val_accuracy: 0.8824 - lr: 0.0025\n",
                        "Epoch 14/25\n",
                        "1719/1719 [==============================] - 4s 2ms/step - loss: 0.2397 - accuracy: 0.9167 - val_loss: 0.4896 - val_accuracy: 0.8696 - lr: 0.0022\n",
                        "Epoch 15/25\n",
                        "1719/1719 [==============================] - 4s 2ms/step - loss: 0.2233 - accuracy: 0.9234 - val_loss: 0.4539 - val_accuracy: 0.8844 - lr: 0.0020\n",
                        "Epoch 16/25\n",
                        "1719/1719 [==============================] - 4s 3ms/step - loss: 0.2068 - accuracy: 0.9292 - val_loss: 0.4851 - val_accuracy: 0.8856 - lr: 0.0018\n",
                        "Epoch 17/25\n",
                        "1719/1719 [==============================] - 4s 2ms/step - loss: 0.1903 - accuracy: 0.9338 - val_loss: 0.4970 - val_accuracy: 0.8850 - lr: 0.0016\n",
                        "Epoch 18/25\n",
                        "1719/1719 [==============================] - 4s 2ms/step - loss: 0.1789 - accuracy: 0.9389 - val_loss: 0.5263 - val_accuracy: 0.8864 - lr: 0.0014\n",
                        "Epoch 19/25\n",
                        "1719/1719 [==============================] - 4s 2ms/step - loss: 0.1667 - accuracy: 0.9436 - val_loss: 0.5536 - val_accuracy: 0.8884 - lr: 0.0013\n",
                        "Epoch 20/25\n",
                        "1719/1719 [==============================] - 4s 2ms/step - loss: 0.1555 - accuracy: 0.9467 - val_loss: 0.5226 - val_accuracy: 0.8870 - lr: 0.0011\n",
                        "Epoch 21/25\n",
                        "1719/1719 [==============================] - 4s 2ms/step - loss: 0.1444 - accuracy: 0.9507 - val_loss: 0.6078 - val_accuracy: 0.8852 - lr: 0.0010\n",
                        "Epoch 22/25\n",
                        "1719/1719 [==============================] - 4s 2ms/step - loss: 0.1356 - accuracy: 0.9548 - val_loss: 0.5943 - val_accuracy: 0.8852 - lr: 8.9125e-04\n",
                        "Epoch 23/25\n",
                        "1719/1719 [==============================] - 4s 3ms/step - loss: 0.1271 - accuracy: 0.9583 - val_loss: 0.6243 - val_accuracy: 0.8848 - lr: 7.9433e-04\n",
                        "Epoch 24/25\n",
                        "1719/1719 [==============================] - 4s 2ms/step - loss: 0.1190 - accuracy: 0.9609 - val_loss: 0.6511 - val_accuracy: 0.8888 - lr: 7.0795e-04\n",
                        "Epoch 25/25\n",
                        "1719/1719 [==============================] - 4s 3ms/step - loss: 0.1129 - accuracy: 0.9633 - val_loss: 0.6630 - val_accuracy: 0.8884 - lr: 6.3096e-04\n"
                    ]
                }
            ],
            "source": [
                "lr_scheduler = keras.callbacks.LearningRateScheduler(exponential_decay_fn)\n",
                "history = model.fit(X_train_scaled,\n",
                "                    y_train,\n",
                "                    epochs=n_epochs,\n",
                "                    validation_data=(X_valid_scaled, y_valid),\n",
                "                    callbacks=[lr_scheduler])"
            ]
        },
        {
            "cell_type": "code",
            "execution_count": 84,
            "metadata": {},
            "outputs": [
                {
                    "data": {
                        "image/png": "[encoded data removed]",
                        "text/plain": [
                            "<Figure size 432x288 with 1 Axes>"
                        ]
                    },
                    "metadata": {
                        "needs_background": "light"
                    },
                    "output_type": "display_data"
                }
            ],
            "source": [
                "plt.plot(history.epoch, history.history[\"lr\"], \"o-\")\n",
                "plt.axis([0, n_epochs - 1, 0, 0.011])\n",
                "plt.xlabel(\"Epoch\")\n",
                "plt.ylabel(\"Learning Rate\")\n",
                "plt.title(\"Exponential Scheduling\", fontsize=14)\n",
                "plt.grid(True)\n",
                "plt.show()"
            ]
        },
        {
            "cell_type": "markdown",
            "metadata": {},
            "source": [
                "The schedule function can take the current learning rate as a second argument:\n"
            ]
        },
        {
            "cell_type": "code",
            "execution_count": 85,
            "metadata": {},
            "outputs": [],
            "source": [
                "def exponential_decay_fn(epoch, lr):\n",
                "    return lr * 0.1**(1 / 20)"
            ]
        },
        {
            "cell_type": "markdown",
            "metadata": {},
            "source": [
                "If you want to update the learning rate at each iteration rather than at each epoch, you must write your own callback class:\n"
            ]
        },
        {
            "cell_type": "code",
            "execution_count": 88,
            "metadata": {},
            "outputs": [
                {
                    "name": "stdout",
                    "output_type": "stream",
                    "text": [
                        "Epoch 1/25\n",
                        "1719/1719 [==============================] - 5s 3ms/step - loss: 0.7735 - accuracy: 0.7703 - val_loss: 0.7836 - val_accuracy: 0.7650 - lr: 0.0089\n",
                        "Epoch 2/25\n",
                        "1719/1719 [==============================] - 6s 3ms/step - loss: 0.6543 - accuracy: 0.8005 - val_loss: 0.5268 - val_accuracy: 0.8298 - lr: 0.0079\n",
                        "Epoch 3/25\n",
                        "1719/1719 [==============================] - 5s 3ms/step - loss: 0.5709 - accuracy: 0.8263 - val_loss: 0.7578 - val_accuracy: 0.7424 - lr: 0.0071\n",
                        "Epoch 4/25\n",
                        "1719/1719 [==============================] - 4s 3ms/step - loss: 0.5168 - accuracy: 0.8389 - val_loss: 0.5710 - val_accuracy: 0.8452 - lr: 0.0063\n",
                        "Epoch 5/25\n",
                        "1719/1719 [==============================] - 4s 2ms/step - loss: 0.4606 - accuracy: 0.8549 - val_loss: 0.4416 - val_accuracy: 0.8588 - lr: 0.0056\n",
                        "Epoch 6/25\n",
                        "1719/1719 [==============================] - 4s 2ms/step - loss: 0.4211 - accuracy: 0.8650 - val_loss: 0.4687 - val_accuracy: 0.8594 - lr: 0.0050\n",
                        "Epoch 7/25\n",
                        "1719/1719 [==============================] - 4s 2ms/step - loss: 0.4103 - accuracy: 0.8710 - val_loss: 0.4625 - val_accuracy: 0.8612 - lr: 0.0045\n",
                        "Epoch 8/25\n",
                        "1719/1719 [==============================] - 4s 2ms/step - loss: 0.3593 - accuracy: 0.8798 - val_loss: 0.4646 - val_accuracy: 0.8534 - lr: 0.0040\n",
                        "Epoch 9/25\n",
                        "1719/1719 [==============================] - 4s 2ms/step - loss: 0.3353 - accuracy: 0.8892 - val_loss: 0.4827 - val_accuracy: 0.8572 - lr: 0.0035\n",
                        "Epoch 10/25\n",
                        "1719/1719 [==============================] - 4s 2ms/step - loss: 0.3157 - accuracy: 0.8946 - val_loss: 0.4251 - val_accuracy: 0.8854 - lr: 0.0032\n",
                        "Epoch 11/25\n",
                        "1719/1719 [==============================] - 4s 2ms/step - loss: 0.2884 - accuracy: 0.9016 - val_loss: 0.4509 - val_accuracy: 0.8816 - lr: 0.0028\n",
                        "Epoch 12/25\n",
                        "1719/1719 [==============================] - 6s 3ms/step - loss: 0.2664 - accuracy: 0.9080 - val_loss: 0.4533 - val_accuracy: 0.8786 - lr: 0.0025\n",
                        "Epoch 13/25\n",
                        "1719/1719 [==============================] - 6s 4ms/step - loss: 0.2511 - accuracy: 0.9133 - val_loss: 0.4890 - val_accuracy: 0.8814 - lr: 0.0022\n",
                        "Epoch 14/25\n",
                        "1719/1719 [==============================] - 6s 3ms/step - loss: 0.2305 - accuracy: 0.9206 - val_loss: 0.4616 - val_accuracy: 0.8844 - lr: 0.0020\n",
                        "Epoch 15/25\n",
                        "1719/1719 [==============================] - 5s 3ms/step - loss: 0.2156 - accuracy: 0.9253 - val_loss: 0.4573 - val_accuracy: 0.8826 - lr: 0.0018\n",
                        "Epoch 16/25\n",
                        "1719/1719 [==============================] - 5s 3ms/step - loss: 0.1980 - accuracy: 0.9325 - val_loss: 0.4688 - val_accuracy: 0.8872 - lr: 0.0016\n",
                        "Epoch 17/25\n",
                        "1719/1719 [==============================] - 4s 2ms/step - loss: 0.1834 - accuracy: 0.9361 - val_loss: 0.4902 - val_accuracy: 0.8860 - lr: 0.0014\n",
                        "Epoch 18/25\n",
                        "1719/1719 [==============================] - 6s 4ms/step - loss: 0.1708 - accuracy: 0.9410 - val_loss: 0.4934 - val_accuracy: 0.8868 - lr: 0.0013\n",
                        "Epoch 19/25\n",
                        "1719/1719 [==============================] - 5s 3ms/step - loss: 0.1590 - accuracy: 0.9460 - val_loss: 0.5106 - val_accuracy: 0.8918 - lr: 0.0011\n",
                        "Epoch 20/25\n",
                        "1719/1719 [==============================] - 6s 3ms/step - loss: 0.1503 - accuracy: 0.9499 - val_loss: 0.5142 - val_accuracy: 0.8894 - lr: 9.9967e-04\n",
                        "Epoch 21/25\n",
                        "1719/1719 [==============================] - 5s 3ms/step - loss: 0.1367 - accuracy: 0.9538 - val_loss: 0.5779 - val_accuracy: 0.8868 - lr: 8.9094e-04\n",
                        "Epoch 22/25\n",
                        "1719/1719 [==============================] - 5s 3ms/step - loss: 0.1296 - accuracy: 0.9558 - val_loss: 0.5952 - val_accuracy: 0.8890 - lr: 7.9404e-04\n",
                        "Epoch 23/25\n",
                        "1719/1719 [==============================] - 4s 2ms/step - loss: 0.1189 - accuracy: 0.9605 - val_loss: 0.6082 - val_accuracy: 0.8864 - lr: 7.0767e-04\n",
                        "Epoch 24/25\n",
                        "1719/1719 [==============================] - 4s 2ms/step - loss: 0.1118 - accuracy: 0.9638 - val_loss: 0.6440 - val_accuracy: 0.8872 - lr: 6.3071e-04\n",
                        "Epoch 25/25\n",
                        "1719/1719 [==============================] - 4s 2ms/step - loss: 0.1056 - accuracy: 0.9657 - val_loss: 0.6508 - val_accuracy: 0.8884 - lr: 5.6211e-04\n"
                    ]
                }
            ],
            "source": [
                "K = keras.backend\n",
                "\n",
                "\n",
                "class ExponentialDecay(keras.callbacks.Callback):\n",
                "\n",
                "    def __init__(self, s=40000):\n",
                "        super().__init__()\n",
                "        self.s = s\n",
                "\n",
                "    def on_batch_begin(self, batch, logs=None):\n",
                "        # Note: the `batch` argument is reset at each epoch\n",
                "        lr = K.get_value(self.model.optimizer.learning_rate)\n",
                "        K.set_value(self.model.optimizer.learning_rate, lr * 0.1**(1 / self.s))\n",
                "\n",
                "    def on_epoch_end(self, epoch, logs=None):\n",
                "        logs = logs or {}\n",
                "        logs['lr'] = K.get_value(self.model.optimizer.learning_rate)\n",
                "\n",
                "\n",
                "model = keras.models.Sequential([\n",
                "    keras.layers.Flatten(input_shape=[28, 28]),\n",
                "    keras.layers.Dense(300,\n",
                "                       activation=\"selu\",\n",
                "                       kernel_initializer=\"lecun_normal\"),\n",
                "    keras.layers.Dense(100,\n",
                "                       activation=\"selu\",\n",
                "                       kernel_initializer=\"lecun_normal\"),\n",
                "    keras.layers.Dense(10, activation=\"softmax\")\n",
                "])\n",
                "lr0 = 0.01\n",
                "optimizer = keras.optimizers.Nadam(learning_rate=lr0)\n",
                "model.compile(loss=\"sparse_categorical_crossentropy\",\n",
                "              optimizer=optimizer,\n",
                "              metrics=[\"accuracy\"])\n",
                "n_epochs = 25\n",
                "\n",
                "s = 20 * len(X_train) // 32  # number of steps in 20 epochs (batch size = 32)\n",
                "exp_decay = ExponentialDecay(s)\n",
                "history = model.fit(X_train_scaled,\n",
                "                    y_train,\n",
                "                    epochs=n_epochs,\n",
                "                    validation_data=(X_valid_scaled, y_valid),\n",
                "                    callbacks=[exp_decay])"
            ]
        },
        {
            "cell_type": "code",
            "execution_count": 89,
            "metadata": {},
            "outputs": [],
            "source": [
                "n_steps = n_epochs * len(X_train) // 32\n",
                "steps = np.arange(n_steps)\n",
                "lrs = lr0 * 0.1**(steps / s)"
            ]
        },
        {
            "cell_type": "code",
            "execution_count": 90,
            "metadata": {
                "scrolled": true
            },
            "outputs": [
                {
                    "data": {
                        "image/png": "[encoded data removed]",
                        "text/plain": [
                            "<Figure size 432x288 with 1 Axes>"
                        ]
                    },
                    "metadata": {
                        "needs_background": "light"
                    },
                    "output_type": "display_data"
                }
            ],
            "source": [
                "plt.plot(steps, lrs, \"-\", linewidth=2)\n",
                "plt.axis([0, n_steps - 1, 0, lr0 * 1.1])\n",
                "plt.xlabel(\"Batch\")\n",
                "plt.ylabel(\"Learning Rate\")\n",
                "plt.title(\"Exponential Scheduling (per batch)\", fontsize=14)\n",
                "plt.grid(True)\n",
                "plt.show()"
            ]
        },
        {
            "cell_type": "markdown",
            "metadata": {},
            "source": [
                "### Piecewise Constant Scheduling\n"
            ]
        },
        {
            "cell_type": "code",
            "execution_count": 91,
            "metadata": {},
            "outputs": [],
            "source": [
                "def piecewise_constant_fn(epoch):\n",
                "    if epoch < 5:\n",
                "        return 0.01\n",
                "    elif epoch < 15:\n",
                "        return 0.005\n",
                "    else:\n",
                "        return 0.001"
            ]
        },
        {
            "cell_type": "code",
            "execution_count": 92,
            "metadata": {},
            "outputs": [],
            "source": [
                "def piecewise_constant(boundaries, values):\n",
                "    boundaries = np.array([0] + boundaries)\n",
                "    values = np.array(values)\n",
                "\n",
                "    def piecewise_constant_fn(epoch):\n",
                "        return values[np.argmax(boundaries > epoch) - 1]\n",
                "\n",
                "    return piecewise_constant_fn\n",
                "\n",
                "\n",
                "piecewise_constant_fn = piecewise_constant([5, 15], [0.01, 0.005, 0.001])"
            ]
        },
        {
            "cell_type": "code",
            "execution_count": 93,
            "metadata": {},
            "outputs": [
                {
                    "name": "stdout",
                    "output_type": "stream",
                    "text": [
                        "Epoch 1/25\n",
                        "1719/1719 [==============================] - 4s 2ms/step - loss: 0.9283 - accuracy: 0.7331 - val_loss: 1.4121 - val_accuracy: 0.6498 - lr: 0.0100\n",
                        "Epoch 2/25\n",
                        "1719/1719 [==============================] - 4s 2ms/step - loss: 0.9669 - accuracy: 0.6849 - val_loss: 1.2677 - val_accuracy: 0.6518 - lr: 0.0100\n",
                        "Epoch 3/25\n",
                        "1719/1719 [==============================] - 4s 2ms/step - loss: 1.2712 - accuracy: 0.6010 - val_loss: 1.7695 - val_accuracy: 0.4998 - lr: 0.0100\n",
                        "Epoch 4/25\n",
                        "1719/1719 [==============================] - 4s 2ms/step - loss: 1.1708 - accuracy: 0.6014 - val_loss: 1.4002 - val_accuracy: 0.5300 - lr: 0.0100\n",
                        "Epoch 5/25\n",
                        "1719/1719 [==============================] - 4s 2ms/step - loss: 1.0151 - accuracy: 0.6181 - val_loss: 1.0774 - val_accuracy: 0.5994 - lr: 0.0100\n",
                        "Epoch 6/25\n",
                        "1719/1719 [==============================] - 4s 2ms/step - loss: 0.8327 - accuracy: 0.6631 - val_loss: 0.8164 - val_accuracy: 0.6884 - lr: 0.0050\n",
                        "Epoch 7/25\n",
                        "1719/1719 [==============================] - 4s 2ms/step - loss: 0.8117 - accuracy: 0.6746 - val_loss: 0.8706 - val_accuracy: 0.6702 - lr: 0.0050\n",
                        "Epoch 8/25\n",
                        "1719/1719 [==============================] - 4s 2ms/step - loss: 0.7200 - accuracy: 0.7344 - val_loss: 0.7971 - val_accuracy: 0.7572 - lr: 0.0050\n",
                        "Epoch 9/25\n",
                        "1719/1719 [==============================] - 4s 2ms/step - loss: 0.6775 - accuracy: 0.7628 - val_loss: 0.7060 - val_accuracy: 0.7772 - lr: 0.0050\n",
                        "Epoch 10/25\n",
                        "1719/1719 [==============================] - 4s 2ms/step - loss: 0.6060 - accuracy: 0.7950 - val_loss: 0.6812 - val_accuracy: 0.8394 - lr: 0.0050\n",
                        "Epoch 11/25\n",
                        "1719/1719 [==============================] - 4s 2ms/step - loss: 0.5242 - accuracy: 0.8488 - val_loss: 0.6289 - val_accuracy: 0.8454 - lr: 0.0050\n",
                        "Epoch 12/25\n",
                        "1719/1719 [==============================] - 4s 2ms/step - loss: 0.5123 - accuracy: 0.8530 - val_loss: 0.6204 - val_accuracy: 0.8386 - lr: 0.0050\n",
                        "Epoch 13/25\n",
                        "1719/1719 [==============================] - 4s 2ms/step - loss: 0.4837 - accuracy: 0.8584 - val_loss: 0.6477 - val_accuracy: 0.8530 - lr: 0.0050\n",
                        "Epoch 14/25\n",
                        "1719/1719 [==============================] - 4s 2ms/step - loss: 0.4812 - accuracy: 0.8619 - val_loss: 0.5980 - val_accuracy: 0.8578 - lr: 0.0050\n",
                        "Epoch 15/25\n",
                        "1719/1719 [==============================] - 4s 2ms/step - loss: 0.4842 - accuracy: 0.8615 - val_loss: 0.6496 - val_accuracy: 0.8554 - lr: 0.0050\n",
                        "Epoch 16/25\n",
                        "1719/1719 [==============================] - 4s 2ms/step - loss: 0.3347 - accuracy: 0.8953 - val_loss: 0.5381 - val_accuracy: 0.8688 - lr: 0.0010\n",
                        "Epoch 17/25\n",
                        "1719/1719 [==============================] - 4s 2ms/step - loss: 0.3093 - accuracy: 0.9025 - val_loss: 0.5626 - val_accuracy: 0.8678 - lr: 0.0010\n",
                        "Epoch 18/25\n",
                        "1719/1719 [==============================] - 4s 2ms/step - loss: 0.2989 - accuracy: 0.9053 - val_loss: 0.5438 - val_accuracy: 0.8752 - lr: 0.0010\n",
                        "Epoch 19/25\n",
                        "1719/1719 [==============================] - 4s 2ms/step - loss: 0.2850 - accuracy: 0.9099 - val_loss: 0.5420 - val_accuracy: 0.8734 - lr: 0.0010\n",
                        "Epoch 20/25\n",
                        "1719/1719 [==============================] - 4s 2ms/step - loss: 0.2769 - accuracy: 0.9134 - val_loss: 0.5520 - val_accuracy: 0.8732 - lr: 0.0010\n",
                        "Epoch 21/25\n",
                        "1719/1719 [==============================] - 4s 2ms/step - loss: 0.2650 - accuracy: 0.9153 - val_loss: 0.5633 - val_accuracy: 0.8756 - lr: 0.0010\n",
                        "Epoch 22/25\n",
                        "1719/1719 [==============================] - 4s 2ms/step - loss: 0.2557 - accuracy: 0.9185 - val_loss: 0.5834 - val_accuracy: 0.8766 - lr: 0.0010\n",
                        "Epoch 23/25\n",
                        "1719/1719 [==============================] - 4s 2ms/step - loss: 0.2473 - accuracy: 0.9210 - val_loss: 0.6078 - val_accuracy: 0.8736 - lr: 0.0010\n",
                        "Epoch 24/25\n",
                        "1719/1719 [==============================] - 4s 2ms/step - loss: 0.2425 - accuracy: 0.9225 - val_loss: 0.6128 - val_accuracy: 0.8790 - lr: 0.0010\n",
                        "Epoch 25/25\n",
                        "1719/1719 [==============================] - 4s 2ms/step - loss: 0.2364 - accuracy: 0.9252 - val_loss: 0.6309 - val_accuracy: 0.8788 - lr: 0.0010\n"
                    ]
                }
            ],
            "source": [
                "lr_scheduler = keras.callbacks.LearningRateScheduler(piecewise_constant_fn)\n",
                "\n",
                "model = keras.models.Sequential([\n",
                "    keras.layers.Flatten(input_shape=[28, 28]),\n",
                "    keras.layers.Dense(300,\n",
                "                       activation=\"selu\",\n",
                "                       kernel_initializer=\"lecun_normal\"),\n",
                "    keras.layers.Dense(100,\n",
                "                       activation=\"selu\",\n",
                "                       kernel_initializer=\"lecun_normal\"),\n",
                "    keras.layers.Dense(10, activation=\"softmax\")\n",
                "])\n",
                "model.compile(loss=\"sparse_categorical_crossentropy\",\n",
                "              optimizer=\"nadam\",\n",
                "              metrics=[\"accuracy\"])\n",
                "n_epochs = 25\n",
                "history = model.fit(X_train_scaled,\n",
                "                    y_train,\n",
                "                    epochs=n_epochs,\n",
                "                    validation_data=(X_valid_scaled, y_valid),\n",
                "                    callbacks=[lr_scheduler])"
            ]
        },
        {
            "cell_type": "code",
            "execution_count": 94,
            "metadata": {},
            "outputs": [
                {
                    "data": {
                        "image/png": "[encoded data removed]",
                        "text/plain": [
                            "<Figure size 432x288 with 1 Axes>"
                        ]
                    },
                    "metadata": {
                        "needs_background": "light"
                    },
                    "output_type": "display_data"
                }
            ],
            "source": [
                "plt.plot(history.epoch,\n",
                "         [piecewise_constant_fn(epoch) for epoch in history.epoch], \"o-\")\n",
                "plt.axis([0, n_epochs - 1, 0, 0.011])\n",
                "plt.xlabel(\"Epoch\")\n",
                "plt.ylabel(\"Learning Rate\")\n",
                "plt.title(\"Piecewise Constant Scheduling\", fontsize=14)\n",
                "plt.grid(True)\n",
                "plt.show()"
            ]
        },
        {
            "cell_type": "markdown",
            "metadata": {},
            "source": [
                "### Performance Scheduling\n"
            ]
        },
        {
            "cell_type": "code",
            "execution_count": 95,
            "metadata": {},
            "outputs": [],
            "source": [
                "tf.random.set_seed(42)\n",
                "np.random.seed(42)"
            ]
        },
        {
            "cell_type": "code",
            "execution_count": 96,
            "metadata": {},
            "outputs": [
                {
                    "name": "stdout",
                    "output_type": "stream",
                    "text": [
                        "Epoch 1/25\n",
                        "1719/1719 [==============================] - 2s 1ms/step - loss: 0.5888 - accuracy: 0.8078 - val_loss: 0.4850 - val_accuracy: 0.8522 - lr: 0.0200\n",
                        "Epoch 2/25\n",
                        "1719/1719 [==============================] - 2s 1ms/step - loss: 0.4965 - accuracy: 0.8409 - val_loss: 0.6062 - val_accuracy: 0.8410 - lr: 0.0200\n",
                        "Epoch 3/25\n",
                        "1719/1719 [==============================] - 2s 1ms/step - loss: 0.5055 - accuracy: 0.8422 - val_loss: 0.4817 - val_accuracy: 0.8610 - lr: 0.0200\n",
                        "Epoch 4/25\n",
                        "1719/1719 [==============================] - 2s 1ms/step - loss: 0.5063 - accuracy: 0.8489 - val_loss: 0.5140 - val_accuracy: 0.8514 - lr: 0.0200\n",
                        "Epoch 5/25\n",
                        "1719/1719 [==============================] - 2s 1ms/step - loss: 0.5376 - accuracy: 0.8475 - val_loss: 0.5676 - val_accuracy: 0.8412 - lr: 0.0200\n",
                        "Epoch 6/25\n",
                        "1719/1719 [==============================] - 2s 1ms/step - loss: 0.5226 - accuracy: 0.8513 - val_loss: 0.5713 - val_accuracy: 0.8474 - lr: 0.0200\n",
                        "Epoch 7/25\n",
                        "1719/1719 [==============================] - 2s 1ms/step - loss: 0.5354 - accuracy: 0.8529 - val_loss: 0.6554 - val_accuracy: 0.8242 - lr: 0.0200\n",
                        "Epoch 8/25\n",
                        "1719/1719 [==============================] - 2s 1ms/step - loss: 0.5259 - accuracy: 0.8561 - val_loss: 0.6540 - val_accuracy: 0.8172 - lr: 0.0200\n",
                        "Epoch 9/25\n",
                        "1719/1719 [==============================] - 2s 1ms/step - loss: 0.2948 - accuracy: 0.8972 - val_loss: 0.4188 - val_accuracy: 0.8782 - lr: 0.0100\n",
                        "Epoch 10/25\n",
                        "1719/1719 [==============================] - 2s 1ms/step - loss: 0.2507 - accuracy: 0.9110 - val_loss: 0.4170 - val_accuracy: 0.8860 - lr: 0.0100\n",
                        "Epoch 11/25\n",
                        "1719/1719 [==============================] - 2s 1ms/step - loss: 0.2251 - accuracy: 0.9167 - val_loss: 0.4230 - val_accuracy: 0.8860 - lr: 0.0100\n",
                        "Epoch 12/25\n",
                        "1719/1719 [==============================] - 2s 1ms/step - loss: 0.2154 - accuracy: 0.9209 - val_loss: 0.4306 - val_accuracy: 0.8752 - lr: 0.0100\n",
                        "Epoch 13/25\n",
                        "1719/1719 [==============================] - 2s 1ms/step - loss: 0.2029 - accuracy: 0.9248 - val_loss: 0.4998 - val_accuracy: 0.8806 - lr: 0.0100\n",
                        "Epoch 14/25\n",
                        "1719/1719 [==============================] - 2s 1ms/step - loss: 0.1878 - accuracy: 0.9297 - val_loss: 0.4745 - val_accuracy: 0.8722 - lr: 0.0100\n",
                        "Epoch 15/25\n",
                        "1719/1719 [==============================] - 2s 1ms/step - loss: 0.1816 - accuracy: 0.9323 - val_loss: 0.4586 - val_accuracy: 0.8812 - lr: 0.0100\n",
                        "Epoch 16/25\n",
                        "1719/1719 [==============================] - 2s 1ms/step - loss: 0.1258 - accuracy: 0.9514 - val_loss: 0.4485 - val_accuracy: 0.8934 - lr: 0.0050\n",
                        "Epoch 17/25\n",
                        "1719/1719 [==============================] - 2s 1ms/step - loss: 0.1123 - accuracy: 0.9565 - val_loss: 0.4572 - val_accuracy: 0.8912 - lr: 0.0050\n",
                        "Epoch 18/25\n",
                        "1719/1719 [==============================] - 2s 1ms/step - loss: 0.1030 - accuracy: 0.9591 - val_loss: 0.4971 - val_accuracy: 0.8880 - lr: 0.0050\n",
                        "Epoch 19/25\n",
                        "1719/1719 [==============================] - 2s 1ms/step - loss: 0.0978 - accuracy: 0.9621 - val_loss: 0.5115 - val_accuracy: 0.8904 - lr: 0.0050\n",
                        "Epoch 20/25\n",
                        "1719/1719 [==============================] - 2s 1ms/step - loss: 0.0920 - accuracy: 0.9640 - val_loss: 0.5072 - val_accuracy: 0.8888 - lr: 0.0050\n",
                        "Epoch 21/25\n",
                        "1719/1719 [==============================] - 2s 1ms/step - loss: 0.0712 - accuracy: 0.9738 - val_loss: 0.5290 - val_accuracy: 0.8942 - lr: 0.0025\n",
                        "Epoch 22/25\n",
                        "1719/1719 [==============================] - 2s 1ms/step - loss: 0.0660 - accuracy: 0.9755 - val_loss: 0.5356 - val_accuracy: 0.8912 - lr: 0.0025\n",
                        "Epoch 23/25\n",
                        "1719/1719 [==============================] - 2s 1ms/step - loss: 0.0622 - accuracy: 0.9769 - val_loss: 0.5569 - val_accuracy: 0.8896 - lr: 0.0025\n",
                        "Epoch 24/25\n",
                        "1719/1719 [==============================] - 2s 1ms/step - loss: 0.0590 - accuracy: 0.9783 - val_loss: 0.5564 - val_accuracy: 0.8898 - lr: 0.0025\n",
                        "Epoch 25/25\n",
                        "1719/1719 [==============================] - 2s 1ms/step - loss: 0.0564 - accuracy: 0.9796 - val_loss: 0.5823 - val_accuracy: 0.8930 - lr: 0.0025\n"
                    ]
                }
            ],
            "source": [
                "lr_scheduler = keras.callbacks.ReduceLROnPlateau(factor=0.5, patience=5)\n",
                "\n",
                "model = keras.models.Sequential([\n",
                "    keras.layers.Flatten(input_shape=[28, 28]),\n",
                "    keras.layers.Dense(300,\n",
                "                       activation=\"selu\",\n",
                "                       kernel_initializer=\"lecun_normal\"),\n",
                "    keras.layers.Dense(100,\n",
                "                       activation=\"selu\",\n",
                "                       kernel_initializer=\"lecun_normal\"),\n",
                "    keras.layers.Dense(10, activation=\"softmax\")\n",
                "])\n",
                "optimizer = keras.optimizers.SGD(learning_rate=0.02, momentum=0.9)\n",
                "model.compile(loss=\"sparse_categorical_crossentropy\",\n",
                "              optimizer=optimizer,\n",
                "              metrics=[\"accuracy\"])\n",
                "n_epochs = 25\n",
                "history = model.fit(X_train_scaled,\n",
                "                    y_train,\n",
                "                    epochs=n_epochs,\n",
                "                    validation_data=(X_valid_scaled, y_valid),\n",
                "                    callbacks=[lr_scheduler])"
            ]
        },
        {
            "cell_type": "code",
            "execution_count": 97,
            "metadata": {},
            "outputs": [
                {
                    "data": {
                        "image/png": "[encoded data removed]",
                        "text/plain": [
                            "<Figure size 432x288 with 2 Axes>"
                        ]
                    },
                    "metadata": {
                        "needs_background": "light"
                    },
                    "output_type": "display_data"
                }
            ],
            "source": [
                "plt.plot(history.epoch, history.history[\"lr\"], \"bo-\")\n",
                "plt.xlabel(\"Epoch\")\n",
                "plt.ylabel(\"Learning Rate\", color='b')\n",
                "plt.tick_params('y', colors='b')\n",
                "plt.gca().set_xlim(0, n_epochs - 1)\n",
                "plt.grid(True)\n",
                "\n",
                "ax2 = plt.gca().twinx()\n",
                "ax2.plot(history.epoch, history.history[\"val_loss\"], \"r^-\")\n",
                "ax2.set_ylabel('Validation Loss', color='r')\n",
                "ax2.tick_params('y', colors='r')\n",
                "\n",
                "plt.title(\"Reduce LR on Plateau\", fontsize=14)\n",
                "plt.show()"
            ]
        },
        {
            "cell_type": "markdown",
            "metadata": {},
            "source": [
                "### tf.keras schedulers\n"
            ]
        },
        {
            "cell_type": "code",
            "execution_count": 98,
            "metadata": {},
            "outputs": [
                {
                    "name": "stdout",
                    "output_type": "stream",
                    "text": [
                        "Epoch 1/25\n",
                        "1719/1719 [==============================] - 2s 1ms/step - loss: 0.4894 - accuracy: 0.8273 - val_loss: 0.4096 - val_accuracy: 0.8600\n",
                        "Epoch 2/25\n",
                        "1719/1719 [==============================] - 2s 1ms/step - loss: 0.3820 - accuracy: 0.8652 - val_loss: 0.3742 - val_accuracy: 0.8698\n",
                        "Epoch 3/25\n",
                        "1719/1719 [==============================] - 2s 1ms/step - loss: 0.3487 - accuracy: 0.8764 - val_loss: 0.3736 - val_accuracy: 0.8686\n",
                        "Epoch 4/25\n",
                        "1719/1719 [==============================] - 2s 1ms/step - loss: 0.3264 - accuracy: 0.8836 - val_loss: 0.3494 - val_accuracy: 0.8796\n",
                        "Epoch 5/25\n",
                        "1719/1719 [==============================] - 2s 1ms/step - loss: 0.3103 - accuracy: 0.8898 - val_loss: 0.3431 - val_accuracy: 0.8796\n",
                        "Epoch 6/25\n",
                        "1719/1719 [==============================] - 2s 1ms/step - loss: 0.2957 - accuracy: 0.8951 - val_loss: 0.3410 - val_accuracy: 0.8806\n",
                        "Epoch 7/25\n",
                        "1719/1719 [==============================] - 2s 1ms/step - loss: 0.2853 - accuracy: 0.8988 - val_loss: 0.3352 - val_accuracy: 0.8804\n",
                        "Epoch 8/25\n",
                        "1719/1719 [==============================] - 2s 1ms/step - loss: 0.2759 - accuracy: 0.9015 - val_loss: 0.3360 - val_accuracy: 0.8816\n",
                        "Epoch 9/25\n",
                        "1719/1719 [==============================] - 2s 1ms/step - loss: 0.2677 - accuracy: 0.9053 - val_loss: 0.3260 - val_accuracy: 0.8844\n",
                        "Epoch 10/25\n",
                        "1719/1719 [==============================] - 2s 1ms/step - loss: 0.2606 - accuracy: 0.9069 - val_loss: 0.3235 - val_accuracy: 0.8862\n",
                        "Epoch 11/25\n",
                        "1719/1719 [==============================] - 2s 1ms/step - loss: 0.2550 - accuracy: 0.9089 - val_loss: 0.3246 - val_accuracy: 0.8866\n",
                        "Epoch 12/25\n",
                        "1719/1719 [==============================] - 2s 1ms/step - loss: 0.2495 - accuracy: 0.9124 - val_loss: 0.3295 - val_accuracy: 0.8812\n",
                        "Epoch 13/25\n",
                        "1719/1719 [==============================] - 2s 1ms/step - loss: 0.2448 - accuracy: 0.9139 - val_loss: 0.3213 - val_accuracy: 0.8858\n",
                        "Epoch 14/25\n",
                        "1719/1719 [==============================] - 2s 1ms/step - loss: 0.2414 - accuracy: 0.9147 - val_loss: 0.3219 - val_accuracy: 0.8858\n",
                        "Epoch 15/25\n",
                        "1719/1719 [==============================] - 2s 1ms/step - loss: 0.2374 - accuracy: 0.9167 - val_loss: 0.3204 - val_accuracy: 0.8874\n",
                        "Epoch 16/25\n",
                        "1719/1719 [==============================] - 2s 1ms/step - loss: 0.2342 - accuracy: 0.9174 - val_loss: 0.3180 - val_accuracy: 0.8888\n",
                        "Epoch 17/25\n",
                        "1719/1719 [==============================] - 2s 1ms/step - loss: 0.2316 - accuracy: 0.9186 - val_loss: 0.3192 - val_accuracy: 0.8890\n",
                        "Epoch 18/25\n",
                        "1719/1719 [==============================] - 2s 1ms/step - loss: 0.2290 - accuracy: 0.9197 - val_loss: 0.3165 - val_accuracy: 0.8900\n",
                        "Epoch 19/25\n",
                        "1719/1719 [==============================] - 2s 1ms/step - loss: 0.2268 - accuracy: 0.9207 - val_loss: 0.3193 - val_accuracy: 0.8892\n",
                        "Epoch 20/25\n",
                        "1719/1719 [==============================] - 2s 1ms/step - loss: 0.2249 - accuracy: 0.9218 - val_loss: 0.3165 - val_accuracy: 0.8898\n",
                        "Epoch 21/25\n",
                        "1719/1719 [==============================] - 2s 1ms/step - loss: 0.2228 - accuracy: 0.9226 - val_loss: 0.3176 - val_accuracy: 0.8892\n",
                        "Epoch 22/25\n",
                        "1719/1719 [==============================] - 2s 1ms/step - loss: 0.2215 - accuracy: 0.9220 - val_loss: 0.3159 - val_accuracy: 0.8912\n",
                        "Epoch 23/25\n",
                        "1719/1719 [==============================] - 2s 1ms/step - loss: 0.2200 - accuracy: 0.9229 - val_loss: 0.3167 - val_accuracy: 0.8908\n",
                        "Epoch 24/25\n",
                        "1719/1719 [==============================] - 2s 1ms/step - loss: 0.2187 - accuracy: 0.9239 - val_loss: 0.3162 - val_accuracy: 0.8896\n",
                        "Epoch 25/25\n",
                        "1719/1719 [==============================] - 2s 1ms/step - loss: 0.2178 - accuracy: 0.9244 - val_loss: 0.3161 - val_accuracy: 0.8904\n"
                    ]
                }
            ],
            "source": [
                "model = keras.models.Sequential([\n",
                "    keras.layers.Flatten(input_shape=[28, 28]),\n",
                "    keras.layers.Dense(300,\n",
                "                       activation=\"selu\",\n",
                "                       kernel_initializer=\"lecun_normal\"),\n",
                "    keras.layers.Dense(100,\n",
                "                       activation=\"selu\",\n",
                "                       kernel_initializer=\"lecun_normal\"),\n",
                "    keras.layers.Dense(10, activation=\"softmax\")\n",
                "])\n",
                "s = 20 * len(X_train) // 32  # number of steps in 20 epochs (batch size = 32)\n",
                "learning_rate = keras.optimizers.schedules.ExponentialDecay(0.01, s, 0.1)\n",
                "optimizer = keras.optimizers.SGD(learning_rate)\n",
                "model.compile(loss=\"sparse_categorical_crossentropy\",\n",
                "              optimizer=optimizer,\n",
                "              metrics=[\"accuracy\"])\n",
                "n_epochs = 25\n",
                "history = model.fit(X_train_scaled,\n",
                "                    y_train,\n",
                "                    epochs=n_epochs,\n",
                "                    validation_data=(X_valid_scaled, y_valid))"
            ]
        },
        {
            "cell_type": "markdown",
            "metadata": {},
            "source": [
                "For piecewise constant scheduling, try this:\n"
            ]
        },
        {
            "cell_type": "code",
            "execution_count": 99,
            "metadata": {},
            "outputs": [],
            "source": [
                "learning_rate = keras.optimizers.schedules.PiecewiseConstantDecay(\n",
                "    boundaries=[5. * n_steps_per_epoch, 15. * n_steps_per_epoch],\n",
                "    values=[0.01, 0.005, 0.001])"
            ]
        },
        {
            "cell_type": "markdown",
            "metadata": {},
            "source": [
                "### 1Cycle scheduling\n"
            ]
        },
        {
            "cell_type": "code",
            "execution_count": 100,
            "metadata": {},
            "outputs": [],
            "source": [
                "K = keras.backend\n",
                "\n",
                "\n",
                "class ExponentialLearningRate(keras.callbacks.Callback):\n",
                "\n",
                "    def __init__(self, factor):\n",
                "        self.factor = factor\n",
                "        self.rates = []\n",
                "        self.losses = []\n",
                "\n",
                "    def on_batch_end(self, batch, logs):\n",
                "        self.rates.append(K.get_value(self.model.optimizer.learning_rate))\n",
                "        self.losses.append(logs[\"loss\"])\n",
                "        K.set_value(self.model.optimizer.learning_rate,\n",
                "                    self.model.optimizer.learning_rate * self.factor)\n",
                "\n",
                "\n",
                "def find_learning_rate(model,\n",
                "                       X,\n",
                "                       y,\n",
                "                       epochs=1,\n",
                "                       batch_size=32,\n",
                "                       min_rate=10**-5,\n",
                "                       max_rate=10):\n",
                "    init_weights = model.get_weights()\n",
                "    iterations = math.ceil(len(X) / batch_size) * epochs\n",
                "    factor = np.exp(np.log(max_rate / min_rate) / iterations)\n",
                "    init_lr = K.get_value(model.optimizer.learning_rate)\n",
                "    K.set_value(model.optimizer.learning_rate, min_rate)\n",
                "    exp_lr = ExponentialLearningRate(factor)\n",
                "    history = model.fit(X,\n",
                "                        y,\n",
                "                        epochs=epochs,\n",
                "                        batch_size=batch_size,\n",
                "                        callbacks=[exp_lr])\n",
                "    K.set_value(model.optimizer.learning_rate, init_lr)\n",
                "    model.set_weights(init_weights)\n",
                "    return exp_lr.rates, exp_lr.losses\n",
                "\n",
                "\n",
                "def plot_lr_vs_loss(rates, losses):\n",
                "    plt.plot(rates, losses)\n",
                "    plt.gca().set_xscale('log')\n",
                "    plt.hlines(min(losses), min(rates), max(rates))\n",
                "    plt.axis(\n",
                "        [min(rates),\n",
                "         max(rates),\n",
                "         min(losses), (losses[0] + min(losses)) / 2])\n",
                "    plt.xlabel(\"Learning rate\")\n",
                "    plt.ylabel(\"Loss\")"
            ]
        },
        {
            "cell_type": "markdown",
            "metadata": {},
            "source": [
                "**Warning**: In the `on_batch_end()` method, `logs[\"loss\"]` used to contain the batch loss, but in TensorFlow 2.2.0 it was replaced with the mean loss (since the start of the epoch). This explains why the graph below is much smoother than in the book (if you are using TF 2.2 or above). It also means that there is a lag between the moment the batch loss starts exploding and the moment the explosion becomes clear in the graph. So you should choose a slightly smaller learning rate than you would have chosen with the \"noisy\" graph. Alternatively, you can tweak the `ExponentialLearningRate` callback above so it computes the batch loss (based on the current mean loss and the previous mean loss):\n",
                "\n",
                "```python\n",
                "class ExponentialLearningRate(keras.callbacks.Callback):\n",
                "    def __init__(self, factor):\n",
                "        self.factor = factor\n",
                "        self.rates = []\n",
                "        self.losses = []\n",
                "    def on_epoch_begin(self, epoch, logs=None):\n",
                "        self.prev_loss = 0\n",
                "    def on_batch_end(self, batch, logs=None):\n",
                "        batch_loss = logs[\"loss\"] * (batch + 1) - self.prev_loss * batch\n",
                "        self.prev_loss = logs[\"loss\"]\n",
                "        self.rates.append(K.get_value(self.model.optimizer.learning_rate))\n",
                "        self.losses.append(batch_loss)\n",
                "        K.set_value(self.model.optimizer.learning_rate, self.model.optimizer.learning_rate * self.factor)\n",
                "```\n"
            ]
        },
        {
            "cell_type": "code",
            "execution_count": 101,
            "metadata": {},
            "outputs": [],
            "source": [
                "tf.random.set_seed(42)\n",
                "np.random.seed(42)\n",
                "\n",
                "model = keras.models.Sequential([\n",
                "    keras.layers.Flatten(input_shape=[28, 28]),\n",
                "    keras.layers.Dense(300,\n",
                "                       activation=\"selu\",\n",
                "                       kernel_initializer=\"lecun_normal\"),\n",
                "    keras.layers.Dense(100,\n",
                "                       activation=\"selu\",\n",
                "                       kernel_initializer=\"lecun_normal\"),\n",
                "    keras.layers.Dense(10, activation=\"softmax\")\n",
                "])\n",
                "model.compile(loss=\"sparse_categorical_crossentropy\",\n",
                "              optimizer=keras.optimizers.SGD(learning_rate=1e-3),\n",
                "              metrics=[\"accuracy\"])"
            ]
        },
        {
            "cell_type": "code",
            "execution_count": 102,
            "metadata": {},
            "outputs": [
                {
                    "name": "stdout",
                    "output_type": "stream",
                    "text": [
                        "430/430 [==============================] - 1s 2ms/step - loss: nan - accuracy: 0.3861\n"
                    ]
                },
                {
                    "data": {
                        "image/png": "[encoded data removed]",
                        "text/plain": [
                            "<Figure size 432x288 with 1 Axes>"
                        ]
                    },
                    "metadata": {
                        "needs_background": "light"
                    },
                    "output_type": "display_data"
                }
            ],
            "source": [
                "batch_size = 128\n",
                "rates, losses = find_learning_rate(model,\n",
                "                                   X_train_scaled,\n",
                "                                   y_train,\n",
                "                                   epochs=1,\n",
                "                                   batch_size=batch_size)\n",
                "plot_lr_vs_loss(rates, losses)"
            ]
        },
        {
            "cell_type": "code",
            "execution_count": 103,
            "metadata": {},
            "outputs": [],
            "source": [
                "class OneCycleScheduler(keras.callbacks.Callback):\n",
                "\n",
                "    def __init__(self,\n",
                "                 iterations,\n",
                "                 max_rate,\n",
                "                 start_rate=None,\n",
                "                 last_iterations=None,\n",
                "                 last_rate=None):\n",
                "        self.iterations = iterations\n",
                "        self.max_rate = max_rate\n",
                "        self.start_rate = start_rate or max_rate / 10\n",
                "        self.last_iterations = last_iterations or iterations // 10 + 1\n",
                "        self.half_iteration = (iterations - self.last_iterations) // 2\n",
                "        self.last_rate = last_rate or self.start_rate / 1000\n",
                "        self.iteration = 0\n",
                "\n",
                "    def _interpolate(self, iter1, iter2, rate1, rate2):\n",
                "        return ((rate2 - rate1) * (self.iteration - iter1) / (iter2 - iter1) +\n",
                "                rate1)\n",
                "\n",
                "    def on_batch_begin(self, batch, logs):\n",
                "        if self.iteration < self.half_iteration:\n",
                "            rate = self._interpolate(0, self.half_iteration, self.start_rate,\n",
                "                                     self.max_rate)\n",
                "        elif self.iteration < 2 * self.half_iteration:\n",
                "            rate = self._interpolate(self.half_iteration,\n",
                "                                     2 * self.half_iteration, self.max_rate,\n",
                "                                     self.start_rate)\n",
                "        else:\n",
                "            rate = self._interpolate(2 * self.half_iteration, self.iterations,\n",
                "                                     self.start_rate, self.last_rate)\n",
                "        self.iteration += 1\n",
                "        K.set_value(self.model.optimizer.learning_rate, rate)"
            ]
        },
        {
            "cell_type": "code",
            "execution_count": 104,
            "metadata": {},
            "outputs": [
                {
                    "name": "stdout",
                    "output_type": "stream",
                    "text": [
                        "Epoch 1/25\n",
                        "430/430 [==============================] - 1s 2ms/step - loss: 0.6572 - accuracy: 0.7740 - val_loss: 0.4872 - val_accuracy: 0.8336\n",
                        "Epoch 2/25\n",
                        "430/430 [==============================] - 1s 2ms/step - loss: 0.4581 - accuracy: 0.8395 - val_loss: 0.4275 - val_accuracy: 0.8520\n",
                        "Epoch 3/25\n",
                        "430/430 [==============================] - 1s 2ms/step - loss: 0.4122 - accuracy: 0.8546 - val_loss: 0.4115 - val_accuracy: 0.8588\n",
                        "Epoch 4/25\n",
                        "430/430 [==============================] - 1s 2ms/step - loss: 0.3837 - accuracy: 0.8641 - val_loss: 0.3868 - val_accuracy: 0.8686\n",
                        "Epoch 5/25\n",
                        "430/430 [==============================] - 1s 2ms/step - loss: 0.3639 - accuracy: 0.8717 - val_loss: 0.3765 - val_accuracy: 0.8684\n",
                        "Epoch 6/25\n",
                        "430/430 [==============================] - 1s 2ms/step - loss: 0.3457 - accuracy: 0.8773 - val_loss: 0.3743 - val_accuracy: 0.8708\n",
                        "Epoch 7/25\n",
                        "430/430 [==============================] - 1s 2ms/step - loss: 0.3330 - accuracy: 0.8809 - val_loss: 0.3635 - val_accuracy: 0.8706\n",
                        "Epoch 8/25\n",
                        "430/430 [==============================] - 1s 2ms/step - loss: 0.3184 - accuracy: 0.8860 - val_loss: 0.3957 - val_accuracy: 0.8610\n",
                        "Epoch 9/25\n",
                        "430/430 [==============================] - 1s 2ms/step - loss: 0.3065 - accuracy: 0.8891 - val_loss: 0.3487 - val_accuracy: 0.8772\n",
                        "Epoch 10/25\n",
                        "430/430 [==============================] - 1s 2ms/step - loss: 0.2944 - accuracy: 0.8925 - val_loss: 0.3401 - val_accuracy: 0.8798\n",
                        "Epoch 11/25\n",
                        "430/430 [==============================] - 1s 2ms/step - loss: 0.2839 - accuracy: 0.8957 - val_loss: 0.3464 - val_accuracy: 0.8810\n",
                        "Epoch 12/25\n",
                        "430/430 [==============================] - 1s 2ms/step - loss: 0.2710 - accuracy: 0.9025 - val_loss: 0.3646 - val_accuracy: 0.8702\n",
                        "Epoch 13/25\n",
                        "430/430 [==============================] - 1s 2ms/step - loss: 0.2538 - accuracy: 0.9080 - val_loss: 0.3353 - val_accuracy: 0.8830\n",
                        "Epoch 14/25\n",
                        "430/430 [==============================] - 1s 2ms/step - loss: 0.2406 - accuracy: 0.9136 - val_loss: 0.3458 - val_accuracy: 0.8816\n",
                        "Epoch 15/25\n",
                        "430/430 [==============================] - 1s 2ms/step - loss: 0.2281 - accuracy: 0.9182 - val_loss: 0.3261 - val_accuracy: 0.8838\n",
                        "Epoch 16/25\n",
                        "430/430 [==============================] - 1s 2ms/step - loss: 0.2161 - accuracy: 0.9231 - val_loss: 0.3295 - val_accuracy: 0.8838\n",
                        "Epoch 17/25\n",
                        "430/430 [==============================] - 1s 2ms/step - loss: 0.2064 - accuracy: 0.9263 - val_loss: 0.3348 - val_accuracy: 0.8872\n",
                        "Epoch 18/25\n",
                        "430/430 [==============================] - 1s 2ms/step - loss: 0.1980 - accuracy: 0.9303 - val_loss: 0.3241 - val_accuracy: 0.8906\n",
                        "Epoch 19/25\n",
                        "430/430 [==============================] - 1s 2ms/step - loss: 0.1893 - accuracy: 0.9338 - val_loss: 0.3231 - val_accuracy: 0.8914\n",
                        "Epoch 20/25\n",
                        "430/430 [==============================] - 1s 2ms/step - loss: 0.1822 - accuracy: 0.9369 - val_loss: 0.3223 - val_accuracy: 0.8928\n",
                        "Epoch 21/25\n",
                        "430/430 [==============================] - 1s 2ms/step - loss: 0.1753 - accuracy: 0.9399 - val_loss: 0.3218 - val_accuracy: 0.8926\n",
                        "Epoch 22/25\n",
                        "430/430 [==============================] - 1s 2ms/step - loss: 0.1701 - accuracy: 0.9418 - val_loss: 0.3180 - val_accuracy: 0.8944\n",
                        "Epoch 23/25\n",
                        "430/430 [==============================] - 1s 2ms/step - loss: 0.1655 - accuracy: 0.9437 - val_loss: 0.3185 - val_accuracy: 0.8946\n",
                        "Epoch 24/25\n",
                        "430/430 [==============================] - 1s 2ms/step - loss: 0.1627 - accuracy: 0.9457 - val_loss: 0.3176 - val_accuracy: 0.8940\n",
                        "Epoch 25/25\n",
                        "430/430 [==============================] - 1s 2ms/step - loss: 0.1610 - accuracy: 0.9462 - val_loss: 0.3168 - val_accuracy: 0.8952\n"
                    ]
                }
            ],
            "source": [
                "n_epochs = 25\n",
                "onecycle = OneCycleScheduler(math.ceil(len(X_train) / batch_size) * n_epochs,\n",
                "                             max_rate=0.05)\n",
                "history = model.fit(X_train_scaled,\n",
                "                    y_train,\n",
                "                    epochs=n_epochs,\n",
                "                    batch_size=batch_size,\n",
                "                    validation_data=(X_valid_scaled, y_valid),\n",
                "                    callbacks=[onecycle])"
            ]
        },
        {
            "cell_type": "markdown",
            "metadata": {},
            "source": [
                "# Avoiding Overfitting Through Regularization\n"
            ]
        },
        {
            "cell_type": "markdown",
            "metadata": {},
            "source": [
                "## $\\ell_1$ and $\\ell_2$ regularization\n"
            ]
        },
        {
            "cell_type": "code",
            "execution_count": 105,
            "metadata": {},
            "outputs": [],
            "source": [
                "layer = keras.layers.Dense(100,\n",
                "                           activation=\"elu\",\n",
                "                           kernel_initializer=\"he_normal\",\n",
                "                           kernel_regularizer=keras.regularizers.l2(0.01))\n",
                "# or l1(0.1) for ℓ1 regularization with a factor of 0.1\n",
                "# or l1_l2(0.1, 0.01) for both ℓ1 and ℓ2 regularization, with factors 0.1 and 0.01 respectively"
            ]
        },
        {
            "cell_type": "code",
            "execution_count": 106,
            "metadata": {},
            "outputs": [
                {
                    "name": "stdout",
                    "output_type": "stream",
                    "text": [
                        "Epoch 1/2\n",
                        "1719/1719 [==============================] - 5s 3ms/step - loss: 1.5956 - accuracy: 0.8124 - val_loss: 0.7169 - val_accuracy: 0.8340\n",
                        "Epoch 2/2\n",
                        "1719/1719 [==============================] - 5s 3ms/step - loss: 0.7197 - accuracy: 0.8274 - val_loss: 0.6850 - val_accuracy: 0.8376\n"
                    ]
                }
            ],
            "source": [
                "model = keras.models.Sequential([\n",
                "    keras.layers.Flatten(input_shape=[28, 28]),\n",
                "    keras.layers.Dense(300,\n",
                "                       activation=\"elu\",\n",
                "                       kernel_initializer=\"he_normal\",\n",
                "                       kernel_regularizer=keras.regularizers.l2(0.01)),\n",
                "    keras.layers.Dense(100,\n",
                "                       activation=\"elu\",\n",
                "                       kernel_initializer=\"he_normal\",\n",
                "                       kernel_regularizer=keras.regularizers.l2(0.01)),\n",
                "    keras.layers.Dense(10,\n",
                "                       activation=\"softmax\",\n",
                "                       kernel_regularizer=keras.regularizers.l2(0.01))\n",
                "])\n",
                "model.compile(loss=\"sparse_categorical_crossentropy\",\n",
                "              optimizer=\"nadam\",\n",
                "              metrics=[\"accuracy\"])\n",
                "n_epochs = 2\n",
                "history = model.fit(X_train_scaled,\n",
                "                    y_train,\n",
                "                    epochs=n_epochs,\n",
                "                    validation_data=(X_valid_scaled, y_valid))"
            ]
        },
        {
            "cell_type": "code",
            "execution_count": 107,
            "metadata": {},
            "outputs": [
                {
                    "name": "stdout",
                    "output_type": "stream",
                    "text": [
                        "Epoch 1/2\n",
                        "1719/1719 [==============================] - 5s 3ms/step - loss: 1.6313 - accuracy: 0.8113 - val_loss: 0.7218 - val_accuracy: 0.8310\n",
                        "Epoch 2/2\n",
                        "1719/1719 [==============================] - 4s 3ms/step - loss: 0.7187 - accuracy: 0.8273 - val_loss: 0.6826 - val_accuracy: 0.8382\n"
                    ]
                }
            ],
            "source": [
                "from functools import partial\n",
                "\n",
                "RegularizedDense = partial(keras.layers.Dense,\n",
                "                           activation=\"elu\",\n",
                "                           kernel_initializer=\"he_normal\",\n",
                "                           kernel_regularizer=keras.regularizers.l2(0.01))\n",
                "\n",
                "model = keras.models.Sequential([\n",
                "    keras.layers.Flatten(input_shape=[28, 28]),\n",
                "    RegularizedDense(300),\n",
                "    RegularizedDense(100),\n",
                "    RegularizedDense(10, activation=\"softmax\")\n",
                "])\n",
                "model.compile(loss=\"sparse_categorical_crossentropy\",\n",
                "              optimizer=\"nadam\",\n",
                "              metrics=[\"accuracy\"])\n",
                "n_epochs = 2\n",
                "history = model.fit(X_train_scaled,\n",
                "                    y_train,\n",
                "                    epochs=n_epochs,\n",
                "                    validation_data=(X_valid_scaled, y_valid))"
            ]
        },
        {
            "cell_type": "markdown",
            "metadata": {},
            "source": [
                "## Dropout\n"
            ]
        },
        {
            "cell_type": "code",
            "execution_count": 108,
            "metadata": {},
            "outputs": [
                {
                    "name": "stdout",
                    "output_type": "stream",
                    "text": [
                        "Epoch 1/2\n",
                        "1719/1719 [==============================] - 5s 3ms/step - loss: 0.5838 - accuracy: 0.7997 - val_loss: 0.3730 - val_accuracy: 0.8644\n",
                        "Epoch 2/2\n",
                        "1719/1719 [==============================] - 4s 3ms/step - loss: 0.4209 - accuracy: 0.8443 - val_loss: 0.3395 - val_accuracy: 0.8722\n"
                    ]
                }
            ],
            "source": [
                "model = keras.models.Sequential([\n",
                "    keras.layers.Flatten(input_shape=[28, 28]),\n",
                "    keras.layers.Dropout(rate=0.2),\n",
                "    keras.layers.Dense(300, activation=\"elu\", kernel_initializer=\"he_normal\"),\n",
                "    keras.layers.Dropout(rate=0.2),\n",
                "    keras.layers.Dense(100, activation=\"elu\", kernel_initializer=\"he_normal\"),\n",
                "    keras.layers.Dropout(rate=0.2),\n",
                "    keras.layers.Dense(10, activation=\"softmax\")\n",
                "])\n",
                "model.compile(loss=\"sparse_categorical_crossentropy\",\n",
                "              optimizer=\"nadam\",\n",
                "              metrics=[\"accuracy\"])\n",
                "n_epochs = 2\n",
                "history = model.fit(X_train_scaled,\n",
                "                    y_train,\n",
                "                    epochs=n_epochs,\n",
                "                    validation_data=(X_valid_scaled, y_valid))"
            ]
        },
        {
            "cell_type": "markdown",
            "metadata": {},
            "source": [
                "## Alpha Dropout\n"
            ]
        },
        {
            "cell_type": "code",
            "execution_count": 109,
            "metadata": {},
            "outputs": [],
            "source": [
                "tf.random.set_seed(42)\n",
                "np.random.seed(42)"
            ]
        },
        {
            "cell_type": "code",
            "execution_count": 110,
            "metadata": {},
            "outputs": [
                {
                    "name": "stdout",
                    "output_type": "stream",
                    "text": [
                        "Epoch 1/20\n",
                        "1719/1719 [==============================] - 3s 2ms/step - loss: 0.6617 - accuracy: 0.7611 - val_loss: 0.5756 - val_accuracy: 0.8410\n",
                        "Epoch 2/20\n",
                        "1719/1719 [==============================] - 3s 1ms/step - loss: 0.5547 - accuracy: 0.7970 - val_loss: 0.5404 - val_accuracy: 0.8478\n",
                        "Epoch 3/20\n",
                        "1719/1719 [==============================] - 3s 1ms/step - loss: 0.5254 - accuracy: 0.8060 - val_loss: 0.5018 - val_accuracy: 0.8554\n",
                        "Epoch 4/20\n",
                        "1719/1719 [==============================] - 3s 1ms/step - loss: 0.5047 - accuracy: 0.8131 - val_loss: 0.4773 - val_accuracy: 0.8592\n",
                        "Epoch 5/20\n",
                        "1719/1719 [==============================] - 2s 1ms/step - loss: 0.4926 - accuracy: 0.8167 - val_loss: 0.4651 - val_accuracy: 0.8604\n",
                        "Epoch 6/20\n",
                        "1719/1719 [==============================] - 3s 2ms/step - loss: 0.4839 - accuracy: 0.8200 - val_loss: 0.4851 - val_accuracy: 0.8566\n",
                        "Epoch 7/20\n",
                        "1719/1719 [==============================] - 3s 2ms/step - loss: 0.4717 - accuracy: 0.8248 - val_loss: 0.5079 - val_accuracy: 0.8482\n",
                        "Epoch 8/20\n",
                        "1719/1719 [==============================] - 3s 2ms/step - loss: 0.4643 - accuracy: 0.8289 - val_loss: 0.4548 - val_accuracy: 0.8642\n",
                        "Epoch 9/20\n",
                        "1719/1719 [==============================] - 3s 2ms/step - loss: 0.4614 - accuracy: 0.8294 - val_loss: 0.4327 - val_accuracy: 0.8734\n",
                        "Epoch 10/20\n",
                        "1719/1719 [==============================] - 3s 2ms/step - loss: 0.4526 - accuracy: 0.8316 - val_loss: 0.4435 - val_accuracy: 0.8628\n",
                        "Epoch 11/20\n",
                        "1719/1719 [==============================] - 3s 2ms/step - loss: 0.4481 - accuracy: 0.8341 - val_loss: 0.3992 - val_accuracy: 0.8784\n",
                        "Epoch 12/20\n",
                        "1719/1719 [==============================] - 3s 2ms/step - loss: 0.4428 - accuracy: 0.8345 - val_loss: 0.5319 - val_accuracy: 0.8546\n",
                        "Epoch 13/20\n",
                        "1719/1719 [==============================] - 3s 2ms/step - loss: 0.4429 - accuracy: 0.8350 - val_loss: 0.4156 - val_accuracy: 0.8778\n",
                        "Epoch 14/20\n",
                        "1719/1719 [==============================] - 3s 2ms/step - loss: 0.4377 - accuracy: 0.8379 - val_loss: 0.4621 - val_accuracy: 0.8622\n",
                        "Epoch 15/20\n",
                        "1719/1719 [==============================] - 3s 1ms/step - loss: 0.4323 - accuracy: 0.8394 - val_loss: 0.4527 - val_accuracy: 0.8680\n",
                        "Epoch 16/20\n",
                        "1719/1719 [==============================] - 2s 1ms/step - loss: 0.4307 - accuracy: 0.8401 - val_loss: 0.4325 - val_accuracy: 0.8734\n",
                        "Epoch 17/20\n",
                        "1719/1719 [==============================] - 3s 2ms/step - loss: 0.4290 - accuracy: 0.8417 - val_loss: 0.5064 - val_accuracy: 0.8634\n",
                        "Epoch 18/20\n",
                        "1719/1719 [==============================] - 3s 1ms/step - loss: 0.4275 - accuracy: 0.8404 - val_loss: 0.4738 - val_accuracy: 0.8762\n",
                        "Epoch 19/20\n",
                        "1719/1719 [==============================] - 3s 2ms/step - loss: 0.4245 - accuracy: 0.8421 - val_loss: 0.4723 - val_accuracy: 0.8720\n",
                        "Epoch 20/20\n",
                        "1719/1719 [==============================] - 3s 2ms/step - loss: 0.4184 - accuracy: 0.8435 - val_loss: 0.4269 - val_accuracy: 0.8756\n"
                    ]
                }
            ],
            "source": [
                "model = keras.models.Sequential([\n",
                "    keras.layers.Flatten(input_shape=[28, 28]),\n",
                "    keras.layers.AlphaDropout(rate=0.2),\n",
                "    keras.layers.Dense(300,\n",
                "                       activation=\"selu\",\n",
                "                       kernel_initializer=\"lecun_normal\"),\n",
                "    keras.layers.AlphaDropout(rate=0.2),\n",
                "    keras.layers.Dense(100,\n",
                "                       activation=\"selu\",\n",
                "                       kernel_initializer=\"lecun_normal\"),\n",
                "    keras.layers.AlphaDropout(rate=0.2),\n",
                "    keras.layers.Dense(10, activation=\"softmax\")\n",
                "])\n",
                "optimizer = keras.optimizers.SGD(learning_rate=0.01,\n",
                "                                 momentum=0.9,\n",
                "                                 nesterov=True)\n",
                "model.compile(loss=\"sparse_categorical_crossentropy\",\n",
                "              optimizer=optimizer,\n",
                "              metrics=[\"accuracy\"])\n",
                "n_epochs = 20\n",
                "history = model.fit(X_train_scaled,\n",
                "                    y_train,\n",
                "                    epochs=n_epochs,\n",
                "                    validation_data=(X_valid_scaled, y_valid))"
            ]
        },
        {
            "cell_type": "code",
            "execution_count": 111,
            "metadata": {},
            "outputs": [
                {
                    "name": "stdout",
                    "output_type": "stream",
                    "text": [
                        "313/313 [==============================] - 0s 837us/step - loss: 0.4732 - accuracy: 0.8604\n"
                    ]
                },
                {
                    "data": {
                        "text/plain": [
                            "[0.473209023475647, 0.8604000210762024]"
                        ]
                    },
                    "execution_count": 111,
                    "metadata": {},
                    "output_type": "execute_result"
                }
            ],
            "source": [
                "model.evaluate(X_test_scaled, y_test)"
            ]
        },
        {
            "cell_type": "code",
            "execution_count": 112,
            "metadata": {},
            "outputs": [
                {
                    "name": "stdout",
                    "output_type": "stream",
                    "text": [
                        "1719/1719 [==============================] - 1s 623us/step - loss: 0.3458 - accuracy: 0.8834\n"
                    ]
                },
                {
                    "data": {
                        "text/plain": [
                            "[0.3457886576652527, 0.883400022983551]"
                        ]
                    },
                    "execution_count": 112,
                    "metadata": {},
                    "output_type": "execute_result"
                }
            ],
            "source": [
                "model.evaluate(X_train_scaled, y_train)"
            ]
        },
        {
            "cell_type": "code",
            "execution_count": 113,
            "metadata": {},
            "outputs": [
                {
                    "name": "stdout",
                    "output_type": "stream",
                    "text": [
                        "1719/1719 [==============================] - 2s 1ms/step - loss: 0.4183 - accuracy: 0.8439\n"
                    ]
                }
            ],
            "source": [
                "history = model.fit(X_train_scaled, y_train)"
            ]
        },
        {
            "cell_type": "markdown",
            "metadata": {},
            "source": [
                "## MC Dropout\n"
            ]
        },
        {
            "cell_type": "code",
            "execution_count": 114,
            "metadata": {},
            "outputs": [],
            "source": [
                "tf.random.set_seed(42)\n",
                "np.random.seed(42)"
            ]
        },
        {
            "cell_type": "code",
            "execution_count": 115,
            "metadata": {},
            "outputs": [],
            "source": [
                "y_probas = np.stack(\n",
                "    [model(X_test_scaled, training=True) for sample in range(100)])\n",
                "y_proba = y_probas.mean(axis=0)\n",
                "y_std = y_probas.std(axis=0)"
            ]
        },
        {
            "cell_type": "code",
            "execution_count": 116,
            "metadata": {},
            "outputs": [
                {
                    "data": {
                        "text/plain": [
                            "array([[0.  , 0.  , 0.  , 0.  , 0.  , 0.  , 0.  , 0.01, 0.  , 0.99]],\n",
                            "      dtype=float32)"
                        ]
                    },
                    "execution_count": 116,
                    "metadata": {},
                    "output_type": "execute_result"
                }
            ],
            "source": [
                "np.round(model.predict(X_test_scaled[:1]), 2)"
            ]
        },
        {
            "cell_type": "code",
            "execution_count": 117,
            "metadata": {},
            "outputs": [
                {
                    "data": {
                        "text/plain": [
                            "array([[[0.  , 0.  , 0.  , 0.  , 0.  , 0.67, 0.  , 0.15, 0.  , 0.18]],\n",
                            "\n",
                            "       [[0.  , 0.  , 0.  , 0.  , 0.  , 0.08, 0.  , 0.38, 0.  , 0.54]],\n",
                            "\n",
                            "       [[0.  , 0.  , 0.  , 0.  , 0.  , 0.08, 0.  , 0.2 , 0.  , 0.72]],\n",
                            "\n",
                            "       [[0.  , 0.  , 0.  , 0.  , 0.  , 0.04, 0.  , 0.3 , 0.  , 0.66]],\n",
                            "\n",
                            "       [[0.  , 0.  , 0.  , 0.  , 0.  , 0.43, 0.  , 0.26, 0.  , 0.31]],\n",
                            "\n",
                            "       [[0.  , 0.  , 0.  , 0.  , 0.  , 0.24, 0.  , 0.56, 0.  , 0.2 ]],\n",
                            "\n",
                            "       [[0.  , 0.  , 0.  , 0.  , 0.  , 0.02, 0.  , 0.01, 0.  , 0.97]],\n",
                            "\n",
                            "       [[0.  , 0.  , 0.  , 0.  , 0.  , 0.89, 0.  , 0.08, 0.  , 0.03]],\n",
                            "\n",
                            "       [[0.  , 0.  , 0.  , 0.  , 0.  , 0.01, 0.  , 0.45, 0.  , 0.54]],\n",
                            "\n",
                            "       [[0.  , 0.  , 0.  , 0.  , 0.  , 0.04, 0.  , 0.22, 0.  , 0.75]],\n",
                            "\n",
                            "       [[0.  , 0.  , 0.  , 0.  , 0.  , 0.1 , 0.  , 0.07, 0.  , 0.82]],\n",
                            "\n",
                            "       [[0.  , 0.  , 0.  , 0.  , 0.  , 0.56, 0.  , 0.13, 0.  , 0.31]],\n",
                            "\n",
                            "       [[0.  , 0.  , 0.  , 0.  , 0.  , 0.24, 0.  , 0.  , 0.  , 0.76]],\n",
                            "\n",
                            "       [[0.  , 0.  , 0.  , 0.  , 0.  , 0.02, 0.  , 0.08, 0.  , 0.9 ]],\n",
                            "\n",
                            "       [[0.  , 0.  , 0.  , 0.  , 0.  , 0.41, 0.  , 0.34, 0.  , 0.25]],\n",
                            "\n",
                            "       [[0.  , 0.  , 0.  , 0.  , 0.  , 0.37, 0.  , 0.45, 0.  , 0.18]],\n",
                            "\n",
                            "       [[0.  , 0.  , 0.  , 0.  , 0.  , 0.94, 0.  , 0.  , 0.  , 0.06]],\n",
                            "\n",
                            "       [[0.  , 0.  , 0.  , 0.  , 0.  , 0.01, 0.  , 0.36, 0.  , 0.63]],\n",
                            "\n",
                            "       [[0.  , 0.  , 0.  , 0.  , 0.  , 0.54, 0.  , 0.07, 0.  , 0.39]],\n",
                            "\n",
                            "       [[0.  , 0.  , 0.  , 0.  , 0.  , 0.43, 0.  , 0.43, 0.  , 0.14]],\n",
                            "\n",
                            "       [[0.  , 0.  , 0.  , 0.  , 0.  , 0.52, 0.  , 0.34, 0.  , 0.14]],\n",
                            "\n",
                            "       [[0.  , 0.  , 0.  , 0.  , 0.  , 0.34, 0.  , 0.31, 0.  , 0.35]],\n",
                            "\n",
                            "       [[0.  , 0.  , 0.  , 0.  , 0.  , 0.02, 0.  , 0.12, 0.  , 0.85]],\n",
                            "\n",
                            "       [[0.  , 0.  , 0.  , 0.  , 0.  , 0.05, 0.  , 0.18, 0.  , 0.76]],\n",
                            "\n",
                            "       [[0.  , 0.  , 0.  , 0.  , 0.  , 0.01, 0.  , 0.03, 0.  , 0.95]],\n",
                            "\n",
                            "       [[0.  , 0.  , 0.  , 0.  , 0.  , 0.03, 0.  , 0.41, 0.  , 0.56]],\n",
                            "\n",
                            "       [[0.  , 0.  , 0.  , 0.  , 0.  , 0.39, 0.  , 0.31, 0.  , 0.29]],\n",
                            "\n",
                            "       [[0.  , 0.  , 0.  , 0.  , 0.  , 0.02, 0.  , 0.45, 0.  , 0.53]],\n",
                            "\n",
                            "       [[0.  , 0.  , 0.  , 0.  , 0.  , 0.01, 0.  , 0.86, 0.  , 0.13]],\n",
                            "\n",
                            "       [[0.  , 0.  , 0.  , 0.  , 0.  , 0.02, 0.  , 0.12, 0.  , 0.86]],\n",
                            "\n",
                            "       [[0.  , 0.  , 0.  , 0.  , 0.  , 0.02, 0.  , 0.71, 0.  , 0.27]],\n",
                            "\n",
                            "       [[0.  , 0.  , 0.  , 0.  , 0.  , 0.03, 0.  , 0.74, 0.  , 0.23]],\n",
                            "\n",
                            "       [[0.  , 0.  , 0.  , 0.  , 0.  , 0.12, 0.  , 0.18, 0.  , 0.71]],\n",
                            "\n",
                            "       [[0.  , 0.  , 0.  , 0.  , 0.  , 0.02, 0.  , 0.07, 0.  , 0.91]],\n",
                            "\n",
                            "       [[0.  , 0.  , 0.  , 0.  , 0.  , 0.08, 0.  , 0.5 , 0.01, 0.41]],\n",
                            "\n",
                            "       [[0.  , 0.  , 0.  , 0.  , 0.  , 0.15, 0.  , 0.37, 0.  , 0.48]],\n",
                            "\n",
                            "       [[0.  , 0.  , 0.  , 0.  , 0.  , 0.  , 0.  , 0.65, 0.  , 0.34]],\n",
                            "\n",
                            "       [[0.  , 0.  , 0.  , 0.  , 0.  , 0.11, 0.  , 0.17, 0.  , 0.71]],\n",
                            "\n",
                            "       [[0.  , 0.  , 0.  , 0.  , 0.  , 0.07, 0.  , 0.03, 0.  , 0.9 ]],\n",
                            "\n",
                            "       [[0.  , 0.  , 0.  , 0.  , 0.  , 0.01, 0.  , 0.11, 0.  , 0.88]],\n",
                            "\n",
                            "       [[0.  , 0.  , 0.  , 0.  , 0.  , 0.19, 0.  , 0.43, 0.  , 0.38]],\n",
                            "\n",
                            "       [[0.  , 0.  , 0.  , 0.  , 0.  , 0.59, 0.  , 0.12, 0.  , 0.29]],\n",
                            "\n",
                            "       [[0.  , 0.  , 0.  , 0.  , 0.  , 0.02, 0.  , 0.31, 0.  , 0.67]],\n",
                            "\n",
                            "       [[0.  , 0.  , 0.  , 0.  , 0.  , 0.  , 0.  , 0.01, 0.  , 0.99]],\n",
                            "\n",
                            "       [[0.  , 0.  , 0.  , 0.  , 0.  , 0.03, 0.  , 0.39, 0.  , 0.58]],\n",
                            "\n",
                            "       [[0.  , 0.  , 0.  , 0.  , 0.  , 0.17, 0.  , 0.25, 0.  , 0.58]],\n",
                            "\n",
                            "       [[0.  , 0.  , 0.  , 0.  , 0.  , 0.23, 0.  , 0.11, 0.  , 0.67]],\n",
                            "\n",
                            "       [[0.  , 0.  , 0.  , 0.  , 0.  , 0.07, 0.  , 0.86, 0.  , 0.08]],\n",
                            "\n",
                            "       [[0.  , 0.  , 0.  , 0.  , 0.  , 0.03, 0.  , 0.93, 0.  , 0.04]],\n",
                            "\n",
                            "       [[0.  , 0.  , 0.  , 0.  , 0.  , 0.03, 0.  , 0.01, 0.  , 0.96]],\n",
                            "\n",
                            "       [[0.  , 0.  , 0.  , 0.  , 0.  , 0.51, 0.  , 0.3 , 0.  , 0.19]],\n",
                            "\n",
                            "       [[0.  , 0.  , 0.  , 0.  , 0.  , 0.05, 0.  , 0.24, 0.  , 0.71]],\n",
                            "\n",
                            "       [[0.  , 0.  , 0.  , 0.  , 0.  , 0.  , 0.  , 0.61, 0.  , 0.39]],\n",
                            "\n",
                            "       [[0.  , 0.  , 0.  , 0.  , 0.  , 0.01, 0.  , 0.15, 0.  , 0.83]],\n",
                            "\n",
                            "       [[0.  , 0.  , 0.  , 0.  , 0.  , 0.15, 0.  , 0.29, 0.  , 0.56]],\n",
                            "\n",
                            "       [[0.  , 0.  , 0.  , 0.  , 0.  , 0.03, 0.  , 0.02, 0.  , 0.95]],\n",
                            "\n",
                            "       [[0.  , 0.  , 0.  , 0.  , 0.  , 0.  , 0.  , 0.  , 0.  , 1.  ]],\n",
                            "\n",
                            "       [[0.  , 0.  , 0.  , 0.  , 0.  , 0.23, 0.  , 0.08, 0.  , 0.69]],\n",
                            "\n",
                            "       [[0.  , 0.  , 0.  , 0.  , 0.  , 0.01, 0.  , 0.96, 0.  , 0.03]],\n",
                            "\n",
                            "       [[0.  , 0.  , 0.  , 0.  , 0.  , 0.15, 0.  , 0.32, 0.  , 0.53]],\n",
                            "\n",
                            "       [[0.  , 0.  , 0.  , 0.  , 0.  , 0.01, 0.  , 0.29, 0.  , 0.7 ]],\n",
                            "\n",
                            "       [[0.  , 0.  , 0.  , 0.  , 0.  , 0.02, 0.  , 0.28, 0.  , 0.7 ]],\n",
                            "\n",
                            "       [[0.  , 0.  , 0.  , 0.  , 0.  , 0.1 , 0.  , 0.47, 0.  , 0.43]],\n",
                            "\n",
                            "       [[0.  , 0.  , 0.  , 0.  , 0.  , 0.09, 0.  , 0.21, 0.  , 0.7 ]],\n",
                            "\n",
                            "       [[0.  , 0.  , 0.  , 0.  , 0.  , 0.68, 0.  , 0.02, 0.  , 0.3 ]],\n",
                            "\n",
                            "       [[0.  , 0.  , 0.  , 0.  , 0.  , 0.1 , 0.  , 0.36, 0.  , 0.54]],\n",
                            "\n",
                            "       [[0.  , 0.  , 0.  , 0.  , 0.  , 0.01, 0.  , 0.42, 0.  , 0.57]],\n",
                            "\n",
                            "       [[0.  , 0.  , 0.  , 0.  , 0.  , 0.17, 0.  , 0.76, 0.  , 0.06]],\n",
                            "\n",
                            "       [[0.  , 0.  , 0.  , 0.  , 0.  , 0.13, 0.  , 0.12, 0.01, 0.74]],\n",
                            "\n",
                            "       [[0.  , 0.  , 0.  , 0.  , 0.  , 0.03, 0.  , 0.11, 0.  , 0.86]],\n",
                            "\n",
                            "       [[0.  , 0.  , 0.  , 0.  , 0.  , 0.34, 0.  , 0.35, 0.04, 0.27]],\n",
                            "\n",
                            "       [[0.  , 0.  , 0.  , 0.  , 0.  , 0.03, 0.  , 0.  , 0.  , 0.97]],\n",
                            "\n",
                            "       [[0.  , 0.  , 0.  , 0.  , 0.  , 0.02, 0.  , 0.1 , 0.  , 0.88]],\n",
                            "\n",
                            "       [[0.  , 0.  , 0.  , 0.  , 0.  , 0.93, 0.  , 0.01, 0.  , 0.07]],\n",
                            "\n",
                            "       [[0.  , 0.  , 0.  , 0.  , 0.  , 0.  , 0.  , 0.1 , 0.  , 0.9 ]],\n",
                            "\n",
                            "       [[0.  , 0.  , 0.  , 0.  , 0.  , 0.07, 0.  , 0.05, 0.  , 0.88]],\n",
                            "\n",
                            "       [[0.  , 0.  , 0.  , 0.  , 0.  , 0.09, 0.  , 0.12, 0.  , 0.79]],\n",
                            "\n",
                            "       [[0.  , 0.  , 0.  , 0.  , 0.  , 0.2 , 0.  , 0.3 , 0.  , 0.5 ]],\n",
                            "\n",
                            "       [[0.  , 0.  , 0.  , 0.  , 0.  , 0.1 , 0.  , 0.57, 0.  , 0.33]],\n",
                            "\n",
                            "       [[0.  , 0.  , 0.  , 0.  , 0.  , 0.15, 0.  , 0.36, 0.  , 0.5 ]],\n",
                            "\n",
                            "       [[0.  , 0.  , 0.  , 0.  , 0.  , 0.13, 0.  , 0.48, 0.  , 0.4 ]],\n",
                            "\n",
                            "       [[0.  , 0.  , 0.  , 0.  , 0.  , 0.01, 0.  , 0.43, 0.  , 0.56]],\n",
                            "\n",
                            "       [[0.  , 0.  , 0.  , 0.  , 0.  , 0.01, 0.  , 0.02, 0.  , 0.97]],\n",
                            "\n",
                            "       [[0.  , 0.  , 0.  , 0.  , 0.  , 0.03, 0.  , 0.32, 0.  , 0.64]],\n",
                            "\n",
                            "       [[0.  , 0.  , 0.  , 0.  , 0.  , 0.02, 0.  , 0.07, 0.  , 0.91]],\n",
                            "\n",
                            "       [[0.  , 0.  , 0.  , 0.  , 0.  , 0.73, 0.  , 0.03, 0.18, 0.06]],\n",
                            "\n",
                            "       [[0.  , 0.  , 0.  , 0.  , 0.  , 0.06, 0.  , 0.5 , 0.  , 0.44]],\n",
                            "\n",
                            "       [[0.  , 0.  , 0.  , 0.  , 0.  , 0.68, 0.  , 0.01, 0.  , 0.31]],\n",
                            "\n",
                            "       [[0.  , 0.  , 0.  , 0.  , 0.  , 0.  , 0.  , 0.  , 0.  , 1.  ]],\n",
                            "\n",
                            "       [[0.  , 0.  , 0.  , 0.  , 0.  , 0.  , 0.  , 0.12, 0.  , 0.88]],\n",
                            "\n",
                            "       [[0.  , 0.  , 0.  , 0.  , 0.  , 0.  , 0.  , 0.08, 0.  , 0.91]],\n",
                            "\n",
                            "       [[0.  , 0.  , 0.  , 0.  , 0.  , 0.03, 0.  , 0.09, 0.  , 0.88]],\n",
                            "\n",
                            "       [[0.  , 0.  , 0.  , 0.  , 0.  , 0.12, 0.  , 0.54, 0.07, 0.27]],\n",
                            "\n",
                            "       [[0.  , 0.  , 0.  , 0.  , 0.  , 0.1 , 0.  , 0.06, 0.  , 0.84]],\n",
                            "\n",
                            "       [[0.  , 0.  , 0.  , 0.  , 0.  , 0.64, 0.  , 0.16, 0.  , 0.2 ]],\n",
                            "\n",
                            "       [[0.  , 0.  , 0.  , 0.  , 0.  , 0.23, 0.  , 0.66, 0.  , 0.12]],\n",
                            "\n",
                            "       [[0.  , 0.  , 0.  , 0.  , 0.  , 0.69, 0.  , 0.18, 0.  , 0.13]],\n",
                            "\n",
                            "       [[0.  , 0.  , 0.  , 0.  , 0.  , 0.23, 0.  , 0.62, 0.  , 0.16]],\n",
                            "\n",
                            "       [[0.  , 0.  , 0.  , 0.  , 0.  , 0.  , 0.  , 0.  , 0.  , 1.  ]],\n",
                            "\n",
                            "       [[0.  , 0.  , 0.  , 0.  , 0.  , 0.  , 0.  , 0.29, 0.  , 0.71]]],\n",
                            "      dtype=float32)"
                        ]
                    },
                    "execution_count": 117,
                    "metadata": {},
                    "output_type": "execute_result"
                }
            ],
            "source": [
                "np.round(y_probas[:, :1], 2)"
            ]
        },
        {
            "cell_type": "code",
            "execution_count": 118,
            "metadata": {},
            "outputs": [
                {
                    "data": {
                        "text/plain": [
                            "array([[0.  , 0.  , 0.  , 0.  , 0.  , 0.18, 0.  , 0.27, 0.  , 0.55]],\n",
                            "      dtype=float32)"
                        ]
                    },
                    "execution_count": 118,
                    "metadata": {},
                    "output_type": "execute_result"
                }
            ],
            "source": [
                "np.round(y_proba[:1], 2)"
            ]
        },
        {
            "cell_type": "code",
            "execution_count": 119,
            "metadata": {},
            "outputs": [
                {
                    "data": {
                        "text/plain": [
                            "array([[0.  , 0.  , 0.  , 0.  , 0.  , 0.23, 0.  , 0.23, 0.02, 0.3 ]],\n",
                            "      dtype=float32)"
                        ]
                    },
                    "execution_count": 119,
                    "metadata": {},
                    "output_type": "execute_result"
                }
            ],
            "source": [
                "y_std = y_probas.std(axis=0)\n",
                "np.round(y_std[:1], 2)"
            ]
        },
        {
            "cell_type": "code",
            "execution_count": 120,
            "metadata": {},
            "outputs": [],
            "source": [
                "y_pred = np.argmax(y_proba, axis=1)"
            ]
        },
        {
            "cell_type": "code",
            "execution_count": 121,
            "metadata": {},
            "outputs": [
                {
                    "data": {
                        "text/plain": [
                            "0.87"
                        ]
                    },
                    "execution_count": 121,
                    "metadata": {},
                    "output_type": "execute_result"
                }
            ],
            "source": [
                "accuracy = np.sum(y_pred == y_test) / len(y_test)\n",
                "accuracy"
            ]
        },
        {
            "cell_type": "code",
            "execution_count": 122,
            "metadata": {},
            "outputs": [],
            "source": [
                "class MCDropout(keras.layers.Dropout):\n",
                "\n",
                "    def call(self, inputs):\n",
                "        return super().call(inputs, training=True)\n",
                "\n",
                "\n",
                "class MCAlphaDropout(keras.layers.AlphaDropout):\n",
                "\n",
                "    def call(self, inputs):\n",
                "        return super().call(inputs, training=True)"
            ]
        },
        {
            "cell_type": "code",
            "execution_count": 123,
            "metadata": {},
            "outputs": [],
            "source": [
                "tf.random.set_seed(42)\n",
                "np.random.seed(42)"
            ]
        },
        {
            "cell_type": "code",
            "execution_count": 124,
            "metadata": {},
            "outputs": [],
            "source": [
                "mc_model = keras.models.Sequential([\n",
                "    MCAlphaDropout(layer.rate)\n",
                "    if isinstance(layer, keras.layers.AlphaDropout) else layer\n",
                "    for layer in model.layers\n",
                "])"
            ]
        },
        {
            "cell_type": "code",
            "execution_count": 125,
            "metadata": {},
            "outputs": [
                {
                    "name": "stdout",
                    "output_type": "stream",
                    "text": [
                        "Model: \"sequential_23\"\n",
                        "_________________________________________________________________\n",
                        " Layer (type)                Output Shape              Param #   \n",
                        "=================================================================\n",
                        " flatten_19 (Flatten)        (None, 784)               0         \n",
                        "                                                                 \n",
                        " mc_alpha_dropout (MCAlphaDr  (None, 784)              0         \n",
                        " opout)                                                          \n",
                        "                                                                 \n",
                        " dense_267 (Dense)           (None, 300)               235500    \n",
                        "                                                                 \n",
                        " mc_alpha_dropout_1 (MCAlpha  (None, 300)              0         \n",
                        " Dropout)                                                        \n",
                        "                                                                 \n",
                        " dense_268 (Dense)           (None, 100)               30100     \n",
                        "                                                                 \n",
                        " mc_alpha_dropout_2 (MCAlpha  (None, 100)              0         \n",
                        " Dropout)                                                        \n",
                        "                                                                 \n",
                        " dense_269 (Dense)           (None, 10)                1010      \n",
                        "                                                                 \n",
                        "=================================================================\n",
                        "Total params: 266,610\n",
                        "Trainable params: 266,610\n",
                        "Non-trainable params: 0\n",
                        "_________________________________________________________________\n"
                    ]
                }
            ],
            "source": [
                "mc_model.summary()"
            ]
        },
        {
            "cell_type": "code",
            "execution_count": 126,
            "metadata": {},
            "outputs": [],
            "source": [
                "optimizer = keras.optimizers.SGD(learning_rate=0.01,\n",
                "                                 momentum=0.9,\n",
                "                                 nesterov=True)\n",
                "mc_model.compile(loss=\"sparse_categorical_crossentropy\",\n",
                "                 optimizer=optimizer,\n",
                "                 metrics=[\"accuracy\"])\n"
            ]
        },
        {
            "cell_type": "code",
            "execution_count": 127,
            "metadata": {},
            "outputs": [],
            "source": [
                "mc_model.set_weights(model.get_weights())"
            ]
        },
        {
            "cell_type": "markdown",
            "metadata": {},
            "source": [
                "Now we can use the model with MC Dropout:\n"
            ]
        },
        {
            "cell_type": "code",
            "execution_count": 128,
            "metadata": {},
            "outputs": [
                {
                    "data": {
                        "text/plain": [
                            "array([[0.  , 0.  , 0.  , 0.  , 0.  , 0.14, 0.  , 0.29, 0.  , 0.58]],\n",
                            "      dtype=float32)"
                        ]
                    },
                    "execution_count": 128,
                    "metadata": {},
                    "output_type": "execute_result"
                }
            ],
            "source": [
                "np.round(\n",
                "    np.mean([mc_model.predict(X_test_scaled[:1]) for sample in range(100)],\n",
                "            axis=0), 2)\n"
            ]
        },
        {
            "cell_type": "markdown",
            "metadata": {},
            "source": [
                "## Max norm\n"
            ]
        },
        {
            "cell_type": "code",
            "execution_count": 129,
            "metadata": {},
            "outputs": [],
            "source": [
                "layer = keras.layers.Dense(100,\n",
                "                           activation=\"selu\",\n",
                "                           kernel_initializer=\"lecun_normal\",\n",
                "                           kernel_constraint=keras.constraints.max_norm(1.))"
            ]
        },
        {
            "cell_type": "code",
            "execution_count": 130,
            "metadata": {},
            "outputs": [
                {
                    "name": "stdout",
                    "output_type": "stream",
                    "text": [
                        "Epoch 1/2\n",
                        "1719/1719 [==============================] - 5s 3ms/step - loss: 0.4742 - accuracy: 0.8327 - val_loss: 0.3727 - val_accuracy: 0.8644\n",
                        "Epoch 2/2\n",
                        "1719/1719 [==============================] - 4s 3ms/step - loss: 0.3550 - accuracy: 0.8709 - val_loss: 0.3637 - val_accuracy: 0.8700\n"
                    ]
                }
            ],
            "source": [
                "MaxNormDense = partial(keras.layers.Dense,\n",
                "                       activation=\"selu\",\n",
                "                       kernel_initializer=\"lecun_normal\",\n",
                "                       kernel_constraint=keras.constraints.max_norm(1.))\n",
                "\n",
                "model = keras.models.Sequential([\n",
                "    keras.layers.Flatten(input_shape=[28, 28]),\n",
                "    MaxNormDense(300),\n",
                "    MaxNormDense(100),\n",
                "    keras.layers.Dense(10, activation=\"softmax\")\n",
                "])\n",
                "model.compile(loss=\"sparse_categorical_crossentropy\",\n",
                "              optimizer=\"nadam\",\n",
                "              metrics=[\"accuracy\"])\n",
                "n_epochs = 2\n",
                "history = model.fit(X_train_scaled,\n",
                "                    y_train,\n",
                "                    epochs=n_epochs,\n",
                "                    validation_data=(X_valid_scaled, y_valid))"
            ]
        },
        {
            "cell_type": "markdown",
            "metadata": {},
            "source": [
                "# Exercises\n"
            ]
        },
        {
            "cell_type": "markdown",
            "metadata": {},
            "source": [
                "## 1. to 7.\n"
            ]
        },
        {
            "cell_type": "markdown",
            "metadata": {},
            "source": [
                "See appendix A.\n"
            ]
        },
        {
            "cell_type": "markdown",
            "metadata": {},
            "source": [
                "## 8. Deep Learning on CIFAR10\n"
            ]
        },
        {
            "cell_type": "markdown",
            "metadata": {},
            "source": [
                "### a.\n",
                "\n",
                "_Exercise: Build a DNN with 20 hidden layers of 100 neurons each (that's too many, but it's the point of this exercise). Use He initialization and the ELU activation function._\n"
            ]
        },
        {
            "cell_type": "code",
            "execution_count": 131,
            "metadata": {},
            "outputs": [],
            "source": [
                "keras.backend.clear_session()\n",
                "tf.random.set_seed(42)\n",
                "np.random.seed(42)\n",
                "\n",
                "model = keras.models.Sequential()\n",
                "model.add(keras.layers.Flatten(input_shape=[32, 32, 3]))\n",
                "for _ in range(20):\n",
                "    model.add(\n",
                "        keras.layers.Dense(100,\n",
                "                           activation=\"elu\",\n",
                "                           kernel_initializer=\"he_normal\"))"
            ]
        },
        {
            "cell_type": "markdown",
            "metadata": {},
            "source": [
                "### b.\n",
                "\n",
                "_Exercise: Using Nadam optimization and early stopping, train the network on the CIFAR10 dataset. You can load it with `keras.datasets.cifar10.load_data()`. The dataset is composed of 60,000 32 × 32–pixel color images (50,000 for training, 10,000 for testing) with 10 classes, so you'll need a softmax output layer with 10 neurons. Remember to search for the right learning rate each time you change the model's architecture or hyperparameters._\n"
            ]
        },
        {
            "cell_type": "markdown",
            "metadata": {},
            "source": [
                "Let's add the output layer to the model:\n"
            ]
        },
        {
            "cell_type": "code",
            "execution_count": 132,
            "metadata": {},
            "outputs": [],
            "source": [
                "model.add(keras.layers.Dense(10, activation=\"softmax\"))"
            ]
        },
        {
            "cell_type": "markdown",
            "metadata": {},
            "source": [
                "Let's use a Nadam optimizer with a learning rate of 5e-5. I tried learning rates 1e-5, 3e-5, 1e-4, 3e-4, 1e-3, 3e-3 and 1e-2, and I compared their learning curves for 10 epochs each (using the TensorBoard callback, below). The learning rates 3e-5 and 1e-4 were pretty good, so I tried 5e-5, which turned out to be slightly better.\n"
            ]
        },
        {
            "cell_type": "code",
            "execution_count": 133,
            "metadata": {},
            "outputs": [],
            "source": [
                "optimizer = keras.optimizers.Nadam(learning_rate=5e-5)\n",
                "model.compile(loss=\"sparse_categorical_crossentropy\",\n",
                "              optimizer=optimizer,\n",
                "              metrics=[\"accuracy\"])"
            ]
        },
        {
            "cell_type": "markdown",
            "metadata": {},
            "source": [
                "Let's load the CIFAR10 dataset. We also want to use early stopping, so we need a validation set. Let's use the first 5,000 images of the original training set as the validation set:\n"
            ]
        },
        {
            "cell_type": "code",
            "execution_count": 137,
            "metadata": {},
            "outputs": [],
            "source": [
                "# (X_train_full, y_train_full), (X_test,\n",
                "#                                y_test) = keras.datasets.cifar10.load_data()\n",
                "\n",
                "# np.savez(file=\"../../data-handson/cifar10_X.npz\",train=X_train_full, test=X_test)\n",
                "# np.savez(file=\"../../data-handson/cifar10_y.npz\",train=y_train_full, test=y_test)"
            ]
        },
        {
            "cell_type": "code",
            "execution_count": 138,
            "metadata": {},
            "outputs": [],
            "source": [
                "np.savez(file=\"../../data-handson/cifar10_X.npz\",train=X_train_full, test=X_test)\n",
                "np.savez(file=\"../../data-handson/cifar10_y.npz\",train=y_train_full, test=y_test)"
            ]
        },
        {
            "cell_type": "code",
            "execution_count": 139,
            "metadata": {},
            "outputs": [],
            "source": [
                "X = np.load(file=\"../../data-handson/cifar10_X.npz\")\n",
                "y = np.load(file=\"../../data-handson/cifar10_y.npz\")\n",
                "X_train_full, X_test = X[\"train\"], X[\"test\"]\n",
                "y_train_full, y_test = y[\"train\"], y[\"test\"]\n",
                "\n",
                "X_train = X_train_full[5000:]\n",
                "y_train = y_train_full[5000:]\n",
                "X_valid = X_train_full[:5000]\n",
                "y_valid = y_train_full[:5000]"
            ]
        },
        {
            "cell_type": "markdown",
            "metadata": {},
            "source": [
                "Now we can create the callbacks we need and train the model:\n"
            ]
        },
        {
            "cell_type": "code",
            "execution_count": 140,
            "metadata": {},
            "outputs": [],
            "source": [
                "early_stopping_cb = keras.callbacks.EarlyStopping(patience=20)\n",
                "model_checkpoint_cb = keras.callbacks.ModelCheckpoint(\"../../data-handson/my_cifar10_model.h5\",\n",
                "                                                      save_best_only=True)\n",
                "run_index = 1  # increment every time you train the model\n",
                "run_logdir = os.path.join(os.curdir, \"my_cifar10_logs\",\n",
                "                          \"run_{:03d}\".format(run_index))\n",
                "tensorboard_cb = keras.callbacks.TensorBoard(run_logdir)\n",
                "callbacks = [early_stopping_cb, model_checkpoint_cb, tensorboard_cb]"
            ]
        },
        {
            "cell_type": "code",
            "execution_count": 141,
            "metadata": {},
            "outputs": [
                {
                    "name": "stderr",
                    "output_type": "stream",
                    "text": [
                        "UsageError: Line magic function `%tensorboard` not found.\n"
                    ]
                }
            ],
            "source": [
                "%tensorboard --logdir=./my_cifar10_logs --port=6006"
            ]
        },
        {
            "cell_type": "code",
            "execution_count": 142,
            "metadata": {},
            "outputs": [
                {
                    "name": "stdout",
                    "output_type": "stream",
                    "text": [
                        "Epoch 1/100\n",
                        "1407/1407 [==============================] - 9s 5ms/step - loss: 4.1241 - accuracy: 0.1623 - val_loss: 2.1621 - val_accuracy: 0.2274\n",
                        "Epoch 2/100\n",
                        "1407/1407 [==============================] - 7s 5ms/step - loss: 2.0811 - accuracy: 0.2371 - val_loss: 2.0416 - val_accuracy: 0.2370\n",
                        "Epoch 3/100\n",
                        "1407/1407 [==============================] - 7s 5ms/step - loss: 1.9693 - accuracy: 0.2744 - val_loss: 1.9953 - val_accuracy: 0.2666\n",
                        "Epoch 4/100\n",
                        "1407/1407 [==============================] - 7s 5ms/step - loss: 1.8891 - accuracy: 0.3052 - val_loss: 1.9138 - val_accuracy: 0.3148\n",
                        "Epoch 5/100\n",
                        "1407/1407 [==============================] - 7s 5ms/step - loss: 1.8251 - accuracy: 0.3308 - val_loss: 1.8167 - val_accuracy: 0.3272\n",
                        "Epoch 6/100\n",
                        "1407/1407 [==============================] - 7s 5ms/step - loss: 1.7690 - accuracy: 0.3538 - val_loss: 1.7353 - val_accuracy: 0.3656\n",
                        "Epoch 7/100\n",
                        "1407/1407 [==============================] - 7s 5ms/step - loss: 1.7210 - accuracy: 0.3725 - val_loss: 1.7171 - val_accuracy: 0.3774\n",
                        "Epoch 8/100\n",
                        "1407/1407 [==============================] - 7s 5ms/step - loss: 1.6813 - accuracy: 0.3895 - val_loss: 1.6712 - val_accuracy: 0.3986\n",
                        "Epoch 9/100\n",
                        "1407/1407 [==============================] - 8s 5ms/step - loss: 1.6474 - accuracy: 0.4033 - val_loss: 1.6913 - val_accuracy: 0.3922\n",
                        "Epoch 10/100\n",
                        "1407/1407 [==============================] - 8s 5ms/step - loss: 1.6218 - accuracy: 0.4126 - val_loss: 1.6735 - val_accuracy: 0.3946\n",
                        "Epoch 11/100\n",
                        "1407/1407 [==============================] - 7s 5ms/step - loss: 1.5977 - accuracy: 0.4215 - val_loss: 1.6874 - val_accuracy: 0.3890\n",
                        "Epoch 12/100\n",
                        "1407/1407 [==============================] - 7s 5ms/step - loss: 1.5738 - accuracy: 0.4324 - val_loss: 1.6497 - val_accuracy: 0.4100\n",
                        "Epoch 13/100\n",
                        "1407/1407 [==============================] - 7s 5ms/step - loss: 1.5547 - accuracy: 0.4376 - val_loss: 1.6364 - val_accuracy: 0.4102\n",
                        "Epoch 14/100\n",
                        "1407/1407 [==============================] - 8s 5ms/step - loss: 1.5336 - accuracy: 0.4472 - val_loss: 1.6028 - val_accuracy: 0.4174\n",
                        "Epoch 15/100\n",
                        "1407/1407 [==============================] - 7s 5ms/step - loss: 1.5184 - accuracy: 0.4510 - val_loss: 1.5883 - val_accuracy: 0.4312\n",
                        "Epoch 16/100\n",
                        "1407/1407 [==============================] - 7s 5ms/step - loss: 1.4998 - accuracy: 0.4571 - val_loss: 1.5757 - val_accuracy: 0.4378\n",
                        "Epoch 17/100\n",
                        "1407/1407 [==============================] - 8s 5ms/step - loss: 1.4879 - accuracy: 0.4630 - val_loss: 1.5614 - val_accuracy: 0.4406\n",
                        "Epoch 18/100\n",
                        "1407/1407 [==============================] - 8s 5ms/step - loss: 1.4706 - accuracy: 0.4692 - val_loss: 1.5580 - val_accuracy: 0.4406\n",
                        "Epoch 19/100\n",
                        "1407/1407 [==============================] - 8s 6ms/step - loss: 1.4545 - accuracy: 0.4758 - val_loss: 1.5592 - val_accuracy: 0.4484\n",
                        "Epoch 20/100\n",
                        "1407/1407 [==============================] - 8s 6ms/step - loss: 1.4444 - accuracy: 0.4777 - val_loss: 1.5625 - val_accuracy: 0.4406\n",
                        "Epoch 21/100\n",
                        "1407/1407 [==============================] - 8s 6ms/step - loss: 1.4328 - accuracy: 0.4838 - val_loss: 1.5409 - val_accuracy: 0.4494\n",
                        "Epoch 22/100\n",
                        "1407/1407 [==============================] - 8s 5ms/step - loss: 1.4183 - accuracy: 0.4904 - val_loss: 1.5260 - val_accuracy: 0.4562\n",
                        "Epoch 23/100\n",
                        "1407/1407 [==============================] - 7s 5ms/step - loss: 1.4054 - accuracy: 0.4937 - val_loss: 1.5415 - val_accuracy: 0.4506\n",
                        "Epoch 24/100\n",
                        "1407/1407 [==============================] - 8s 6ms/step - loss: 1.3905 - accuracy: 0.5004 - val_loss: 1.5488 - val_accuracy: 0.4480\n",
                        "Epoch 25/100\n",
                        "1407/1407 [==============================] - 8s 5ms/step - loss: 1.3832 - accuracy: 0.5021 - val_loss: 1.5390 - val_accuracy: 0.4520\n",
                        "Epoch 26/100\n",
                        "1407/1407 [==============================] - 8s 6ms/step - loss: 1.3716 - accuracy: 0.5039 - val_loss: 1.5417 - val_accuracy: 0.4530\n",
                        "Epoch 27/100\n",
                        "1407/1407 [==============================] - 8s 6ms/step - loss: 1.3605 - accuracy: 0.5093 - val_loss: 1.4996 - val_accuracy: 0.4650\n",
                        "Epoch 28/100\n",
                        "1407/1407 [==============================] - 8s 6ms/step - loss: 1.3524 - accuracy: 0.5121 - val_loss: 1.5306 - val_accuracy: 0.4522\n",
                        "Epoch 29/100\n",
                        "1407/1407 [==============================] - 8s 6ms/step - loss: 1.3428 - accuracy: 0.5147 - val_loss: 1.5081 - val_accuracy: 0.4696\n",
                        "Epoch 30/100\n",
                        "1407/1407 [==============================] - 8s 6ms/step - loss: 1.3320 - accuracy: 0.5194 - val_loss: 1.5242 - val_accuracy: 0.4646\n",
                        "Epoch 31/100\n",
                        "1407/1407 [==============================] - 8s 6ms/step - loss: 1.3226 - accuracy: 0.5238 - val_loss: 1.5495 - val_accuracy: 0.4656\n",
                        "Epoch 32/100\n",
                        "1407/1407 [==============================] - 7s 5ms/step - loss: 1.3144 - accuracy: 0.5262 - val_loss: 1.5211 - val_accuracy: 0.4714\n",
                        "Epoch 33/100\n",
                        "1407/1407 [==============================] - 7s 5ms/step - loss: 1.3042 - accuracy: 0.5293 - val_loss: 1.5292 - val_accuracy: 0.4658\n",
                        "Epoch 34/100\n",
                        "1407/1407 [==============================] - 8s 6ms/step - loss: 1.2978 - accuracy: 0.5315 - val_loss: 1.5525 - val_accuracy: 0.4636\n",
                        "Epoch 35/100\n",
                        "1407/1407 [==============================] - 7s 5ms/step - loss: 1.2915 - accuracy: 0.5349 - val_loss: 1.5569 - val_accuracy: 0.4584\n",
                        "Epoch 36/100\n",
                        "1407/1407 [==============================] - 7s 5ms/step - loss: 1.2826 - accuracy: 0.5373 - val_loss: 1.5407 - val_accuracy: 0.4666\n",
                        "Epoch 37/100\n",
                        "1407/1407 [==============================] - 7s 5ms/step - loss: 1.2717 - accuracy: 0.5421 - val_loss: 1.4998 - val_accuracy: 0.4746\n",
                        "Epoch 38/100\n",
                        "1407/1407 [==============================] - 8s 5ms/step - loss: 1.2652 - accuracy: 0.5438 - val_loss: 1.5178 - val_accuracy: 0.4748\n",
                        "Epoch 39/100\n",
                        "1407/1407 [==============================] - 8s 5ms/step - loss: 1.2566 - accuracy: 0.5474 - val_loss: 1.5083 - val_accuracy: 0.4744\n",
                        "Epoch 40/100\n",
                        "1407/1407 [==============================] - 7s 5ms/step - loss: 1.2458 - accuracy: 0.5501 - val_loss: 1.5317 - val_accuracy: 0.4648\n",
                        "Epoch 41/100\n",
                        "1407/1407 [==============================] - 7s 5ms/step - loss: 1.2393 - accuracy: 0.5536 - val_loss: 1.5448 - val_accuracy: 0.4778\n",
                        "Epoch 42/100\n",
                        "1407/1407 [==============================] - 7s 5ms/step - loss: 1.2309 - accuracy: 0.5582 - val_loss: 1.5342 - val_accuracy: 0.4768\n",
                        "Epoch 43/100\n",
                        "1407/1407 [==============================] - 7s 5ms/step - loss: 1.2234 - accuracy: 0.5594 - val_loss: 1.5436 - val_accuracy: 0.4652\n",
                        "Epoch 44/100\n",
                        "1407/1407 [==============================] - 7s 5ms/step - loss: 1.2168 - accuracy: 0.5613 - val_loss: 1.5663 - val_accuracy: 0.4608\n",
                        "Epoch 45/100\n",
                        "1407/1407 [==============================] - 8s 6ms/step - loss: 1.2051 - accuracy: 0.5631 - val_loss: 1.5444 - val_accuracy: 0.4748\n",
                        "Epoch 46/100\n",
                        "1407/1407 [==============================] - 8s 5ms/step - loss: 1.2026 - accuracy: 0.5640 - val_loss: 1.5300 - val_accuracy: 0.4804\n",
                        "Epoch 47/100\n",
                        "1407/1407 [==============================] - 8s 6ms/step - loss: 1.1958 - accuracy: 0.5684 - val_loss: 1.5465 - val_accuracy: 0.4708\n"
                    ]
                },
                {
                    "data": {
                        "text/plain": [
                            "<keras.callbacks.History at 0x2e4718b20>"
                        ]
                    },
                    "execution_count": 142,
                    "metadata": {},
                    "output_type": "execute_result"
                }
            ],
            "source": [
                "model.fit(X_train,\n",
                "          y_train,\n",
                "          epochs=100,\n",
                "          validation_data=(X_valid, y_valid),\n",
                "          callbacks=callbacks)"
            ]
        },
        {
            "cell_type": "code",
            "execution_count": 144,
            "metadata": {},
            "outputs": [
                {
                    "name": "stdout",
                    "output_type": "stream",
                    "text": [
                        "157/157 [==============================] - 0s 2ms/step - loss: 1.5883 - accuracy: 0.4312\n"
                    ]
                },
                {
                    "data": {
                        "text/plain": [
                            "[1.5882885456085205, 0.4311999976634979]"
                        ]
                    },
                    "execution_count": 144,
                    "metadata": {},
                    "output_type": "execute_result"
                }
            ],
            "source": [
                "model = keras.models.load_model(\"../../data-handson/my_cifar10_model.h5\")\n",
                "model.evaluate(X_valid, y_valid)"
            ]
        },
        {
            "cell_type": "markdown",
            "metadata": {},
            "source": [
                "The model with the lowest validation loss gets about 47.6% accuracy on the validation set. It took 27 epochs to reach the lowest validation loss, with roughly 8 seconds per epoch on my laptop (without a GPU). Let's see if we can improve performance using Batch Normalization.\n"
            ]
        },
        {
            "cell_type": "markdown",
            "metadata": {},
            "source": [
                "### c.\n",
                "\n",
                "_Exercise: Now try adding Batch Normalization and compare the learning curves: Is it converging faster than before? Does it produce a better model? How does it affect training speed?_\n"
            ]
        },
        {
            "cell_type": "markdown",
            "metadata": {},
            "source": [
                "The code below is very similar to the code above, with a few changes:\n",
                "\n",
                "- I added a BN layer after every Dense layer (before the activation function), except for the output layer. I also added a BN layer before the first hidden layer.\n",
                "- I changed the learning rate to 5e-4. I experimented with 1e-5, 3e-5, 5e-5, 1e-4, 3e-4, 5e-4, 1e-3 and 3e-3, and I chose the one with the best validation performance after 20 epochs.\n",
                "- I renamed the run directories to run*bn*\\* and the model file name to my_cifar10_bn_model.h5.\n"
            ]
        },
        {
            "cell_type": "code",
            "execution_count": 145,
            "metadata": {},
            "outputs": [
                {
                    "name": "stdout",
                    "output_type": "stream",
                    "text": [
                        "Epoch 1/100\n",
                        "1407/1407 [==============================] - 14s 8ms/step - loss: 1.8445 - accuracy: 0.3407 - val_loss: 1.6620 - val_accuracy: 0.4112\n",
                        "Epoch 2/100\n",
                        "1407/1407 [==============================] - 11s 8ms/step - loss: 1.6699 - accuracy: 0.4064 - val_loss: 1.5882 - val_accuracy: 0.4332\n",
                        "Epoch 3/100\n",
                        "1407/1407 [==============================] - 12s 8ms/step - loss: 1.5999 - accuracy: 0.4317 - val_loss: 1.5354 - val_accuracy: 0.4436\n",
                        "Epoch 4/100\n",
                        "1407/1407 [==============================] - 11s 8ms/step - loss: 1.5518 - accuracy: 0.4461 - val_loss: 1.4975 - val_accuracy: 0.4688\n",
                        "Epoch 5/100\n",
                        "1407/1407 [==============================] - 11s 8ms/step - loss: 1.5048 - accuracy: 0.4673 - val_loss: 1.4609 - val_accuracy: 0.4716\n",
                        "Epoch 6/100\n",
                        "1407/1407 [==============================] - 11s 8ms/step - loss: 1.4677 - accuracy: 0.4798 - val_loss: 1.4237 - val_accuracy: 0.4918\n",
                        "Epoch 7/100\n",
                        "1407/1407 [==============================] - 11s 8ms/step - loss: 1.4351 - accuracy: 0.4903 - val_loss: 1.4177 - val_accuracy: 0.4976\n",
                        "Epoch 8/100\n",
                        "1407/1407 [==============================] - 11s 8ms/step - loss: 1.4057 - accuracy: 0.5014 - val_loss: 1.3740 - val_accuracy: 0.5036\n",
                        "Epoch 9/100\n",
                        "1407/1407 [==============================] - 11s 8ms/step - loss: 1.3822 - accuracy: 0.5134 - val_loss: 1.3768 - val_accuracy: 0.5116\n",
                        "Epoch 10/100\n",
                        "1407/1407 [==============================] - 11s 8ms/step - loss: 1.3596 - accuracy: 0.5188 - val_loss: 1.3474 - val_accuracy: 0.5234\n",
                        "Epoch 11/100\n",
                        "1407/1407 [==============================] - 11s 8ms/step - loss: 1.3426 - accuracy: 0.5234 - val_loss: 1.3452 - val_accuracy: 0.5254\n",
                        "Epoch 12/100\n",
                        "1407/1407 [==============================] - 10s 7ms/step - loss: 1.3165 - accuracy: 0.5354 - val_loss: 1.3739 - val_accuracy: 0.5088\n",
                        "Epoch 13/100\n",
                        "1407/1407 [==============================] - 10s 7ms/step - loss: 1.3030 - accuracy: 0.5388 - val_loss: 1.4007 - val_accuracy: 0.5092\n",
                        "Epoch 14/100\n",
                        "1407/1407 [==============================] - 10s 7ms/step - loss: 1.2851 - accuracy: 0.5452 - val_loss: 1.3448 - val_accuracy: 0.5292\n",
                        "Epoch 15/100\n",
                        "1407/1407 [==============================] - 10s 7ms/step - loss: 1.2656 - accuracy: 0.5528 - val_loss: 1.3660 - val_accuracy: 0.5270\n",
                        "Epoch 16/100\n",
                        "1407/1407 [==============================] - 10s 7ms/step - loss: 1.2546 - accuracy: 0.5579 - val_loss: 1.3590 - val_accuracy: 0.5276\n",
                        "Epoch 17/100\n",
                        "1407/1407 [==============================] - 11s 8ms/step - loss: 1.2365 - accuracy: 0.5629 - val_loss: 1.3229 - val_accuracy: 0.5392\n",
                        "Epoch 18/100\n",
                        "1407/1407 [==============================] - 11s 8ms/step - loss: 1.2203 - accuracy: 0.5681 - val_loss: 1.3354 - val_accuracy: 0.5322\n",
                        "Epoch 19/100\n",
                        "1407/1407 [==============================] - 11s 8ms/step - loss: 1.2050 - accuracy: 0.5744 - val_loss: 1.3419 - val_accuracy: 0.5314\n",
                        "Epoch 20/100\n",
                        "1407/1407 [==============================] - 11s 8ms/step - loss: 1.1945 - accuracy: 0.5787 - val_loss: 1.3591 - val_accuracy: 0.5286\n",
                        "Epoch 21/100\n",
                        "1407/1407 [==============================] - 11s 8ms/step - loss: 1.1784 - accuracy: 0.5843 - val_loss: 1.3647 - val_accuracy: 0.5264\n",
                        "Epoch 22/100\n",
                        "1407/1407 [==============================] - 11s 8ms/step - loss: 1.1626 - accuracy: 0.5888 - val_loss: 1.3371 - val_accuracy: 0.5448\n",
                        "Epoch 23/100\n",
                        "1407/1407 [==============================] - 11s 8ms/step - loss: 1.1553 - accuracy: 0.5957 - val_loss: 1.3271 - val_accuracy: 0.5402\n",
                        "Epoch 24/100\n",
                        "1407/1407 [==============================] - 11s 8ms/step - loss: 1.1390 - accuracy: 0.5977 - val_loss: 1.3377 - val_accuracy: 0.5360\n",
                        "Epoch 25/100\n",
                        "1407/1407 [==============================] - 11s 8ms/step - loss: 1.1280 - accuracy: 0.6009 - val_loss: 1.3331 - val_accuracy: 0.5428\n",
                        "Epoch 26/100\n",
                        "1407/1407 [==============================] - 11s 8ms/step - loss: 1.1149 - accuracy: 0.6053 - val_loss: 1.3298 - val_accuracy: 0.5408\n",
                        "Epoch 27/100\n",
                        "1407/1407 [==============================] - 11s 8ms/step - loss: 1.1021 - accuracy: 0.6113 - val_loss: 1.3466 - val_accuracy: 0.5384\n",
                        "Epoch 28/100\n",
                        "1407/1407 [==============================] - 11s 8ms/step - loss: 1.0986 - accuracy: 0.6140 - val_loss: 1.3487 - val_accuracy: 0.5314\n",
                        "Epoch 29/100\n",
                        "1407/1407 [==============================] - 11s 8ms/step - loss: 1.0820 - accuracy: 0.6185 - val_loss: 1.3278 - val_accuracy: 0.5526\n",
                        "Epoch 30/100\n",
                        "1407/1407 [==============================] - 11s 8ms/step - loss: 1.0721 - accuracy: 0.6216 - val_loss: 1.3590 - val_accuracy: 0.5404\n",
                        "Epoch 31/100\n",
                        "1407/1407 [==============================] - 11s 8ms/step - loss: 1.0613 - accuracy: 0.6258 - val_loss: 1.3785 - val_accuracy: 0.5376\n",
                        "Epoch 32/100\n",
                        "1407/1407 [==============================] - 11s 8ms/step - loss: 1.0531 - accuracy: 0.6276 - val_loss: 1.3677 - val_accuracy: 0.5406\n",
                        "Epoch 33/100\n",
                        "1407/1407 [==============================] - 11s 8ms/step - loss: 1.0395 - accuracy: 0.6318 - val_loss: 1.3334 - val_accuracy: 0.5564\n",
                        "Epoch 34/100\n",
                        "1407/1407 [==============================] - 11s 8ms/step - loss: 1.0361 - accuracy: 0.6348 - val_loss: 1.3385 - val_accuracy: 0.5454\n",
                        "Epoch 35/100\n",
                        "1407/1407 [==============================] - 11s 8ms/step - loss: 1.0214 - accuracy: 0.6425 - val_loss: 1.3534 - val_accuracy: 0.5380\n",
                        "Epoch 36/100\n",
                        "1407/1407 [==============================] - 11s 8ms/step - loss: 1.0143 - accuracy: 0.6416 - val_loss: 1.3487 - val_accuracy: 0.5434\n",
                        "Epoch 37/100\n",
                        "1407/1407 [==============================] - 11s 8ms/step - loss: 1.0015 - accuracy: 0.6466 - val_loss: 1.3739 - val_accuracy: 0.5364\n",
                        "157/157 [==============================] - 0s 2ms/step - loss: 1.3229 - accuracy: 0.5392\n"
                    ]
                },
                {
                    "data": {
                        "text/plain": [
                            "[1.3228894472122192, 0.5392000079154968]"
                        ]
                    },
                    "execution_count": 145,
                    "metadata": {},
                    "output_type": "execute_result"
                }
            ],
            "source": [
                "keras.backend.clear_session()\n",
                "tf.random.set_seed(42)\n",
                "np.random.seed(42)\n",
                "\n",
                "model = keras.models.Sequential()\n",
                "model.add(keras.layers.Flatten(input_shape=[32, 32, 3]))\n",
                "model.add(keras.layers.BatchNormalization())\n",
                "for _ in range(20):\n",
                "    model.add(keras.layers.Dense(100, kernel_initializer=\"he_normal\"))\n",
                "    model.add(keras.layers.BatchNormalization())\n",
                "    model.add(keras.layers.Activation(\"elu\"))\n",
                "model.add(keras.layers.Dense(10, activation=\"softmax\"))\n",
                "\n",
                "optimizer = keras.optimizers.Nadam(learning_rate=5e-4)\n",
                "model.compile(loss=\"sparse_categorical_crossentropy\",\n",
                "              optimizer=optimizer,\n",
                "              metrics=[\"accuracy\"])\n",
                "\n",
                "early_stopping_cb = keras.callbacks.EarlyStopping(patience=20)\n",
                "model_checkpoint_cb = keras.callbacks.ModelCheckpoint(\"../../data-handson/my_cifar10_bn_model.h5\",\n",
                "                                                      save_best_only=True)\n",
                "run_index = 1  # increment every time you train the model\n",
                "run_logdir = os.path.join(os.curdir, \"../../data-handson/my_cifar10_logs\",\n",
                "                          \"run_bn_{:03d}\".format(run_index))\n",
                "tensorboard_cb = keras.callbacks.TensorBoard(run_logdir)\n",
                "callbacks = [early_stopping_cb, model_checkpoint_cb, tensorboard_cb]\n",
                "\n",
                "model.fit(X_train,\n",
                "          y_train,\n",
                "          epochs=100,\n",
                "          validation_data=(X_valid, y_valid),\n",
                "          callbacks=callbacks)\n",
                "\n",
                "model = keras.models.load_model(\"../../data-handson/my_cifar10_bn_model.h5\")\n",
                "model.evaluate(X_valid, y_valid)"
            ]
        },
        {
            "cell_type": "markdown",
            "metadata": {},
            "source": [
                "- _Is the model converging faster than before?_ Much faster! The previous model took 27 epochs to reach the lowest validation loss, while the new model achieved that same loss in just 5 epochs and continued to make progress until the 16th epoch. The BN layers stabilized training and allowed us to use a much larger learning rate, so convergence was faster.\n",
                "- _Does BN produce a better model?_ Yes! The final model is also much better, with 54.0% accuracy instead of 47.6%. It's still not a very good model, but at least it's much better than before (a Convolutional Neural Network would do much better, but that's a different topic, see chapter 14).\n",
                "- _How does BN affect training speed?_ Although the model converged much faster, each epoch took about 12s instead of 8s, because of the extra computations required by the BN layers. But overall the training time (wall time) was shortened significantly!\n"
            ]
        },
        {
            "cell_type": "markdown",
            "metadata": {},
            "source": [
                "### d.\n",
                "\n",
                "_Exercise: Try replacing Batch Normalization with SELU, and make the necessary adjustements to ensure the network self-normalizes (i.e., standardize the input features, use LeCun normal initialization, make sure the DNN contains only a sequence of dense layers, etc.)._\n"
            ]
        },
        {
            "cell_type": "code",
            "execution_count": 146,
            "metadata": {
                "scrolled": true
            },
            "outputs": [
                {
                    "name": "stdout",
                    "output_type": "stream",
                    "text": [
                        "Epoch 1/100\n",
                        "1407/1407 [==============================] - 8s 5ms/step - loss: 1.9399 - accuracy: 0.3068 - val_loss: 1.8540 - val_accuracy: 0.3296\n",
                        "Epoch 2/100\n",
                        "1407/1407 [==============================] - 7s 5ms/step - loss: 1.7265 - accuracy: 0.3917 - val_loss: 1.7387 - val_accuracy: 0.3720\n",
                        "Epoch 3/100\n",
                        "1407/1407 [==============================] - 7s 5ms/step - loss: 1.6322 - accuracy: 0.4242 - val_loss: 1.6719 - val_accuracy: 0.3968\n",
                        "Epoch 4/100\n",
                        "1407/1407 [==============================] - 7s 5ms/step - loss: 1.5648 - accuracy: 0.4495 - val_loss: 1.5929 - val_accuracy: 0.4472\n",
                        "Epoch 5/100\n",
                        "1407/1407 [==============================] - 7s 5ms/step - loss: 1.5059 - accuracy: 0.4709 - val_loss: 1.5796 - val_accuracy: 0.4404\n",
                        "Epoch 6/100\n",
                        "1407/1407 [==============================] - 7s 5ms/step - loss: 1.4579 - accuracy: 0.4906 - val_loss: 1.5059 - val_accuracy: 0.4616\n",
                        "Epoch 7/100\n",
                        "1407/1407 [==============================] - 7s 5ms/step - loss: 1.4162 - accuracy: 0.5058 - val_loss: 1.5591 - val_accuracy: 0.4546\n",
                        "Epoch 8/100\n",
                        "1407/1407 [==============================] - 7s 5ms/step - loss: 1.3779 - accuracy: 0.5213 - val_loss: 1.4922 - val_accuracy: 0.4838\n",
                        "Epoch 9/100\n",
                        "1407/1407 [==============================] - 7s 5ms/step - loss: 1.3380 - accuracy: 0.5346 - val_loss: 1.4889 - val_accuracy: 0.4710\n",
                        "Epoch 10/100\n",
                        "1407/1407 [==============================] - 7s 5ms/step - loss: 1.3058 - accuracy: 0.5485 - val_loss: 1.4988 - val_accuracy: 0.4888\n",
                        "Epoch 11/100\n",
                        "1407/1407 [==============================] - 7s 5ms/step - loss: 1.2745 - accuracy: 0.5593 - val_loss: 1.5353 - val_accuracy: 0.4834\n",
                        "Epoch 12/100\n",
                        "1407/1407 [==============================] - 7s 5ms/step - loss: 1.2502 - accuracy: 0.5701 - val_loss: 1.5079 - val_accuracy: 0.4894\n",
                        "Epoch 13/100\n",
                        "1407/1407 [==============================] - 7s 5ms/step - loss: 1.2235 - accuracy: 0.5777 - val_loss: 1.4631 - val_accuracy: 0.5060\n",
                        "Epoch 14/100\n",
                        "1407/1407 [==============================] - 7s 5ms/step - loss: 1.2572 - accuracy: 0.5639 - val_loss: 1.4873 - val_accuracy: 0.4946\n",
                        "Epoch 15/100\n",
                        "1407/1407 [==============================] - 7s 5ms/step - loss: 1.1784 - accuracy: 0.5884 - val_loss: 1.5619 - val_accuracy: 0.4860\n",
                        "Epoch 16/100\n",
                        "1407/1407 [==============================] - 7s 5ms/step - loss: 1.1557 - accuracy: 0.6016 - val_loss: 1.5122 - val_accuracy: 0.5078\n",
                        "Epoch 17/100\n",
                        "1407/1407 [==============================] - 7s 5ms/step - loss: 1.1371 - accuracy: 0.6068 - val_loss: 1.5103 - val_accuracy: 0.4974\n",
                        "Epoch 18/100\n",
                        "1407/1407 [==============================] - 7s 5ms/step - loss: 1.1197 - accuracy: 0.6158 - val_loss: 1.5140 - val_accuracy: 0.5004\n",
                        "Epoch 19/100\n",
                        "1407/1407 [==============================] - 7s 5ms/step - loss: 1.1062 - accuracy: 0.6173 - val_loss: 1.5575 - val_accuracy: 0.5016\n",
                        "Epoch 20/100\n",
                        "1407/1407 [==============================] - 7s 5ms/step - loss: 1.0815 - accuracy: 0.6278 - val_loss: 1.5543 - val_accuracy: 0.5016\n",
                        "Epoch 21/100\n",
                        "1407/1407 [==============================] - 7s 5ms/step - loss: 1.0614 - accuracy: 0.6350 - val_loss: 1.5339 - val_accuracy: 0.5092\n",
                        "Epoch 22/100\n",
                        "1407/1407 [==============================] - 7s 5ms/step - loss: 1.0456 - accuracy: 0.6417 - val_loss: 1.5833 - val_accuracy: 0.5032\n",
                        "Epoch 23/100\n",
                        "1407/1407 [==============================] - 7s 5ms/step - loss: 1.0269 - accuracy: 0.6479 - val_loss: 1.5924 - val_accuracy: 0.4802\n",
                        "Epoch 24/100\n",
                        "1407/1407 [==============================] - 7s 5ms/step - loss: 1.0130 - accuracy: 0.6542 - val_loss: 1.5812 - val_accuracy: 0.5042\n",
                        "Epoch 25/100\n",
                        "1407/1407 [==============================] - 7s 5ms/step - loss: 0.9941 - accuracy: 0.6608 - val_loss: 1.5906 - val_accuracy: 0.5040\n",
                        "Epoch 26/100\n",
                        "1407/1407 [==============================] - 7s 5ms/step - loss: 0.9838 - accuracy: 0.6640 - val_loss: 1.6282 - val_accuracy: 0.4908\n",
                        "Epoch 27/100\n",
                        "1407/1407 [==============================] - 7s 5ms/step - loss: 0.9567 - accuracy: 0.6733 - val_loss: 1.5997 - val_accuracy: 0.5004\n",
                        "Epoch 28/100\n",
                        "1407/1407 [==============================] - 7s 5ms/step - loss: 0.9470 - accuracy: 0.6808 - val_loss: 1.6332 - val_accuracy: 0.4896\n",
                        "Epoch 29/100\n",
                        "1407/1407 [==============================] - 7s 5ms/step - loss: 0.9372 - accuracy: 0.6806 - val_loss: 1.6265 - val_accuracy: 0.4934\n",
                        "Epoch 30/100\n",
                        "1407/1407 [==============================] - 7s 5ms/step - loss: 0.9345 - accuracy: 0.6835 - val_loss: 1.6173 - val_accuracy: 0.4986\n",
                        "Epoch 31/100\n",
                        "1407/1407 [==============================] - 7s 5ms/step - loss: 0.9085 - accuracy: 0.6917 - val_loss: 1.6441 - val_accuracy: 0.4994\n",
                        "Epoch 32/100\n",
                        "1407/1407 [==============================] - 7s 5ms/step - loss: 0.8894 - accuracy: 0.6974 - val_loss: 1.6906 - val_accuracy: 0.5020\n",
                        "Epoch 33/100\n",
                        "1407/1407 [==============================] - 7s 5ms/step - loss: 1.0264 - accuracy: 0.6528 - val_loss: 1.5828 - val_accuracy: 0.4878\n",
                        "157/157 [==============================] - 0s 1ms/step - loss: 1.4631 - accuracy: 0.5060\n"
                    ]
                },
                {
                    "data": {
                        "text/plain": [
                            "[1.4630765914916992, 0.5059999823570251]"
                        ]
                    },
                    "execution_count": 146,
                    "metadata": {},
                    "output_type": "execute_result"
                }
            ],
            "source": [
                "keras.backend.clear_session()\n",
                "tf.random.set_seed(42)\n",
                "np.random.seed(42)\n",
                "\n",
                "model = keras.models.Sequential()\n",
                "model.add(keras.layers.Flatten(input_shape=[32, 32, 3]))\n",
                "for _ in range(20):\n",
                "    model.add(\n",
                "        keras.layers.Dense(100,\n",
                "                           kernel_initializer=\"lecun_normal\",\n",
                "                           activation=\"selu\"))\n",
                "model.add(keras.layers.Dense(10, activation=\"softmax\"))\n",
                "\n",
                "optimizer = keras.optimizers.Nadam(learning_rate=7e-4)\n",
                "model.compile(loss=\"sparse_categorical_crossentropy\",\n",
                "              optimizer=optimizer,\n",
                "              metrics=[\"accuracy\"])\n",
                "\n",
                "early_stopping_cb = keras.callbacks.EarlyStopping(patience=20)\n",
                "model_checkpoint_cb = keras.callbacks.ModelCheckpoint(\n",
                "    \"../../data-handson/my_cifar10_selu_model.h5\", save_best_only=True)\n",
                "run_index = 1  # increment every time you train the model\n",
                "run_logdir = os.path.join(os.curdir, \"../../data-handson/my_cifar10_logs\",\n",
                "                          \"run_selu_{:03d}\".format(run_index))\n",
                "tensorboard_cb = keras.callbacks.TensorBoard(run_logdir)\n",
                "callbacks = [early_stopping_cb, model_checkpoint_cb, tensorboard_cb]\n",
                "\n",
                "X_means = X_train.mean(axis=0)\n",
                "X_stds = X_train.std(axis=0)\n",
                "X_train_scaled = (X_train - X_means) / X_stds\n",
                "X_valid_scaled = (X_valid - X_means) / X_stds\n",
                "X_test_scaled = (X_test - X_means) / X_stds\n",
                "\n",
                "model.fit(X_train_scaled,\n",
                "          y_train,\n",
                "          epochs=100,\n",
                "          validation_data=(X_valid_scaled, y_valid),\n",
                "          callbacks=callbacks)\n",
                "\n",
                "model = keras.models.load_model(\"../../data-handson/my_cifar10_selu_model.h5\")\n",
                "model.evaluate(X_valid_scaled, y_valid)"
            ]
        },
        {
            "cell_type": "code",
            "execution_count": 147,
            "metadata": {},
            "outputs": [
                {
                    "name": "stdout",
                    "output_type": "stream",
                    "text": [
                        "157/157 [==============================] - 0s 1ms/step - loss: 1.4631 - accuracy: 0.5060\n"
                    ]
                },
                {
                    "data": {
                        "text/plain": [
                            "[1.4630765914916992, 0.5059999823570251]"
                        ]
                    },
                    "execution_count": 147,
                    "metadata": {},
                    "output_type": "execute_result"
                }
            ],
            "source": [
                "model = keras.models.load_model(\"../../data-handson/my_cifar10_selu_model.h5\")\n",
                "model.evaluate(X_valid_scaled, y_valid)"
            ]
        },
        {
            "cell_type": "markdown",
            "metadata": {},
            "source": [
                "We get 47.9% accuracy, which is not much better than the original model (47.6%), and not as good as the model using batch normalization (54.0%). However, convergence was almost as fast as with the BN model, plus each epoch took only 7 seconds. So it's by far the fastest model to train so far.\n"
            ]
        },
        {
            "cell_type": "markdown",
            "metadata": {},
            "source": [
                "### e.\n",
                "\n",
                "_Exercise: Try regularizing the model with alpha dropout. Then, without retraining your model, see if you can achieve better accuracy using MC Dropout._\n"
            ]
        },
        {
            "cell_type": "code",
            "execution_count": 148,
            "metadata": {},
            "outputs": [
                {
                    "name": "stdout",
                    "output_type": "stream",
                    "text": [
                        "Epoch 1/100\n",
                        "1407/1407 [==============================] - 8s 5ms/step - loss: 1.8856 - accuracy: 0.3306 - val_loss: 1.7551 - val_accuracy: 0.3850\n",
                        "Epoch 2/100\n",
                        "1407/1407 [==============================] - 7s 5ms/step - loss: 1.6547 - accuracy: 0.4170 - val_loss: 1.6838 - val_accuracy: 0.3964\n",
                        "Epoch 3/100\n",
                        "1407/1407 [==============================] - 7s 5ms/step - loss: 1.5662 - accuracy: 0.4476 - val_loss: 1.6039 - val_accuracy: 0.4368\n",
                        "Epoch 4/100\n",
                        "1407/1407 [==============================] - 7s 5ms/step - loss: 1.5032 - accuracy: 0.4722 - val_loss: 1.6108 - val_accuracy: 0.4398\n",
                        "Epoch 5/100\n",
                        "1407/1407 [==============================] - 7s 5ms/step - loss: 1.4466 - accuracy: 0.4938 - val_loss: 1.6110 - val_accuracy: 0.4460\n",
                        "Epoch 6/100\n",
                        "1407/1407 [==============================] - 7s 5ms/step - loss: 1.3984 - accuracy: 0.5127 - val_loss: 1.5438 - val_accuracy: 0.4692\n",
                        "Epoch 7/100\n",
                        "1407/1407 [==============================] - 7s 5ms/step - loss: 1.3589 - accuracy: 0.5272 - val_loss: 1.5600 - val_accuracy: 0.4816\n",
                        "Epoch 8/100\n",
                        "1407/1407 [==============================] - 7s 5ms/step - loss: 1.3137 - accuracy: 0.5452 - val_loss: 1.4837 - val_accuracy: 0.4940\n",
                        "Epoch 9/100\n",
                        "1407/1407 [==============================] - 7s 5ms/step - loss: 1.2810 - accuracy: 0.5546 - val_loss: 1.4976 - val_accuracy: 0.4954\n",
                        "Epoch 10/100\n",
                        "1407/1407 [==============================] - 7s 5ms/step - loss: 1.2463 - accuracy: 0.5675 - val_loss: 1.5516 - val_accuracy: 0.4922\n",
                        "Epoch 11/100\n",
                        "1407/1407 [==============================] - 7s 5ms/step - loss: 1.2199 - accuracy: 0.5777 - val_loss: 1.5299 - val_accuracy: 0.5006\n",
                        "Epoch 12/100\n",
                        "1407/1407 [==============================] - 7s 5ms/step - loss: 1.1900 - accuracy: 0.5915 - val_loss: 1.5229 - val_accuracy: 0.4988\n",
                        "Epoch 13/100\n",
                        "1407/1407 [==============================] - 7s 5ms/step - loss: 1.1591 - accuracy: 0.5990 - val_loss: 1.5908 - val_accuracy: 0.5078\n",
                        "Epoch 14/100\n",
                        "1407/1407 [==============================] - 7s 5ms/step - loss: 1.1335 - accuracy: 0.6084 - val_loss: 1.5485 - val_accuracy: 0.5024\n",
                        "Epoch 15/100\n",
                        "1407/1407 [==============================] - 7s 5ms/step - loss: 1.1075 - accuracy: 0.6203 - val_loss: 1.5894 - val_accuracy: 0.4978\n",
                        "Epoch 16/100\n",
                        "1407/1407 [==============================] - 7s 5ms/step - loss: 1.0835 - accuracy: 0.6296 - val_loss: 1.6208 - val_accuracy: 0.5050\n",
                        "Epoch 17/100\n",
                        "1407/1407 [==============================] - 7s 5ms/step - loss: 1.0666 - accuracy: 0.6326 - val_loss: 1.6244 - val_accuracy: 0.5120\n",
                        "Epoch 18/100\n",
                        "1407/1407 [==============================] - 7s 5ms/step - loss: 1.0433 - accuracy: 0.6441 - val_loss: 1.6346 - val_accuracy: 0.5056\n",
                        "Epoch 19/100\n",
                        "1407/1407 [==============================] - 7s 5ms/step - loss: 1.0239 - accuracy: 0.6521 - val_loss: 1.6729 - val_accuracy: 0.5092\n",
                        "Epoch 20/100\n",
                        "1407/1407 [==============================] - 7s 5ms/step - loss: 1.0013 - accuracy: 0.6591 - val_loss: 1.6498 - val_accuracy: 0.5096\n",
                        "Epoch 21/100\n",
                        "1407/1407 [==============================] - 7s 5ms/step - loss: 0.9817 - accuracy: 0.6690 - val_loss: 1.6921 - val_accuracy: 0.5152\n",
                        "Epoch 22/100\n",
                        "1407/1407 [==============================] - 7s 5ms/step - loss: 0.9599 - accuracy: 0.6724 - val_loss: 1.7799 - val_accuracy: 0.5024\n",
                        "Epoch 23/100\n",
                        "1407/1407 [==============================] - 7s 5ms/step - loss: 0.9411 - accuracy: 0.6770 - val_loss: 1.7015 - val_accuracy: 0.5040\n",
                        "Epoch 24/100\n",
                        "1407/1407 [==============================] - 7s 5ms/step - loss: 0.9307 - accuracy: 0.6848 - val_loss: 1.6887 - val_accuracy: 0.5044\n",
                        "Epoch 25/100\n",
                        "1407/1407 [==============================] - 7s 5ms/step - loss: 0.9041 - accuracy: 0.6917 - val_loss: 1.8542 - val_accuracy: 0.5006\n",
                        "Epoch 26/100\n",
                        "1407/1407 [==============================] - 7s 5ms/step - loss: 0.8945 - accuracy: 0.6955 - val_loss: 1.8414 - val_accuracy: 0.4944\n",
                        "Epoch 27/100\n",
                        "1407/1407 [==============================] - 7s 5ms/step - loss: 0.8802 - accuracy: 0.7028 - val_loss: 1.7563 - val_accuracy: 0.5048\n",
                        "Epoch 28/100\n",
                        "1407/1407 [==============================] - 7s 5ms/step - loss: 0.8691 - accuracy: 0.7082 - val_loss: 1.7597 - val_accuracy: 0.4910\n",
                        "157/157 [==============================] - 0s 1ms/step - loss: 1.4837 - accuracy: 0.4940\n"
                    ]
                },
                {
                    "data": {
                        "text/plain": [
                            "[1.4836994409561157, 0.49399998784065247]"
                        ]
                    },
                    "execution_count": 148,
                    "metadata": {},
                    "output_type": "execute_result"
                }
            ],
            "source": [
                "keras.backend.clear_session()\n",
                "tf.random.set_seed(42)\n",
                "np.random.seed(42)\n",
                "\n",
                "model = keras.models.Sequential()\n",
                "model.add(keras.layers.Flatten(input_shape=[32, 32, 3]))\n",
                "for _ in range(20):\n",
                "    model.add(\n",
                "        keras.layers.Dense(100,\n",
                "                           kernel_initializer=\"lecun_normal\",\n",
                "                           activation=\"selu\"))\n",
                "\n",
                "model.add(keras.layers.AlphaDropout(rate=0.1))\n",
                "model.add(keras.layers.Dense(10, activation=\"softmax\"))\n",
                "\n",
                "optimizer = keras.optimizers.Nadam(learning_rate=5e-4)\n",
                "model.compile(loss=\"sparse_categorical_crossentropy\",\n",
                "              optimizer=optimizer,\n",
                "              metrics=[\"accuracy\"])\n",
                "\n",
                "early_stopping_cb = keras.callbacks.EarlyStopping(patience=20)\n",
                "model_checkpoint_cb = keras.callbacks.ModelCheckpoint(\n",
                "    \"../../data-handson/my_cifar10_alpha_dropout_model.h5\",\n",
                "    save_best_only=True)\n",
                "run_index = 1  # increment every time you train the model\n",
                "run_logdir = os.path.join(os.curdir, \"../../data-handson/my_cifar10_logs\",\n",
                "                          \"run_alpha_dropout_{:03d}\".format(run_index))\n",
                "tensorboard_cb = keras.callbacks.TensorBoard(run_logdir)\n",
                "callbacks = [early_stopping_cb, model_checkpoint_cb, tensorboard_cb]\n",
                "\n",
                "X_means = X_train.mean(axis=0)\n",
                "X_stds = X_train.std(axis=0)\n",
                "X_train_scaled = (X_train - X_means) / X_stds\n",
                "X_valid_scaled = (X_valid - X_means) / X_stds\n",
                "X_test_scaled = (X_test - X_means) / X_stds\n",
                "\n",
                "model.fit(X_train_scaled,\n",
                "          y_train,\n",
                "          epochs=100,\n",
                "          validation_data=(X_valid_scaled, y_valid),\n",
                "          callbacks=callbacks)\n",
                "\n",
                "model = keras.models.load_model(\n",
                "    \"../../data-handson/my_cifar10_alpha_dropout_model.h5\")\n",
                "model.evaluate(X_valid_scaled, y_valid)"
            ]
        },
        {
            "cell_type": "markdown",
            "metadata": {},
            "source": [
                "The model reaches 48.9% accuracy on the validation set. That's very slightly better than without dropout (47.6%). With an extensive hyperparameter search, it might be possible to do better (I tried dropout rates of 5%, 10%, 20% and 40%, and learning rates 1e-4, 3e-4, 5e-4, and 1e-3), but probably not much better in this case.\n"
            ]
        },
        {
            "cell_type": "markdown",
            "metadata": {},
            "source": [
                "Let's use MC Dropout now. We will need the `MCAlphaDropout` class we used earlier, so let's just copy it here for convenience:\n"
            ]
        },
        {
            "cell_type": "code",
            "execution_count": 149,
            "metadata": {},
            "outputs": [],
            "source": [
                "class MCAlphaDropout(keras.layers.AlphaDropout):\n",
                "\n",
                "    def call(self, inputs):\n",
                "        return super().call(inputs, training=True)"
            ]
        },
        {
            "cell_type": "markdown",
            "metadata": {},
            "source": [
                "Now let's create a new model, identical to the one we just trained (with the same weights), but with `MCAlphaDropout` dropout layers instead of `AlphaDropout` layers:\n"
            ]
        },
        {
            "cell_type": "code",
            "execution_count": 150,
            "metadata": {},
            "outputs": [],
            "source": [
                "mc_model = keras.models.Sequential([\n",
                "    MCAlphaDropout(layer.rate)\n",
                "    if isinstance(layer, keras.layers.AlphaDropout) else layer\n",
                "    for layer in model.layers\n",
                "])"
            ]
        },
        {
            "cell_type": "markdown",
            "metadata": {},
            "source": [
                "Then let's add a couple utility functions. The first will run the model many times (10 by default) and it will return the mean predicted class probabilities. The second will use these mean probabilities to predict the most likely class for each instance:\n"
            ]
        },
        {
            "cell_type": "code",
            "execution_count": 151,
            "metadata": {},
            "outputs": [],
            "source": [
                "def mc_dropout_predict_probas(mc_model, X, n_samples=10):\n",
                "    Y_probas = [mc_model.predict(X) for sample in range(n_samples)]\n",
                "    return np.mean(Y_probas, axis=0)\n",
                "\n",
                "\n",
                "def mc_dropout_predict_classes(mc_model, X, n_samples=10):\n",
                "    Y_probas = mc_dropout_predict_probas(mc_model, X, n_samples)\n",
                "    return np.argmax(Y_probas, axis=1)"
            ]
        },
        {
            "cell_type": "markdown",
            "metadata": {},
            "source": [
                "Now let's make predictions for all the instances in the validation set, and compute the accuracy:\n"
            ]
        },
        {
            "cell_type": "code",
            "execution_count": 152,
            "metadata": {},
            "outputs": [
                {
                    "data": {
                        "text/plain": [
                            "0.4912"
                        ]
                    },
                    "execution_count": 152,
                    "metadata": {},
                    "output_type": "execute_result"
                }
            ],
            "source": [
                "keras.backend.clear_session()\n",
                "tf.random.set_seed(42)\n",
                "np.random.seed(42)\n",
                "\n",
                "y_pred = mc_dropout_predict_classes(mc_model, X_valid_scaled)\n",
                "accuracy = np.mean(y_pred == y_valid[:, 0])\n",
                "accuracy"
            ]
        },
        {
            "cell_type": "markdown",
            "metadata": {},
            "source": [
                "We get no accuracy improvement in this case (we're still at 48.9% accuracy).\n",
                "\n",
                "So the best model we got in this exercise is the Batch Normalization model.\n"
            ]
        },
        {
            "cell_type": "markdown",
            "metadata": {},
            "source": [
                "### f.\n",
                "\n",
                "_Exercise: Retrain your model using 1cycle scheduling and see if it improves training speed and model accuracy._\n"
            ]
        },
        {
            "cell_type": "code",
            "execution_count": 153,
            "metadata": {},
            "outputs": [],
            "source": [
                "keras.backend.clear_session()\n",
                "tf.random.set_seed(42)\n",
                "np.random.seed(42)\n",
                "\n",
                "model = keras.models.Sequential()\n",
                "model.add(keras.layers.Flatten(input_shape=[32, 32, 3]))\n",
                "for _ in range(20):\n",
                "    model.add(\n",
                "        keras.layers.Dense(100,\n",
                "                           kernel_initializer=\"lecun_normal\",\n",
                "                           activation=\"selu\"))\n",
                "\n",
                "model.add(keras.layers.AlphaDropout(rate=0.1))\n",
                "model.add(keras.layers.Dense(10, activation=\"softmax\"))\n",
                "\n",
                "optimizer = keras.optimizers.SGD(learning_rate=1e-3)\n",
                "model.compile(loss=\"sparse_categorical_crossentropy\",\n",
                "              optimizer=optimizer,\n",
                "              metrics=[\"accuracy\"])"
            ]
        },
        {
            "cell_type": "code",
            "execution_count": 154,
            "metadata": {},
            "outputs": [
                {
                    "name": "stdout",
                    "output_type": "stream",
                    "text": [
                        "352/352 [==============================] - 3s 7ms/step - loss: nan - accuracy: 0.1382\n"
                    ]
                },
                {
                    "data": {
                        "text/plain": [
                            "(9.999999747378752e-06,\n",
                            " 9.615227699279785,\n",
                            " 2.617628335952759,\n",
                            " 4.006586245128087)"
                        ]
                    },
                    "execution_count": 154,
                    "metadata": {},
                    "output_type": "execute_result"
                },
                {
                    "data": {
                        "image/png": "[encoded data removed]",
                        "text/plain": [
                            "<Figure size 432x288 with 1 Axes>"
                        ]
                    },
                    "metadata": {
                        "needs_background": "light"
                    },
                    "output_type": "display_data"
                }
            ],
            "source": [
                "batch_size = 128\n",
                "rates, losses = find_learning_rate(model,\n",
                "                                   X_train_scaled,\n",
                "                                   y_train,\n",
                "                                   epochs=1,\n",
                "                                   batch_size=batch_size)\n",
                "plot_lr_vs_loss(rates, losses)\n",
                "plt.axis(\n",
                "    [min(rates),\n",
                "     max(rates),\n",
                "     min(losses), (losses[0] + min(losses)) / 1.4])\n"
            ]
        },
        {
            "cell_type": "code",
            "execution_count": 155,
            "metadata": {},
            "outputs": [],
            "source": [
                "keras.backend.clear_session()\n",
                "tf.random.set_seed(42)\n",
                "np.random.seed(42)\n",
                "\n",
                "model = keras.models.Sequential()\n",
                "model.add(keras.layers.Flatten(input_shape=[32, 32, 3]))\n",
                "for _ in range(20):\n",
                "    model.add(\n",
                "        keras.layers.Dense(100,\n",
                "                           kernel_initializer=\"lecun_normal\",\n",
                "                           activation=\"selu\"))\n",
                "\n",
                "model.add(keras.layers.AlphaDropout(rate=0.1))\n",
                "model.add(keras.layers.Dense(10, activation=\"softmax\"))\n",
                "\n",
                "optimizer = keras.optimizers.SGD(learning_rate=1e-2)\n",
                "model.compile(loss=\"sparse_categorical_crossentropy\",\n",
                "              optimizer=optimizer,\n",
                "              metrics=[\"accuracy\"])"
            ]
        },
        {
            "cell_type": "code",
            "execution_count": 156,
            "metadata": {},
            "outputs": [
                {
                    "name": "stdout",
                    "output_type": "stream",
                    "text": [
                        "Epoch 1/15\n",
                        "352/352 [==============================] - 3s 8ms/step - loss: 2.0435 - accuracy: 0.2881 - val_loss: 1.7966 - val_accuracy: 0.3826\n",
                        "Epoch 2/15\n",
                        "352/352 [==============================] - 3s 8ms/step - loss: 1.7539 - accuracy: 0.3780 - val_loss: 1.6603 - val_accuracy: 0.4164\n",
                        "Epoch 3/15\n",
                        "352/352 [==============================] - 3s 8ms/step - loss: 1.6132 - accuracy: 0.4295 - val_loss: 1.6760 - val_accuracy: 0.4142\n",
                        "Epoch 4/15\n",
                        "352/352 [==============================] - 3s 8ms/step - loss: 1.5384 - accuracy: 0.4554 - val_loss: 1.5857 - val_accuracy: 0.4388\n",
                        "Epoch 5/15\n",
                        "352/352 [==============================] - 3s 8ms/step - loss: 1.4891 - accuracy: 0.4704 - val_loss: 1.5996 - val_accuracy: 0.4520\n",
                        "Epoch 6/15\n",
                        "352/352 [==============================] - 3s 8ms/step - loss: 1.4489 - accuracy: 0.4878 - val_loss: 1.5266 - val_accuracy: 0.4748\n",
                        "Epoch 7/15\n",
                        "352/352 [==============================] - 3s 8ms/step - loss: 1.4133 - accuracy: 0.4967 - val_loss: 1.6491 - val_accuracy: 0.4400\n",
                        "Epoch 8/15\n",
                        "352/352 [==============================] - 3s 8ms/step - loss: 1.3490 - accuracy: 0.5207 - val_loss: 1.5526 - val_accuracy: 0.4704\n",
                        "Epoch 9/15\n",
                        "352/352 [==============================] - 3s 8ms/step - loss: 1.2774 - accuracy: 0.5460 - val_loss: 1.5128 - val_accuracy: 0.4810\n",
                        "Epoch 10/15\n",
                        "352/352 [==============================] - 3s 8ms/step - loss: 1.2055 - accuracy: 0.5671 - val_loss: 1.5060 - val_accuracy: 0.5008\n",
                        "Epoch 11/15\n",
                        "352/352 [==============================] - 3s 8ms/step - loss: 1.1380 - accuracy: 0.5958 - val_loss: 1.5209 - val_accuracy: 0.5072\n",
                        "Epoch 12/15\n",
                        "352/352 [==============================] - 3s 8ms/step - loss: 1.0699 - accuracy: 0.6184 - val_loss: 1.4874 - val_accuracy: 0.5134\n",
                        "Epoch 13/15\n",
                        "352/352 [==============================] - 3s 8ms/step - loss: 0.9982 - accuracy: 0.6421 - val_loss: 1.5120 - val_accuracy: 0.5176\n",
                        "Epoch 14/15\n",
                        "352/352 [==============================] - 3s 8ms/step - loss: 0.9345 - accuracy: 0.6658 - val_loss: 1.5383 - val_accuracy: 0.5220\n",
                        "Epoch 15/15\n",
                        "352/352 [==============================] - 3s 8ms/step - loss: 0.8942 - accuracy: 0.6799 - val_loss: 1.5702 - val_accuracy: 0.5206\n"
                    ]
                }
            ],
            "source": [
                "n_epochs = 15\n",
                "onecycle = OneCycleScheduler(math.ceil(len(X_train_scaled) / batch_size) *\n",
                "                             n_epochs,\n",
                "                             max_rate=0.05)\n",
                "history = model.fit(X_train_scaled,\n",
                "                    y_train,\n",
                "                    epochs=n_epochs,\n",
                "                    batch_size=batch_size,\n",
                "                    validation_data=(X_valid_scaled, y_valid),\n",
                "                    callbacks=[onecycle])"
            ]
        },
        {
            "cell_type": "markdown",
            "metadata": {},
            "source": [
                "One cycle allowed us to train the model in just 15 epochs, each taking only 2 seconds (thanks to the larger batch size). This is several times faster than the fastest model we trained so far. Moreover, we improved the model's performance (from 47.6% to 52.0%). The batch normalized model reaches a slightly better performance (54%), but it's much slower to train.\n"
            ]
        }
    ],
    "metadata": {
        "kernelspec": {
            "display_name": "Python 3",
            "language": "python",
            "name": "python3"
        },
        "language_info": {
            "codemirror_mode": {
                "name": "ipython",
                "version": 3
            },
            "file_extension": ".py",
            "mimetype": "text/x-python",
            "name": "python",
            "nbconvert_exporter": "python",
            "pygments_lexer": "ipython3",
            "version": "3.10.2"
        },
        "nav_menu": {
            "height": "360px",
            "width": "416px"
        },
        "toc": {
            "navigate_menu": true,
            "number_sections": true,
            "sideBar": true,
            "threshold": 6,
            "toc_cell": false,
            "toc_section_display": "block",
            "toc_window_display": false
        }
    },
    "nbformat": 4,
    "nbformat_minor": 4
}
